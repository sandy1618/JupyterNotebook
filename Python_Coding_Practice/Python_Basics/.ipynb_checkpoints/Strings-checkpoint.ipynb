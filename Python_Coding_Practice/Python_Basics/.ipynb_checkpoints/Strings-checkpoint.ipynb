{
 "cells": [
  {
   "cell_type": "markdown",
   "metadata": {},
   "source": [
    "# Strings\n",
    "[geeks](https://www.geeksforgeeks.org/python-strings/)\n",
    "\n",
    "[tutorials_point](https://www.tutorialspoint.com/python/python_strings.htm)"
   ]
  },
  {
   "cell_type": "markdown",
   "metadata": {},
   "source": [
    "### Properties\n",
    "1. Immutable\n",
    "2. All characters are string in python\n"
   ]
  },
  {
   "cell_type": "markdown",
   "metadata": {},
   "source": [
    "## Accessing , Just like lists"
   ]
  },
  {
   "cell_type": "code",
   "execution_count": 10,
   "metadata": {},
   "outputs": [
    {
     "name": "stdout",
     "output_type": "stream",
     "text": [
      "He\n",
      "\n",
      "Slicing characters between 3rd and 2nd last character: \n",
      "ksForGee\n"
     ]
    }
   ],
   "source": [
    "var1 = 'Hello World!'\n",
    "print(var1[0:2])\n",
    "String1 = \"GeeksForGeeks\"\n",
    "print(\"\\nSlicing characters between \" +\n",
    "    \"3rd and 2nd last character: \") \n",
    "print(String1[3:-2]) "
   ]
  },
  {
   "cell_type": "markdown",
   "metadata": {},
   "source": [
    "## Delete/ Updating\n",
    "-can update the entire string by variable assignment\n",
    "\n",
    "-can delete the entire string by usign del keyword\n"
   ]
  },
  {
   "cell_type": "code",
   "execution_count": 2,
   "metadata": {},
   "outputs": [],
   "source": [
    "string1= 'A'\n",
    "del string1\n",
    "# print(string1) \n"
   ]
  },
  {
   "cell_type": "code",
   "execution_count": 3,
   "metadata": {},
   "outputs": [
    {
     "name": "stdout",
     "output_type": "stream",
     "text": [
      "C:\\Python\\Geeks\\\n",
      "C:\\\\Python\\\\Geeks\\\\\n"
     ]
    }
   ],
   "source": [
    "string2 = 'C:\\\\Python\\\\Geeks\\\\'\n",
    "#To ignore the escape sequences in a String, r or R is used, \n",
    "#this implies that the string is a raw string and escape sequences inside it are to be ignored.\n",
    "string3 = r'C:\\\\Python\\\\Geeks\\\\'\n",
    "print(string2)\n",
    "print(string3)"
   ]
  },
  {
   "cell_type": "markdown",
   "metadata": {},
   "source": [
    "## Use of three consecutive single or double quotes"
   ]
  },
  {
   "cell_type": "code",
   "execution_count": 6,
   "metadata": {},
   "outputs": [
    {
     "name": "stdout",
     "output_type": "stream",
     "text": [
      "hi,\n",
      "this is \n",
      "sandeep(\t)\n"
     ]
    }
   ],
   "source": [
    "# Can only be a single line, else error!\n",
    "string4 = \"sandeep nayak is a good boy\" \n",
    "string5 = \"\"\"hi , \n",
    "this is \n",
    "sandeep\"\"\"\n",
    "print(string5)"
   ]
  },
  {
   "cell_type": "markdown",
   "metadata": {},
   "source": [
    "## Operators in Strings\n"
   ]
  },
  {
   "cell_type": "code",
   "execution_count": 18,
   "metadata": {},
   "outputs": [
    {
     "name": "stdout",
     "output_type": "stream",
     "text": [
      "HelloPython\n",
      "HelloHelloHelloHello\n",
      "H\n",
      "l\n",
      "True\n",
      "False\n"
     ]
    }
   ],
   "source": [
    "a = \"Hello\"\n",
    "b = \"Python\"\n",
    "print(a+b)\n",
    "print(a*4)\n",
    "print(a[0])\n",
    "print(a[3:-1])\n",
    "print(\"H\" in a)\n",
    "print(\"H\" not in a)"
   ]
  },
  {
   "cell_type": "markdown",
   "metadata": {},
   "source": [
    "## Methods\n"
   ]
  },
  {
   "cell_type": "markdown",
   "metadata": {},
   "source": [
    "method | Usage | output | example\n",
    "----|----|-----|-----\n",
    "s.startswith() | "
   ]
  },
  {
   "cell_type": "code",
   "execution_count": 34,
   "metadata": {},
   "outputs": [
    {
     "name": "stdout",
     "output_type": "stream",
     "text": [
      "True\n",
      "True\n",
      "True\n",
      "True\n",
      "False\n"
     ]
    }
   ],
   "source": [
    "\"\"\"\n",
    "s.startswith(str, beg=0,end=len(string))\n",
    "Returns: \n",
    "    True/ False\n",
    "\n",
    "str − This is the string to be checked.\n",
    "beg − This is the optional parameter to set start index of the matching boundary.\n",
    "end − This is the optional parameter to end start index of the matching boundary.\n",
    "\"\"\"\n",
    "s = \"this is live code relive\"\n",
    "print(s.startswith('this'))\n",
    "print(s.startswith('th'))\n",
    "print(s.startswith('this is live'))\n",
    "print(s.startswith( 'live', 8, 12 ))#str.startswith(str, beg=0,end=len(string))\n",
    "print(s.startswith( 'this', 8, 12 ))"
   ]
  },
  {
   "cell_type": "code",
   "execution_count": 36,
   "metadata": {},
   "outputs": [
    {
     "name": "stdout",
     "output_type": "stream",
     "text": [
      "True\n",
      "True\n",
      "True\n",
      "False\n"
     ]
    }
   ],
   "source": [
    "#s.endswith(suffix[, start[, end]])\n",
    "\n",
    "str = \"this is string example....wow!!!\"\n",
    "suffix = \"wow!!!\"\n",
    "print(str.endswith(suffix))\n",
    "print(str.endswith(suffix,20)) # start, slice begin from here,it sees [ample....wow!!!]\n",
    "suffix = \"is\";\n",
    "print(str.endswith(suffix, 2, 4))\n",
    "print(str.endswith(suffix, 2, 6))"
   ]
  },
  {
   "cell_type": "code",
   "execution_count": 77,
   "metadata": {},
   "outputs": [
    {
     "name": "stdout",
     "output_type": "stream",
     "text": [
      "str.count(sub, 4, 40) : 2\n",
      "str.count(sub) :  1\n",
      "str.count(sub) :  4\n",
      "str.count(sub) :  2\n"
     ]
    }
   ],
   "source": [
    "\"\"\"\n",
    "s.count(str, beg= 0,end=len(string))\n",
    "returns: count : int\n",
    "Counts how many times str occurs in string or in a substring \n",
    "of string if starting index beg and ending index end are given.\n",
    "\"\"\"\n",
    "str = \"this is string example....wow!!!\";\n",
    "sub = \"i\";\n",
    "print(str.count(sub, 4, 15))\n",
    "sub = \"wow\";\n",
    "print(\"str.count(sub) : \", str.count(sub))\n",
    "sub = \".\"\n",
    "print(\"str.count(sub) : \", str.count(sub)) # 4 dots\n",
    "sub = \" \"\n",
    "print(\"str.count(sub) : \", str.count(sub, 6)) # 2 spaces as I changes start strinb"
   ]
  },
  {
   "cell_type": "code",
   "execution_count": 49,
   "metadata": {},
   "outputs": [
    {
     "name": "stdout",
     "output_type": "stream",
     "text": [
      "this is string example....wow!!!\n"
     ]
    },
    {
     "ename": "TypeError",
     "evalue": "strip arg must be None or str",
     "output_type": "error",
     "traceback": [
      "\u001b[0;31m---------------------------------------------------------------------------\u001b[0m",
      "\u001b[0;31mTypeError\u001b[0m                                 Traceback (most recent call last)",
      "\u001b[0;32m<ipython-input-49-cced4d679815>\u001b[0m in \u001b[0;36m<module>\u001b[0;34m\u001b[0m\n\u001b[1;32m      1\u001b[0m \u001b[0mstr\u001b[0m \u001b[0;34m=\u001b[0m \u001b[0;34m\"0000000this is string example....wow!!!0000000\"\u001b[0m\u001b[0;34m;\u001b[0m\u001b[0;34m\u001b[0m\u001b[0;34m\u001b[0m\u001b[0m\n\u001b[1;32m      2\u001b[0m \u001b[0mprint\u001b[0m\u001b[0;34m(\u001b[0m\u001b[0mstr\u001b[0m\u001b[0;34m.\u001b[0m\u001b[0mstrip\u001b[0m\u001b[0;34m(\u001b[0m \u001b[0;34m'0'\u001b[0m \u001b[0;34m)\u001b[0m\u001b[0;34m)\u001b[0m\u001b[0;34m\u001b[0m\u001b[0;34m\u001b[0m\u001b[0m\n\u001b[0;32m----> 3\u001b[0;31m \u001b[0mprint\u001b[0m\u001b[0;34m(\u001b[0m\u001b[0mstr\u001b[0m\u001b[0;34m.\u001b[0m\u001b[0mstrip\u001b[0m\u001b[0;34m(\u001b[0m \u001b[0;34m[\u001b[0m\u001b[0;34m'0'\u001b[0m\u001b[0;34m,\u001b[0m\u001b[0;34m'i'\u001b[0m\u001b[0;34m]\u001b[0m \u001b[0;34m)\u001b[0m\u001b[0;34m)\u001b[0m\u001b[0;34m\u001b[0m\u001b[0;34m\u001b[0m\u001b[0m\n\u001b[0m\u001b[1;32m      4\u001b[0m \u001b[0mprint\u001b[0m\u001b[0;34m(\u001b[0m\u001b[0mstr\u001b[0m\u001b[0;34m.\u001b[0m\u001b[0mstrip\u001b[0m\u001b[0;34m(\u001b[0m\u001b[0;34m'0'\u001b[0m\u001b[0;34m,\u001b[0m\u001b[0;34m'i'\u001b[0m\u001b[0;34m)\u001b[0m\u001b[0;34m)\u001b[0m \u001b[0;31m#TypeError: strip() takes at most 1 argument (2 given)\u001b[0m\u001b[0;34m\u001b[0m\u001b[0;34m\u001b[0m\u001b[0m\n",
      "\u001b[0;31mTypeError\u001b[0m: strip arg must be None or str"
     ]
    }
   ],
   "source": [
    "\"\"\"\n",
    "s.strip()\n",
    "returns:\n",
    "Python string method strip() returns a copy of the string in which all chars have been stripped from the beginning and the end of the string (default whitespace characters).\n",
    "\"\"\"\n",
    "str = \"0000000this is string example....wow!!!0000000\";\n",
    "print(str.strip( '0' ))\n",
    "print(str.strip( ['0','i'] )) #TypeError: strip arg must be None or str\n",
    "print(str.strip('0','i')) #TypeError: strip() takes at most 1 argument (2 given)"
   ]
  },
  {
   "cell_type": "code",
   "execution_count": 50,
   "metadata": {},
   "outputs": [
    {
     "name": "stdout",
     "output_type": "stream",
     "text": [
      "('Python ', 'is ', 'fun')\n",
      "('Python is fun', '', '')\n",
      "('Python ', 'is', \" fun, isn't it\")\n"
     ]
    }
   ],
   "source": [
    "\"\"\"\n",
    "s.partition(sep) -> (before, sep, after)\n",
    "returns:\n",
    "    3-tuple containing:\n",
    "\n",
    "-the part before the separator, separator parameter,\n",
    "and he part after the separator if the separator parameter is found in the string\n",
    "\n",
    "-string itself and two empty strings if the separator parameter is not found\n",
    "\"\"\"\n",
    "\n",
    "string = \"Python is fun\"\n",
    "# 'is' separator is found\n",
    "print(string.partition('is '))\n",
    "# 'not' separator is not found\n",
    "print(string.partition('not '))\n",
    "string = \"Python is fun, isn't it\"\n",
    "# splits at first occurence of 'is'\n",
    "print(string.partition('is'))"
   ]
  },
  {
   "cell_type": "code",
   "execution_count": 52,
   "metadata": {},
   "outputs": [
    {
     "name": "stdout",
     "output_type": "stream",
     "text": [
      "['Milk', 'Chicken', 'Bread']\n",
      "['Milk, Chicken, Bread']\n",
      "['Milk', 'Chicken, Bread']\n",
      "['Milk', 'Chicken', 'Bread']\n",
      "['Milk, Chicken, Bread']\n"
     ]
    }
   ],
   "source": [
    "\"\"\"\n",
    "s.split([separator [, maxsplit]]) ->  list of strings split wtr [seq]\n",
    "\n",
    "-separator (optional)- The is a delimiter. The string splits at the specified separator.\n",
    "If the separator is not specified, any whitespace (space, newline etc.) string is a separator.\n",
    "-maxsplit (optional) - The maxsplit defines the maximum number of splits.\n",
    "The default value of maxsplit is -1, meaning, no limit on the number of splits.\n",
    "\n",
    "The split() breaks the string at the separator and returns a list of strings.\n",
    "\n",
    "\"\"\"\n",
    "grocery = 'Milk, Chicken, Bread'\n",
    "\n",
    "# splits at ','\n",
    "print(grocery.split(', '))\n",
    "# Splitting at ':'\n",
    "print(grocery.split(':'))\n",
    "# maxsplit: 1\n",
    "print(grocery.split(', ', 1)\n",
    "# maxsplit: 5\n",
    "print(grocery.split(', ', 5))\n",
    "# maxsplit: 0\n",
    "print(grocery.split(', ', 0))"
   ]
  },
  {
   "cell_type": "code",
   "execution_count": 75,
   "metadata": {},
   "outputs": [
    {
     "name": "stdout",
     "output_type": "stream",
     "text": [
      "1, 2, 3, 4\n",
      "1, 2, 3, 4\n",
      "1abc2abc3\n",
      "a123b123c\n",
      "Java->->Ruby->->Python\n",
      "mat->that\n"
     ]
    },
    {
     "ename": "TypeError",
     "evalue": "sequence item 0: expected str instance, int found",
     "output_type": "error",
     "traceback": [
      "\u001b[0;31m---------------------------------------------------------------------------\u001b[0m",
      "\u001b[0;31mTypeError\u001b[0m                                 Traceback (most recent call last)",
      "\u001b[0;32m<ipython-input-75-e3de3bf866bf>\u001b[0m in \u001b[0;36m<module>\u001b[0;34m\u001b[0m\n\u001b[1;32m     38\u001b[0m \u001b[0;34m\u001b[0m\u001b[0m\n\u001b[1;32m     39\u001b[0m \u001b[0;31m# this gives error\u001b[0m\u001b[0;34m\u001b[0m\u001b[0;34m\u001b[0m\u001b[0;34m\u001b[0m\u001b[0m\n\u001b[0;32m---> 40\u001b[0;31m \u001b[0mprint\u001b[0m\u001b[0;34m(\u001b[0m\u001b[0ms\u001b[0m\u001b[0;34m.\u001b[0m\u001b[0mjoin\u001b[0m\u001b[0;34m(\u001b[0m\u001b[0mtest\u001b[0m\u001b[0;34m)\u001b[0m\u001b[0;34m)\u001b[0m\u001b[0;34m\u001b[0m\u001b[0;34m\u001b[0m\u001b[0m\n\u001b[0m",
      "\u001b[0;31mTypeError\u001b[0m: sequence item 0: expected str instance, int found"
     ]
    }
   ],
   "source": [
    "\"\"\"\n",
    "s.join(iterable) -> Takes s and concatinate it to elements of iterable \n",
    "Some of the example of iterables are:\n",
    "\n",
    "Native datatypes - List, Tuple, String, Dictionary and Set\n",
    "File objects and objects you define with an __iter__() or __getitem()__ method\n",
    "\n",
    "Errors:\n",
    "iterable contains any non-string values, it raises a TypeError exception.\n",
    "\n",
    "\"\"\"\n",
    "numList = ['1', '2', '3', '4']\n",
    "seperator = ', '\n",
    "print(seperator.join(numList))\n",
    "\n",
    "numTuple = ('1', '2', '3', '4')\n",
    "print(seperator.join(numTuple))\n",
    "\n",
    "s1 = 'abc'\n",
    "s2 = '123'\n",
    "\n",
    "\"\"\" Each character of s2 is concatenated to the front of s1\"\"\" \n",
    "print( s1.join(s2))\n",
    "\n",
    "\"\"\" Each character of s1 is concatenated to the front of s2\"\"\" \n",
    "print( s2.join(s1))\n",
    "\n",
    "test = {'Python', 'Java', 'Ruby'} # (Set)\n",
    "s = '->->'\n",
    "print(s.join(test))\n",
    "\n",
    "test =  {'mat': 1, 'that': 2}\n",
    "s = '->'\n",
    "print(s.join(test))\n",
    "\n",
    "test =  {1:'mat', 2:'that'} # Error, int found. \n",
    "s = ', '\n",
    "\n",
    "# this gives error\n",
    "print(s.join(test))"
   ]
  },
  {
   "cell_type": "code",
   "execution_count": 53,
   "metadata": {},
   "outputs": [
    {
     "name": "stdout",
     "output_type": "stream",
     "text": [
      "Substring 'is fun': 19\n"
     ]
    },
    {
     "ename": "ValueError",
     "evalue": "substring not found",
     "output_type": "error",
     "traceback": [
      "\u001b[0;31m---------------------------------------------------------------------------\u001b[0m",
      "\u001b[0;31mValueError\u001b[0m                                Traceback (most recent call last)",
      "\u001b[0;32m<ipython-input-53-4ffe18acdb3f>\u001b[0m in \u001b[0;36m<module>\u001b[0;34m\u001b[0m\n\u001b[1;32m      4\u001b[0m \u001b[0mprint\u001b[0m\u001b[0;34m(\u001b[0m\u001b[0;34m\"Substring 'is fun':\"\u001b[0m\u001b[0;34m,\u001b[0m \u001b[0mresult\u001b[0m\u001b[0;34m)\u001b[0m\u001b[0;34m\u001b[0m\u001b[0;34m\u001b[0m\u001b[0m\n\u001b[1;32m      5\u001b[0m \u001b[0;34m\u001b[0m\u001b[0m\n\u001b[0;32m----> 6\u001b[0;31m \u001b[0mresult\u001b[0m \u001b[0;34m=\u001b[0m \u001b[0msentence\u001b[0m\u001b[0;34m.\u001b[0m\u001b[0mindex\u001b[0m\u001b[0;34m(\u001b[0m\u001b[0;34m'Java'\u001b[0m\u001b[0;34m)\u001b[0m\u001b[0;34m\u001b[0m\u001b[0;34m\u001b[0m\u001b[0m\n\u001b[0m\u001b[1;32m      7\u001b[0m \u001b[0mprint\u001b[0m\u001b[0;34m(\u001b[0m\u001b[0;34m\"Substring 'Java':\"\u001b[0m\u001b[0;34m,\u001b[0m \u001b[0mresult\u001b[0m\u001b[0;34m)\u001b[0m\u001b[0;34m\u001b[0m\u001b[0;34m\u001b[0m\u001b[0m\n",
      "\u001b[0;31mValueError\u001b[0m: substring not found"
     ]
    }
   ],
   "source": [
    "\"\"\"\n",
    "s.index(sub[, start[, end]] )\n",
    "    sub - substring to be searched in the string str.\n",
    "    start and end(optional) - substring is searched within str[start:end]\n",
    "\n",
    "Returns:\n",
    "    -If substring exists inside the string, it returns the lowest \n",
    "     index in the string where substring is found.\n",
    "    -If substring doesn't exist inside the string, it raises a ValueError exception.\n",
    "The index() method is similar to find() method for strings.\n",
    "The only difference is that find() method returns -1 if \n",
    "the substring is not found, whereas index() throws an exception.\n",
    "\n",
    "\"\"\"\n",
    "sentence = 'Python programming is fun.'\n",
    "result = sentence.index('is fun')\n",
    "print(\"Substring 'is fun':\", result)\n",
    "result = sentence.index('Java')\n",
    "print(\"Substring 'Java':\", result)"
   ]
  },
  {
   "cell_type": "code",
   "execution_count": 54,
   "metadata": {},
   "outputs": [
    {
     "name": "stdout",
     "output_type": "stream",
     "text": [
      "Substring 'let it': 11\n",
      "Substring 'small ': -1\n",
      "Contains substring 'be,'\n"
     ]
    }
   ],
   "source": [
    "\"\"\"\n",
    "s.find(sub[, start[, end]] )\n",
    "    sub - It's the substring to be searched in the str string.\n",
    "    start and end (optional) - substring is searched within str[start:end]\n",
    "Returns: \n",
    "    find() method returns an integer value.\n",
    "    -If substring exists inside the string, it returns the index of first occurence of the substring.\n",
    "    -If substring doesn't exist inside the string, it returns -1.\n",
    "\n",
    "        \n",
    "\"\"\"\n",
    "quote = 'Let it be, let it be, let it be'\n",
    "\n",
    "result = quote.find('let it')\n",
    "print(\"Substring 'let it':\", result)\n",
    "\n",
    "result = quote.find('small')\n",
    "print(\"Substring 'small ':\", result)\n",
    "\n",
    "# How to use find()\n",
    "if  (quote.find('be,') != -1): # ie. it contains 'be'\n",
    "  print(\"Contains substring 'be,'\")\n",
    "else:\n",
    "  print(\"Doesn't contain substring\")"
   ]
  },
  {
   "cell_type": "code",
   "execution_count": 63,
   "metadata": {},
   "outputs": [
    {
     "name": "stdout",
     "output_type": "stream",
     "text": [
      "All characters are not alphanumeric.\n",
      "False\n",
      "False\n",
      "True\n",
      "True\n",
      "True\n"
     ]
    }
   ],
   "source": [
    "\"\"\" s.is ... -> True/False\n",
    "\n",
    "Python String isalnum()\n",
    "Python String isalpha()\n",
    "Python String isdecimal()\n",
    "Python String isdigit()\n",
    "Python String isidentifier()\n",
    "Python String islower()\n",
    "Python String isnumeric()\n",
    "Python String isprintable()\n",
    "Python String isspace()\n",
    "Python String istitle()\n",
    "Python String isupper()\n",
    "\n",
    "\"\"\"\n",
    "# contains whitespace\n",
    "name = \"M3onica Gell22er \"\n",
    "if name.isalnum() == True:\n",
    "   print(\"All characters of string (name) are alphanumeric.\")\n",
    "else:\n",
    "    print(\"All characters are not alphanumeric.\")\n",
    "print(name.isalpha())\n",
    "# contains alphabets and spaces\n",
    "s = \"Mo3 nicaG el l22er\"\n",
    "print(s.isdecimal())\n",
    "s = 'str'\n",
    "print(s.isidentifier())\n",
    "s = 'th!s is a1so g00d'\n",
    "print(s.islower())\n",
    "# numbers in place of alphabets\n",
    "s = \"THIS IS ALSO G00D!\"\n",
    "print(s.isupper());\n"
   ]
  },
  {
   "cell_type": "code",
   "execution_count": 62,
   "metadata": {},
   "outputs": [
    {
     "name": "stdout",
     "output_type": "stream",
     "text": [
      "True\n"
     ]
    }
   ],
   "source": [
    "\"\"\"\n",
    "s.isnumeric()\n",
    "    Return: True/False\n",
    "A numeric character has following properties:\n",
    "\n",
    "Numeric_Type=Decimal\n",
    "Numeric_Type=Digit\n",
    "Numeric_Type=Numeric\n",
    "In Python, decimal characters (like: 0, 1, 2..), \n",
    "digits (like: subscript, superscript), \n",
    "and characters having Unicode numeric value property \n",
    "(like: fraction, roman numerals, currency numerators) are all considered numeric characters.\n",
    "\n",
    "You can write the digit and nu\n",
    "\"\"\"\n",
    "# s = '½'\n",
    "s = '\\u00BD'\n",
    "print(s.isnumeric())"
   ]
  },
  {
   "cell_type": "code",
   "execution_count": 67,
   "metadata": {},
   "outputs": [
    {
     "name": "stdout",
     "output_type": "stream",
     "text": [
      "TH!S SH0ULD B3 UPP3RCAS3!\n",
      "This Is String Example....Wow!!!\n",
      "This is string example....wow!!!\n",
      "this IS STRING EXAMPLE....WOW!!!\n",
      "The strings are equal.\n"
     ]
    }
   ],
   "source": [
    "\"\"\"\n",
    "s.upper(), s.lower(),\n",
    "\n",
    "s.title() -> copy of the string in which first characters of all the words are capitalized.\n",
    "\n",
    "s.swapcase() ->copy of the string in which all the case-based characters have had their case swapped.\n",
    "\n",
    "s.casefold() -> doing a case-insensitive string comparison, Consider Unicode Normalization \n",
    "\n",
    "s.capitalize() -> Capitalizes \n",
    "\n",
    "\n",
    "\n",
    "\"\"\"\n",
    "string = \"Th!s Sh0uLd B3 uPp3rCas3!\"\n",
    "print(string.upper())\n",
    "\n",
    "str = \"this is string example....wow!!!\";\n",
    "print(str.title())\n",
    "\n",
    "str = \"this is string example....wow!!!\";\n",
    "print(str.capitalize())\n",
    "\n",
    "str = \"THIS is string example....wow!!!\";\n",
    "print(str.swapcase())\n",
    "\n",
    "# CASEFOLDING better thean s.lower() for unicode normalization comparison.\n",
    "firstString = \"der Fluß\" # Unicoode B is equal to lower case ss. \n",
    "secondString = \"der Fluss\"\n",
    "\n",
    "# ß is equivalent to ss\n",
    "if firstString.casefold() == secondString.casefold():\n",
    "    print('The strings are equal.')\n",
    "else:\n",
    "    print('The strings are not equal.')"
   ]
  },
  {
   "cell_type": "code",
   "execution_count": null,
   "metadata": {},
   "outputs": [],
   "source": [
    "\"\"\"\n",
    "s.center(width[, fillchar]) -> string which is padded with the specified character.\n",
    "\n",
    "s.rjust(width[, fillchar]) -> right-justified string of a given minimum width\n",
    "\n",
    "s.ljust(width[, fillchar]) -> left-justified string of a given minimum width.\n",
    "\n",
    "\"\"\"\n",
    "string = \"Python is awesome\"\n",
    "new_string = string.center(24, '*')\n",
    "print(\"Centered String: \", new_string)\n",
    "\n",
    "# example string\n",
    "string = 'cat'\n",
    "width = 5\n",
    "fillchar = '*'\n",
    "# print right justified string\n",
    "print(string.rjust(width, fillchar)) \n",
    "# he minimum width defined is 5. So, the resultant string is atleast of length 5.\n",
    "#Now, rjust() aligns the string 'cat' to the right leaving two spaces to the left of the word\n"
   ]
  },
  {
   "cell_type": "code",
   "execution_count": null,
   "metadata": {},
   "outputs": [],
   "source": [
    "\"\"\"\n",
    "s.zfill(width) -> string from zfill() with '0' digits filled to the left\n",
    "\n",
    "\"\"\"\n",
    "number = \"-290\"\n",
    "print(number.zfill(8))\n"
   ]
  },
  {
   "cell_type": "code",
   "execution_count": null,
   "metadata": {},
   "outputs": [],
   "source": []
  },
  {
   "cell_type": "code",
   "execution_count": null,
   "metadata": {},
   "outputs": [],
   "source": []
  },
  {
   "cell_type": "code",
   "execution_count": null,
   "metadata": {},
   "outputs": [],
   "source": []
  },
  {
   "cell_type": "code",
   "execution_count": null,
   "metadata": {},
   "outputs": [],
   "source": []
  },
  {
   "cell_type": "code",
   "execution_count": null,
   "metadata": {},
   "outputs": [],
   "source": []
  },
  {
   "cell_type": "code",
   "execution_count": null,
   "metadata": {},
   "outputs": [],
   "source": []
  },
  {
   "cell_type": "code",
   "execution_count": null,
   "metadata": {},
   "outputs": [],
   "source": []
  },
  {
   "cell_type": "code",
   "execution_count": null,
   "metadata": {},
   "outputs": [],
   "source": []
  },
  {
   "cell_type": "code",
   "execution_count": null,
   "metadata": {},
   "outputs": [],
   "source": []
  },
  {
   "cell_type": "code",
   "execution_count": 71,
   "metadata": {},
   "outputs": [
    {
     "name": "stdout",
     "output_type": "stream",
     "text": [
      "b'Hello world'\n"
     ]
    },
    {
     "ename": "NameError",
     "evalue": "name 'unicode' is not defined",
     "output_type": "error",
     "traceback": [
      "\u001b[0;31m---------------------------------------------------------------------------\u001b[0m",
      "\u001b[0;31mNameError\u001b[0m                                 Traceback (most recent call last)",
      "\u001b[0;32m<ipython-input-71-ed8f92857c25>\u001b[0m in \u001b[0;36m<module>\u001b[0;34m\u001b[0m\n\u001b[1;32m      2\u001b[0m \u001b[0mutf8string\u001b[0m \u001b[0;34m=\u001b[0m \u001b[0municodestring\u001b[0m\u001b[0;34m.\u001b[0m\u001b[0mencode\u001b[0m\u001b[0;34m(\u001b[0m\u001b[0;34m\"utf-8\"\u001b[0m\u001b[0;34m)\u001b[0m\u001b[0;34m\u001b[0m\u001b[0;34m\u001b[0m\u001b[0m\n\u001b[1;32m      3\u001b[0m \u001b[0mprint\u001b[0m\u001b[0;34m(\u001b[0m\u001b[0mutf8string\u001b[0m\u001b[0;34m)\u001b[0m\u001b[0;34m\u001b[0m\u001b[0;34m\u001b[0m\u001b[0m\n\u001b[0;32m----> 4\u001b[0;31m \u001b[0mplainstring1\u001b[0m \u001b[0;34m=\u001b[0m \u001b[0municode\u001b[0m\u001b[0;34m(\u001b[0m\u001b[0mutf8string\u001b[0m\u001b[0;34m,\u001b[0m \u001b[0;34m\"utf-8\"\u001b[0m\u001b[0;34m)\u001b[0m\u001b[0;34m\u001b[0m\u001b[0;34m\u001b[0m\u001b[0m\n\u001b[0m\u001b[1;32m      5\u001b[0m \u001b[0mprint\u001b[0m\u001b[0;34m(\u001b[0m\u001b[0mplainstring1\u001b[0m\u001b[0;34m)\u001b[0m\u001b[0;34m\u001b[0m\u001b[0;34m\u001b[0m\u001b[0m\n",
      "\u001b[0;31mNameError\u001b[0m: name 'unicode' is not defined"
     ]
    }
   ],
   "source": [
    "\"\"\"\n",
    "#todo: later\n",
    "Encoding strings and conversions. \n",
    "\n",
    "\n",
    "\"\"\"\n",
    "\n",
    "\n",
    "unicodestring = u\"Hello world\"\n",
    "utf8string = unicodestring.encode(\"utf-8\")\n",
    "print(utf8string)\n",
    "plainstring1 = unicode(utf8string, \"utf-8\")\n",
    "print(plainstring1)"
   ]
  }
 ],
 "metadata": {
  "kernelspec": {
   "display_name": "Python 3",
   "language": "python",
   "name": "python3"
  },
  "language_info": {
   "codemirror_mode": {
    "name": "ipython",
    "version": 3
   },
   "file_extension": ".py",
   "mimetype": "text/x-python",
   "name": "python",
   "nbconvert_exporter": "python",
   "pygments_lexer": "ipython3",
   "version": "3.6.9"
  }
 },
 "nbformat": 4,
 "nbformat_minor": 2
}
