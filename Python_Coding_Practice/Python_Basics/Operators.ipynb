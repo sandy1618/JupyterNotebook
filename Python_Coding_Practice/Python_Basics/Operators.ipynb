{
 "metadata": {
  "language_info": {
   "codemirror_mode": {
    "name": "ipython",
    "version": 3
   },
   "file_extension": ".py",
   "mimetype": "text/x-python",
   "name": "python",
   "nbconvert_exporter": "python",
   "pygments_lexer": "ipython3",
   "version": "3.8.5-final"
  },
  "orig_nbformat": 2,
  "kernelspec": {
   "name": "python38564bit7ea2c7799323481c94ab670782e8bbb5",
   "display_name": "Python 3.8.5 64-bit"
  }
 },
 "nbformat": 4,
 "nbformat_minor": 2,
 "cells": [
  {
   "cell_type": "code",
   "execution_count": 7,
   "metadata": {},
   "outputs": [
    {
     "output_type": "stream",
     "name": "stdout",
     "text": [
      "2.5\n2\n-2.5\n-3\n"
     ]
    }
   ],
   "source": [
    "# A Python program to demonstrate the use of \n",
    "# \"/\" for integers and \"//\"\n",
    "print (5/2)\n",
    "print (5//2)\n",
    "\n",
    "print(-5/2)\n",
    "print(-5//2)"
   ]
  },
  {
   "cell_type": "code",
   "execution_count": 2,
   "metadata": {},
   "outputs": [
    {
     "output_type": "stream",
     "name": "stdout",
     "text": [
      "True\nTrue\nFalse\nTrue\nFalse\nFalse\n"
     ]
    }
   ],
   "source": [
    "# Examples of Membership operator\n",
    "x = 'Geeks for Geeks'\n",
    "y = {3:'a',4:'b'}\n",
    "\n",
    "\n",
    "print('G' in x)\n",
    "\n",
    "print('geeks' not in x)\n",
    "\n",
    "print('Geeks' not in x)\n",
    "\n",
    "print(3 in y)\n",
    "\n",
    "#In checks only keys in a dictionary.\n",
    "print('b' in y) \n",
    "\n",
    "print('a' in y)\n",
    "\n"
   ]
  },
  {
   "cell_type": "code",
   "execution_count": 8,
   "metadata": {},
   "outputs": [
    {
     "output_type": "stream",
     "name": "stdout",
     "text": [
      "Geeks$For$Geeks$"
     ]
    }
   ],
   "source": [
    "#  sep and end in Print()\n",
    "print (  \"Geeks\", \"For\" , \"Geeks\" , sep = '$', end = '$')"
   ]
  }
 ]
}