{
 "metadata": {
  "language_info": {
   "codemirror_mode": {
    "name": "ipython",
    "version": 3
   },
   "file_extension": ".py",
   "mimetype": "text/x-python",
   "name": "python",
   "nbconvert_exporter": "python",
   "pygments_lexer": "ipython3",
   "version": "3.8.5-final"
  },
  "orig_nbformat": 2,
  "kernelspec": {
   "name": "python38564bit7ea2c7799323481c94ab670782e8bbb5",
   "display_name": "Python 3.8.5 64-bit"
  }
 },
 "nbformat": 4,
 "nbformat_minor": 2,
 "cells": [
  {
   "cell_type": "code",
   "execution_count": null,
   "metadata": {},
   "outputs": [],
   "source": [
    "from collections import defaultdict\n"
   ]
  },
  {
   "cell_type": "code",
   "execution_count": 8,
   "metadata": {},
   "outputs": [
    {
     "output_type": "stream",
     "name": "stdout",
     "text": [
      "{'m': 8, 'a': 7, 'l': 6, 'y': 4}\n"
     ]
    }
   ],
   "source": [
    "\n",
    "keys = [key for key in 'malayalam']\n",
    "value = [value for value in range(len('malayalam'))]\n",
    "d = {key:value for key,value in zip(keys,value)}\n",
    "print(d)"
   ]
  }
 ]
}