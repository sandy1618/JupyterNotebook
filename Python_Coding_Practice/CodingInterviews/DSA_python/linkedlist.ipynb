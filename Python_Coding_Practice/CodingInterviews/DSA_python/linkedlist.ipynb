{
 "cells": [
  {
   "cell_type": "code",
   "execution_count": 15,
   "metadata": {},
   "outputs": [
    {
     "data": {
      "text/plain": [
       "3"
      ]
     },
     "execution_count": 15,
     "metadata": {},
     "output_type": "execute_result"
    }
   ],
   "source": [
    "# linked list single valued lined list\n",
    "\n",
    "# Creating node \n",
    "class node:\n",
    "    def __init__(self, value = None):\n",
    "        self.data = value \n",
    "        self.next_node = None\n",
    "    \n",
    "class linked_list:\n",
    "    def __init__(self):\n",
    "        self.headnode = None\n",
    "    \n",
    "\n",
    "\n",
    "list1 = linked_list()\n",
    "list1.headnode=node(1)\n",
    "b = node(2)\n",
    "c = node(3)\n",
    "list1.headnode.next_node = b\n",
    "b.next_node = c \n",
    "\n",
    "list1.headnode.next_node.next_node.data"
   ]
  },
  {
   "cell_type": "code",
   "execution_count": 20,
   "metadata": {},
   "outputs": [],
   "source": [
    "# Basic 1\n",
    "#Practice 2 \n",
    "class node:\n",
    "    def __init__(self, data = None): # in this node class, data by defauld is none unless the object takes in \n",
    "        #data value\n",
    "        self.data = data\n",
    "        self.next_node = None # ref. to next node is none initially.\n",
    "class linked_list:\n",
    "    def __init__(self, head):\n",
    "        self.head_node = head\n",
    "a = node(1)\n",
    "llist1 = linked_list(a)\n",
    "b = node(2)\n",
    "c = node(3)\n",
    "llist1.head_node.next_node = b\n",
    "b.next_node = c\n",
    "\n",
    "\n"
   ]
  },
  {
   "cell_type": "code",
   "execution_count": 33,
   "metadata": {},
   "outputs": [
    {
     "name": "stdout",
     "output_type": "stream",
     "text": [
      "1\n",
      "2\n",
      "3\n"
     ]
    }
   ],
   "source": [
    "# accessing  all elemnets in llist\n",
    "# Basic 1\n",
    "#Practice 2 \n",
    "class node:\n",
    "    def __init__(self, data = None): # in this node class, data by defauld is none unless the object takes in \n",
    "        #data value\n",
    "        self.data = data\n",
    "        self.next_node = None # ref. to next node is none initially.\n",
    "class linked_list:\n",
    "    def __init__(self):\n",
    "        self.head_node = None\n",
    "    def print_llist (self): # printing every element of the list\n",
    "        self.printval = self.head_node\n",
    "       \n",
    "        while self.printval is not None:\n",
    "            print(self.printval.data)\n",
    "            self.printval =self.printval.next_node\n",
    "        \n",
    "a = node(1)\n",
    "llist1 = linked_list()\n",
    "llist1.head_node = a\n",
    "b = node(2)\n",
    "c = node(3)\n",
    "\n",
    "llist1.head_node.next_node = b\n",
    "b.next_node = c\n",
    "llist1.print_llist()\n"
   ]
  },
  {
   "cell_type": "code",
   "execution_count": 93,
   "metadata": {},
   "outputs": [
    {
     "name": "stdout",
     "output_type": "stream",
     "text": [
      "None\n",
      "2\n"
     ]
    }
   ],
   "source": [
    "# Pythond better abstraction \n",
    "# making the node class\n",
    "class Node :\n",
    "    def __init__(self,data =None):\n",
    "        self.data = data\n",
    "        self.next = None\n",
    "    def getData(self):\n",
    "        return self.data\n",
    "    def getNext(self):\n",
    "        return self.next\n",
    "    def setData(self,newdata):\n",
    "        self.data = newdata\n",
    "    def setNext(self,item):\n",
    "        self.next = Node(item)\n",
    "\n",
    "temp = Node(1)\n",
    "node2 = Node(2)\n",
    "print(temp.getNext())\n",
    "temp.setNext(2)\n",
    "print(temp.getNext().getData())"
   ]
  },
  {
   "cell_type": "code",
   "execution_count": 96,
   "metadata": {},
   "outputs": [],
   "source": [
    "#making the unorderd linked list\n",
    "class slist:\n",
    "    def __init__(self, head = None):\n",
    "        self.head = head\n",
    "    def isEmpty(self):\n",
    "        return self.head == None\n",
    "    #how to add items to the list\n",
    "    def add(self,newdata):\n",
    "        self.newnode = Node(newdata) # make a new node and add data into the node.\n",
    "        self.newnode.setNext(self.head)\n",
    "        self.head = self.newnode\n",
    "    def size(self): # transversal 1 : getting the size of the linkedlist. \n",
    "        current = self.head\n",
    "        count = 0\n",
    "        while current != None:\n",
    "            count += 1\n",
    "            current = current.getNext()\n",
    "        return count\n",
    "    def search(self,item):\n",
    "        current = self.head\n",
    "        found = False \n",
    "        while current!=None and found is False : \n",
    "            if current.getData() == item:\n",
    "                found = True \n",
    "            else :\n",
    "                current = current.getNext()\n",
    "        return found\n",
    "    def remove(self,item):\n",
    "        previous = None\n",
    "        current = self.head\n",
    "        found = False\n",
    "        while not found:\n",
    "            # search \n",
    "            if current.getData() == item:\n",
    "                found = True\n",
    "            else:\n",
    "                previous = current\n",
    "                current = current.getNext()\n",
    "        if previous == None:\n",
    "            self.head = current.getNext()\n",
    "        else:\n",
    "            previous.setNext(current.getNext())\n",
    "    def append(self,item): # this append is O(n) implementation. \n",
    "        current = self.head \n",
    "        while current.getNext() is not None:\n",
    "            current = current.getNext()\n",
    "        current.setNext(item)\n",
    "        \n",
    "# slist = slist()\n",
    "# slist=slist(head = temp)\n",
    "# # print(slist.head.getData())\n",
    "# # print(slist.isEmpty())\n",
    "# # print(slist.size())\n",
    "# # print(slist.search(1))\n",
    "# # print(slist.remove(1))\n",
    "# print(slist.size())\n",
    "# print(slist.append(3))\n",
    "# print(slist.size())\n",
    "# print(slist.search(3))"
   ]
  },
  {
   "cell_type": "code",
   "execution_count": 91,
   "metadata": {},
   "outputs": [],
   "source": [
    "# Using libraries for doing linked list operations \n",
    "\n",
    "from llist import sllist\n"
   ]
  },
  {
   "cell_type": "code",
   "execution_count": 104,
   "metadata": {},
   "outputs": [
    {
     "name": "stdout",
     "output_type": "stream",
     "text": [
      "2.095733225985896\n"
     ]
    }
   ],
   "source": [
    "# learning about timeout functions utilities. \n",
    "from timeit import Timer\n",
    "slist2 = slist()\n",
    "slist2.head = Node(1)\n",
    "\n",
    "def listfill(num):\n",
    "    slist2.add(num)\n",
    "    print(slist2.size())\n",
    "test_code = '''\n",
    "mylist = listfill\n",
    "'''\n",
    "\n",
    "setup_code = '''\n",
    "from __main__ import listfill'''\n",
    "\n",
    "\n",
    "times = Timer(stmt = test_code, setup = setup_code)\n",
    "print(times.timeit())"
   ]
  }
 ],
 "metadata": {
  "kernelspec": {
   "display_name": "Python 3",
   "language": "python",
   "name": "python3"
  },
  "language_info": {
   "codemirror_mode": {
    "name": "ipython",
    "version": 3
   },
   "file_extension": ".py",
   "mimetype": "text/x-python",
   "name": "python",
   "nbconvert_exporter": "python",
   "pygments_lexer": "ipython3",
   "version": "3.7.3"
  }
 },
 "nbformat": 4,
 "nbformat_minor": 2
}
