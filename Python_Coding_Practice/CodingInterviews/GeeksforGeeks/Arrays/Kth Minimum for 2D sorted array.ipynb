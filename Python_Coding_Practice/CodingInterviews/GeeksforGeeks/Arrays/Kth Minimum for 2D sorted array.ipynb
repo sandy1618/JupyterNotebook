{
 "cells": [
  {
   "cell_type": "markdown",
   "metadata": {},
   "source": [
    "Given an n x n matrix, where every row and column is sorted in non-decreasing order. Find the kth smallest element in the given 2D array."
   ]
  },
  {
   "cell_type": "code",
   "execution_count": 24,
   "metadata": {},
   "outputs": [],
   "source": [
    "#Since the array heap_arr already stores data of type class: heapNode, therefore I need to make a custom funciton heapNode and minHeapify \n",
    "#to find the minimum values. \n",
    "from sys import maxsize\n",
    "class heapNode():\n",
    "    def __init__(self,val,r,c):# r = row , c = column\n",
    "        self.val = val\n",
    "        self.r = r\n",
    "        self.c = c\n",
    "def buildHeap(harr,n):\n",
    "    i = (n-1)//2\n",
    "    while i >= 0:\n",
    "        minHeapify(harr,i,n)\n",
    "        i -=1\n",
    "def minHeapify(harr,i,heap_size):\n",
    "    l = i * 2 + 1\n",
    "    r = i * 2 + 2\n",
    "    smallest = i \n",
    "    if l < heap_size and harr[l].val < harr[i].val:\n",
    "        smallest = l\n",
    "    if r < heap_size and harr[r].val < harr[i].val:\n",
    "        smallest = r\n",
    "    if smallest != i:\n",
    "        harr[i],harr[smallest] = harr[smallest],harr[i]\n",
    "        minHeapify(harr,smallest,heap_size)\n",
    "        \n",
    "def k_minimum(mat,n,k):\n",
    "    heap_arr = [0]*n\n",
    "    for col in range(n):\n",
    "        heap_arr[col]=(heapNode(mat[0][col],0,col))\n",
    "    buildHeap(heap_arr,n)\n",
    "    \n",
    "    element = heapNode(0,0,0)\n",
    "    for i in range(k):\n",
    "        element = heap_arr[0]\n",
    "        if element.r < n-1 :\n",
    "            next_element = mat[element.r + 1][element.c]\n",
    "        else :\n",
    "            next_element = maxsize\n",
    "        heap_arr[0] = heapNode(next_element,element.r + 1,element.c)\n",
    "        minHeapify(heap_arr,0,n)\n",
    "    return element.val"
   ]
  },
  {
   "cell_type": "code",
   "execution_count": 25,
   "metadata": {},
   "outputs": [
    {
     "name": "stdout",
     "output_type": "stream",
     "text": [
      "7th smallest element is 32\n"
     ]
    }
   ],
   "source": [
    "if __name__ == \"__main__\": \n",
    "    mat = [[10, 20, 30, 40],  \n",
    "           [15, 25, 35, 45],  \n",
    "           [25, 29, 37, 48], \n",
    "           [32, 33, 39, 50]] \n",
    "    print(\"7th smallest element is\",  \n",
    "             kthSmallest(mat, 4, 7)) \n",
    "  "
   ]
  }
 ],
 "metadata": {
  "kernelspec": {
   "display_name": "Python 3",
   "language": "python",
   "name": "python3"
  },
  "language_info": {
   "codemirror_mode": {
    "name": "ipython",
    "version": 3
   },
   "file_extension": ".py",
   "mimetype": "text/x-python",
   "name": "python",
   "nbconvert_exporter": "python",
   "pygments_lexer": "ipython3",
   "version": "3.6.9"
  }
 },
 "nbformat": 4,
 "nbformat_minor": 2
}
