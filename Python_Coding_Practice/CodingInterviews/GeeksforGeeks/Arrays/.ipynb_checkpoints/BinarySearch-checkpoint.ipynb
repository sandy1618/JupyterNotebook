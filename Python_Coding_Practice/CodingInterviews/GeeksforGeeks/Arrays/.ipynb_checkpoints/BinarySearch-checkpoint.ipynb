{
 "cells": [
  {
   "cell_type": "code",
   "execution_count": 23,
   "metadata": {},
   "outputs": [],
   "source": [
    "#Recursive implementation of binary search O(logn)\n",
    "def binarySearch(arr,start,end,match):\n",
    "    #base condition, \n",
    "    if start <= end:\n",
    "        mid = (start + end) // 2 # floor division\n",
    "        if match == arr[mid]:\n",
    "            return mid\n",
    "        elif match > arr[mid]:\n",
    "            return binarySearch(arr,mid+1,end,match)\n",
    "        else : \n",
    "            return binarySearch(arr,start,mid-1,match)\n",
    "    else:\n",
    "        return -1\n",
    "    \n",
    "# Binary search iterative \n",
    "def binarySearch2(arr,start,end,match):\n",
    "    #exit conditin\n",
    "    while start<=end: \n",
    "        mid = (start + end) // 2 # floor division\n",
    "        if match == arr[mid]:\n",
    "            return mid\n",
    "        elif match > arr[mid]:\n",
    "            start = mid + 1\n",
    "        else :\n",
    "            end = mid - 1\n",
    "    return -1 "
   ]
  },
  {
   "cell_type": "code",
   "execution_count": 26,
   "metadata": {},
   "outputs": [
    {
     "name": "stdout",
     "output_type": "stream",
     "text": [
      "7\n",
      "7\n"
     ]
    }
   ],
   "source": [
    "arr = [1,2,3,4,5,6,7,8,11]\n",
    "start = 0\n",
    "end = len(arr)-1 \n",
    "match = 8\n",
    "print(binarySearch(arr,start,end,match))\n",
    "print(binarySearch2(arr,start,end,match))"
   ]
  }
 ],
 "metadata": {
  "kernelspec": {
   "display_name": "Python 3",
   "language": "python",
   "name": "python3"
  },
  "language_info": {
   "codemirror_mode": {
    "name": "ipython",
    "version": 3
   },
   "file_extension": ".py",
   "mimetype": "text/x-python",
   "name": "python",
   "nbconvert_exporter": "python",
   "pygments_lexer": "ipython3",
   "version": "3.6.9"
  }
 },
 "nbformat": 4,
 "nbformat_minor": 2
}
