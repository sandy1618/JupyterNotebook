{
 "cells": [
  {
   "cell_type": "markdown",
   "metadata": {},
   "source": [
    "## Heap Sort\n"
   ]
  },
  {
   "cell_type": "code",
   "execution_count": 9,
   "metadata": {},
   "outputs": [],
   "source": [
    "#Given an array, sort the array in ascending order using HeapSort\n",
    "#arr = [4,10,3,5,1]\n",
    "\n",
    "def heapSort(arr):\n",
    "    n = len(arr)\n",
    "    \n",
    "    #Build a max_heap\n",
    "    #Move from end of array, move in binary steps,to start with each parent node.\n",
    "    for i in range(((n-1)//2)-1,-1,-1):\n",
    "        heapify(arr,n,i)\n",
    "        \n",
    "    # after the max heap is build, need to extract max. elem from root .\n",
    "    # in max heap, we know that max. elem. is in root. we take taht out , and put \n",
    "    # in end of our output array\n",
    "    # swap the last element always with first ele. and do heapify \n",
    "    for i in range(n-1,0,-1):\n",
    "        arr[i],arr[0] = arr[0],arr[i]\n",
    "        heapify(arr,i,0) #heapify remaining i.\n",
    "    \n",
    "\n",
    "def heapify(arr,n,i):\n",
    "    largest = i #first initialize largest as root\n",
    "    l = 2 * i + 1 # left = 2*i+1\n",
    "    r = 2 * i + 2\n",
    "    \n",
    "    #see if left child exists and greater then root\n",
    "    if l < n and arr[largest] < arr[l]:\n",
    "        largest = l\n",
    "    if r < n and arr[largest] < arr[r]: #\n",
    "        largest = r\n",
    "        \n",
    "    #change root if needed\n",
    "    if largest != i:\n",
    "        arr[i],arr[largest] = arr[largest],arr[i]\n",
    "        \n",
    "        heapify(arr,n,largest) #heapify root\n",
    "        \n",
    "# Heap sort is an in-place algorithm.\n",
    "# Its typical implementation is not stable, but can be made stable (See this)\n",
    "\n",
    "# Time Complexity: Time complexity of heapify is O(Logn). \n",
    "#Time complexity of createAndBuildHeap() is O(n) and \n",
    "#overall time complexity of Heap Sort is O(nLogn)."
   ]
  },
  {
   "cell_type": "code",
   "execution_count": 10,
   "metadata": {},
   "outputs": [
    {
     "name": "stdout",
     "output_type": "stream",
     "text": [
      "[1, 3, 4, 5, 10]\n"
     ]
    }
   ],
   "source": [
    "arr = [4,10,3,5,1]\n",
    "heapSort(arr)\n",
    "print(arr)"
   ]
  },
  {
   "cell_type": "code",
   "execution_count": 5,
   "metadata": {},
   "outputs": [],
   "source": [
    "def kHeapSort(arr,k):\n",
    "    n = len(arr) ; \n",
    "    for i in range(((n-1)//2)-1,-1,-1):\n",
    "        max_heapify(arr,n,i)\n",
    "    for i in range(k):\n",
    "        print(arr.pop(0))\n",
    "        n = len(arr)\n",
    "        max_heapify(arr,n,0)\n",
    "def max_heapify(arr,n,i):\n",
    "    parent = i \n",
    "    l = 2*i + 1 # leftchild\n",
    "    r = 2*i + 2 # right child\n",
    "    if l < n and arr[parent] < arr[l]:\n",
    "        parent = l\n",
    "    if r < n and arr[parent] < arr[r]:\n",
    "        parent = r\n",
    "    if parent != i : \n",
    "        arr[i],arr[parent]=arr[parent],arr[i]\n",
    "        max_heapify(arr,n,parent)\n",
    "        "
   ]
  },
  {
   "cell_type": "code",
   "execution_count": 6,
   "metadata": {},
   "outputs": [
    {
     "name": "stdout",
     "output_type": "stream",
     "text": [
      "50\n",
      "23\n",
      "20\n"
     ]
    }
   ],
   "source": [
    "arr = [1,23,12,9,20,2,50]\n",
    "kHeapSort(arr,3)"
   ]
  },
  {
   "cell_type": "code",
   "execution_count": null,
   "metadata": {},
   "outputs": [],
   "source": [
    "# google h index\n",
    "arr = [5,1,2]\n",
    "n = len(arr)\n",
    "def score(arr,x,n):\n",
    "    count = 0\n",
    "    for in in range(n):\n",
    "        if arr[i]>=x:\n",
    "            count+=1\n",
    "    return count\n",
    "def h_index(arr,n):\n",
    "    list = []\n",
    "    for i in range(1,i+1)"
   ]
  }
 ],
 "metadata": {
  "kernelspec": {
   "display_name": "Python 3",
   "language": "python",
   "name": "python3"
  },
  "language_info": {
   "codemirror_mode": {
    "name": "ipython",
    "version": 3
   },
   "file_extension": ".py",
   "mimetype": "text/x-python",
   "name": "python",
   "nbconvert_exporter": "python",
   "pygments_lexer": "ipython3",
   "version": "3.6.9"
  }
 },
 "nbformat": 4,
 "nbformat_minor": 2
}
