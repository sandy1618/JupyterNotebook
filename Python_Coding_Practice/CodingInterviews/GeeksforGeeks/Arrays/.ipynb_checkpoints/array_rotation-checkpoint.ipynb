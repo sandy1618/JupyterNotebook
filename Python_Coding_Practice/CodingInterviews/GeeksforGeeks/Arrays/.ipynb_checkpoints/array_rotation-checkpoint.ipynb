{
 "cells": [
  {
   "cell_type": "code",
   "execution_count": 6,
   "metadata": {},
   "outputs": [
    {
     "name": "stdout",
     "output_type": "stream",
     "text": [
      "[4, 5, 6, 1, 2, 3]\n"
     ]
    }
   ],
   "source": [
    "# Rotate the arre by d elemets. eg . rotate array by 2 elements.\n",
    "arr = [1,2,3,4,5,6]\n",
    "def rotate(arr,n,d):\n",
    "    \n",
    "    return arr[d:]+arr[:d] # Time complexity O(n)\n",
    "n=len(arr)\n",
    "rotated_array = rotate(arr,n,3)\n",
    "print(rotated_array)"
   ]
  },
  {
   "cell_type": "code",
   "execution_count": 12,
   "metadata": {},
   "outputs": [
    {
     "name": "stdout",
     "output_type": "stream",
     "text": [
      "1\n",
      "7\n"
     ]
    }
   ],
   "source": [
    "# Method for finding GCD : greatest common divisior for two numbers\n",
    "# Euclideam method. \n",
    "# Fuction to get gcd of a and b \n",
    "def gcd(a, b): \n",
    "    if b == 0: \n",
    "        return a; \n",
    "    else: \n",
    "        return gcd(b, a % b) \n",
    "print(gcd(59,13))\n",
    "print(59%13)"
   ]
  },
  {
   "cell_type": "code",
   "execution_count": 16,
   "metadata": {},
   "outputs": [],
   "source": [
    "#lets say that the array is rotated, eg. [1,2,3,4,5] -> [3,4,5,1,2]\n",
    "#pivoated binary search, \n",
    "#Recursive implementation of binary search O(logn)\n",
    "def binarySearch(arr,start,end,match):\n",
    "    #base condition, \n",
    "    if start <= end:\n",
    "        mid = (start + end) // 2 # floor division\n",
    "        if match == arr[mid]:\n",
    "            return mid\n",
    "        elif match > arr[mid]:\n",
    "            return binarySearch(arr,mid+1,end,match)\n",
    "        else : \n",
    "            return binarySearch(arr,start,mid-1,match)\n",
    "    else:\n",
    "        return -1\n",
    "    \n",
    "def getPivot(arr,n):\n",
    "    for i in range(n):\n",
    "        try:\n",
    "            if arr[i+1] < arr[i]:\n",
    "                return i\n",
    "        except IndexError:\n",
    "            return -1\n",
    "def pivotedBinarySearch(arr,n,match):\n",
    "    k = getPivot(arr,n)\n",
    "    if match == arr[0]:\n",
    "        return 0\n",
    "    elif match < arr[0]:\n",
    "        start = k\n",
    "        end = n-1\n",
    "        return binarySearch(arr,start,end,match)\n",
    "    elif item > arr[0]:\n",
    "        start = 0\n",
    "        end = k\n",
    "        return binarySearch(arr,start,end,match)"
   ]
  },
  {
   "cell_type": "code",
   "execution_count": 17,
   "metadata": {},
   "outputs": [
    {
     "name": "stdout",
     "output_type": "stream",
     "text": [
      "[1, 2, 3, 4]\n",
      "4\n"
     ]
    }
   ],
   "source": [
    "arr = [3,4,5,1,2]\n",
    "arr2 = [1,2,3,4,5] \n",
    "n = len(arr)\n",
    "k=getPivot(arr2,n)\n",
    "print(arr2[:k])\n",
    "print(pivotedBinarySearch(arr,n,2))"
   ]
  },
  {
   "cell_type": "code",
   "execution_count": null,
   "metadata": {},
   "outputs": [],
   "source": []
  }
 ],
 "metadata": {
  "kernelspec": {
   "display_name": "Python 3",
   "language": "python",
   "name": "python3"
  },
  "language_info": {
   "codemirror_mode": {
    "name": "ipython",
    "version": 3
   },
   "file_extension": ".py",
   "mimetype": "text/x-python",
   "name": "python",
   "nbconvert_exporter": "python",
   "pygments_lexer": "ipython3",
   "version": "3.6.9"
  }
 },
 "nbformat": 4,
 "nbformat_minor": 2
}
