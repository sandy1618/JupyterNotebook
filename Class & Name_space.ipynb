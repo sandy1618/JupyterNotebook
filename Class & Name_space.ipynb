{
 "cells": [
  {
   "cell_type": "markdown",
   "metadata": {},
   "source": [
    "# Classes and Namespaces"
   ]
  },
  {
   "cell_type": "markdown",
   "metadata": {},
   "source": [
    "## Understanding Self\n"
   ]
  },
  {
   "cell_type": "code",
   "execution_count": 15,
   "metadata": {},
   "outputs": [
    {
     "name": "stdout",
     "output_type": "stream",
     "text": [
      "C1\n",
      "Sandeep\n",
      "C2\n",
      "phegsui\n",
      "Same Age\n"
     ]
    }
   ],
   "source": [
    "class computer : \n",
    "#     print(\"hello\")\n",
    "    def __init__(self):\n",
    "        self.name = \"Sandeep\"\n",
    "        self.age = 24\n",
    "    def compare(self,other):\n",
    "        if self.age == other.age:\n",
    "            print(\"Same Age\")\n",
    "        else: \n",
    "            print(\"Not same age\")\n",
    "    \n",
    "    \n",
    "c1 = computer()\n",
    "print(\"C1\")\n",
    "print(c1.name)\n",
    "\n",
    "\n",
    "c2 = computer()\n",
    "print(\"C2\")\n",
    "c2.name = \"phegsui\"\n",
    "print(c2.name)\n",
    "\n",
    "c1.compare(c2)"
   ]
  },
  {
   "cell_type": "markdown",
   "metadata": {},
   "source": [
    "#### Some Definitions \n",
    "\n",
    "Instance attributes in python and the init method\n",
    "\n",
    "You can also provide the values for the attributes at runtime. This is done by defining the attributes inside the init method. "
   ]
  },
  {
   "cell_type": "code",
   "execution_count": 20,
   "metadata": {},
   "outputs": [
    {
     "name": "stdout",
     "output_type": "stream",
     "text": [
      "Its in init\n",
      "<__main__.practice_callback object at 0x7faf682eb6a0>\n",
      "Its in call\n",
      "None\n"
     ]
    }
   ],
   "source": [
    "class practice_callback:\n",
    "    def __init__(self):\n",
    "        print(\"Its in init\")\n",
    "    def __call__(self):\n",
    "        print(\"Its in call\")\n",
    "a = practice_callback()\n",
    "print(a)\n",
    "print(a())"
   ]
  },
  {
   "cell_type": "markdown",
   "metadata": {},
   "source": [
    "#### My Own Understanding of Classes \n",
    "[StackOverflow](https://stackoverflow.com/questions/23944657/typeerror-method-takes-1-positional-argument-but-2-were-given)\n",
    "\n"
   ]
  },
  {
   "cell_type": "code",
   "execution_count": 7,
   "metadata": {},
   "outputs": [
    {
     "name": "stdout",
     "output_type": "stream",
     "text": [
      "1\n"
     ]
    }
   ],
   "source": [
    "class math:\n",
    "    def add(self,a,b):\n",
    "        return a+b\n",
    "    @staticmethod\n",
    "    def sub(a,b):\n",
    "        return a-b\n",
    "\n",
    "mymath = math()\n",
    "a=2\n",
    "b=1\n",
    "print(mymath.sub(a,b))"
   ]
  },
  {
   "cell_type": "code",
   "execution_count": 21,
   "metadata": {},
   "outputs": [
    {
     "name": "stdout",
     "output_type": "stream",
     "text": [
      "python_init\n"
     ]
    }
   ],
   "source": [
    "# Changing Attributes names through a method using self in python \n",
    "class snake:\n",
    "    name = \"python\"\n",
    "\n",
    "    def __init__(self):\n",
    "        self.name = \"python_init\"\n",
    "    def __call__(self):\n",
    "        return self.name\n",
    "    def changename(self, new_name):\n",
    "        self.name = new_name\n",
    "        return self.name\n",
    "#Initiate the class\n",
    "snakes = snake()\n",
    "#printing snakes.name --> always``b```` printing the name in __init__ method \n",
    "print(snakes.name)\n",
    "\n",
    "\n"
   ]
  },
  {
   "cell_type": "markdown",
   "metadata": {},
   "source": [
    "### Conclusinob\n",
    "The self helps in makeing the method refer to the object it is attached with.\n",
    "\n",
    "You can also provide the values for the attributes at runtime. This is done by defining the attributes inside the init method. \n",
    "[hackerearth_ref](https://www.hackerearth.com/ja/practice/python/object-oriented-programming/classes-and-objects-i/tutorial/)\n"
   ]
  },
  {
   "cell_type": "code",
   "execution_count": 26,
   "metadata": {},
   "outputs": [
    {
     "name": "stdout",
     "output_type": "stream",
     "text": [
      "python\n",
      "anaconda\n"
     ]
    }
   ],
   "source": [
    "class Snake:\n",
    "\n",
    "    def __init__(self, name):\n",
    "        self.name = name\n",
    "\n",
    "    def change_name(self, new_name):\n",
    "        self.name = new_name\n",
    "        \n",
    " # two variables are instantiated\n",
    "python = Snake(\"python\")\n",
    "anaconda = Snake(\"anaconda\")\n",
    "print(python.name)\n",
    "print(anaconda.name)"
   ]
  },
  {
   "cell_type": "markdown",
   "metadata": {},
   "source": [
    "## Understanding namespace\n"
   ]
  },
  {
   "cell_type": "code",
   "execution_count": 6,
   "metadata": {},
   "outputs": [
    {
     "name": "stdout",
     "output_type": "stream",
     "text": [
      "begin()->  ['In', 'Out', '_', '__', '___', '__builtin__', '__builtins__', '__doc__', '__loader__', '__name__', '__package__', '__spec__', '_dh', '_i', '_i1', '_i2', '_i3', '_i4', '_i5', '_i6', '_ih', '_ii', '_iii', '_oh', 'a_var', 'exit', 'foo', 'get_ipython', 'quit']\n",
      "inside foo()->  ['b_var']\n",
      "end()->  ['In', 'Out', '_', '__', '___', '__builtin__', '__builtins__', '__doc__', '__loader__', '__name__', '__package__', '__spec__', '_dh', '_i', '_i1', '_i2', '_i3', '_i4', '_i5', '_i6', '_ih', '_ii', '_iii', '_oh', 'a_var', 'exit', 'foo', 'get_ipython', 'quit']\n"
     ]
    }
   ],
   "source": [
    "a_var = 10\n",
    "print(\"begin()-> \", dir())\n",
    "def foo():\n",
    " b_var = 11\n",
    " print(\"inside foo()-> \", dir())\n",
    "foo()\n",
    "print(\"end()-> \", dir())"
   ]
  },
  {
   "cell_type": "code",
   "execution_count": null,
   "metadata": {},
   "outputs": [],
   "source": []
  }
 ],
 "metadata": {
  "kernelspec": {
   "display_name": "Python 3",
   "language": "python",
   "name": "python3"
  },
  "language_info": {
   "codemirror_mode": {
    "name": "ipython",
    "version": 3
   },
   "file_extension": ".py",
   "mimetype": "text/x-python",
   "name": "python",
   "nbconvert_exporter": "python",
   "pygments_lexer": "ipython3",
   "version": "3.7.3"
  }
 },
 "nbformat": 4,
 "nbformat_minor": 2
}
