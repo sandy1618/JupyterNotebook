{
 "cells": [
  {
   "cell_type": "code",
   "execution_count": 91,
   "metadata": {},
   "outputs": [
    {
     "name": "stdout",
     "output_type": "stream",
     "text": [
      "a\n",
      "None\n",
      "<__main__.Binarytree object at 0x7f534395b438>\n",
      "b\n",
      "<__main__.Binarytree object at 0x7f5343b42d30>\n",
      "c\n",
      "Hello\n"
     ]
    }
   ],
   "source": [
    "# using classes to solve \n",
    "class Binarytree:\n",
    "    def __init__(self,data = None):\n",
    "        self.key = data\n",
    "        self.leftchild = None\n",
    "        self.rightchild = None\n",
    "    def insertleft(self,newdata):\n",
    "        t = Binarytree(newdata)\n",
    "        if self.leftchild == None:\n",
    "            self.leftchild = t\n",
    "        else:\n",
    "            temp = self.leftchild\n",
    "            self.leftchild = t\n",
    "            t.leftchild = temp\n",
    "    def insertright(self,newdata):\n",
    "        t = Binarytree(newdata)\n",
    "        if self.rightchild == None:\n",
    "            self.rightchild = t\n",
    "        else:\n",
    "            temp = self.rightchild\n",
    "            self.rightchild =t\n",
    "            t.rightchild = temp\n",
    "    \n",
    "    def getleftchild(self):\n",
    "        return self.leftchild\n",
    "    def getrightchild(self):\n",
    "        return self.rightchild\n",
    "    def setRootval(self,data):\n",
    "        self.key = data\n",
    "    def getRootVal(self):\n",
    "        return self.key\n",
    "\n",
    "r = Binarytree('a')\n",
    "print(r.getRootVal())\n",
    "print(r.getleftchild())\n",
    "r.insertleft('b')\n",
    "print(r.getleftchild())\n",
    "print(r.getleftchild().getRootVal())\n",
    "r.insertright('c')\n",
    "print(r.getrightchild())\n",
    "print(r.getrightchild().getRootVal())\n",
    "r.getrightchild().setRootval('Hello')\n",
    "print(r.getrightchild().getRootVal())"
   ]
  },
  {
   "cell_type": "code",
   "execution_count": 54,
   "metadata": {},
   "outputs": [
    {
     "name": "stdout",
     "output_type": "stream",
     "text": [
      "((3+4)*2)\n"
     ]
    }
   ],
   "source": [
    "from collections import deque\n",
    "def input_func():\n",
    "    inputstring = input().strip()\n",
    "    return inputstring\n",
    "s = input_func()"
   ]
  },
  {
   "cell_type": "code",
   "execution_count": 92,
   "metadata": {},
   "outputs": [
    {
     "name": "stdout",
     "output_type": "stream",
     "text": [
      "(\n",
      "(\n",
      "3\n",
      "+\n",
      "4\n",
      ")\n",
      "*\n",
      "2\n"
     ]
    }
   ],
   "source": [
    "stack = deque()\n",
    "operators = set(['*','+',\"/\",'-'])\n",
    "open_paranth = '('\n",
    "close_paranth = ')'\n",
    "root_tree = Binarytree()\n",
    "for char in s:\n",
    "    if char is open_paranth:        \n",
    "        stack.append(root_tree)\n",
    "        print(char)\n",
    "    elif char in operators:\n",
    "        stack[-1].key = char\n",
    "        print(char)\n",
    "    elif char is close_paranth:\n",
    "        popped_node = stack.pop()\n",
    "        try:\n",
    "            if stack[-1].getrightchild() is None:\n",
    "                stack[-1].insertright(popped_node)\n",
    "            else:\n",
    "                stack[-1].insertleft(popped_node)\n",
    "            print(char)\n",
    "        except IndexError:\n",
    "            pass\n",
    "    else:\n",
    "        if stack[-1].getleftchild() is None:\n",
    "            stack[-1].insertleft(char)\n",
    "        else :\n",
    "            stack[-1].insertright(char)\n",
    "        print(char)"
   ]
  },
  {
   "cell_type": "code",
   "execution_count": 90,
   "metadata": {},
   "outputs": [
    {
     "name": "stdout",
     "output_type": "stream",
     "text": [
      "3\n"
     ]
    }
   ],
   "source": [
    "val = root_tree.getleftchild()\n",
    "print(val.key)"
   ]
  },
  {
   "cell_type": "code",
   "execution_count": 2,
   "metadata": {},
   "outputs": [],
   "source": [
    "import treelib import Node, Tree\n",
    "tree = Tree()\n",
    "\n"
   ]
  }
 ],
 "metadata": {
  "kernelspec": {
   "display_name": "Python 3",
   "language": "python",
   "name": "python3"
  },
  "language_info": {
   "codemirror_mode": {
    "name": "ipython",
    "version": 3
   },
   "file_extension": ".py",
   "mimetype": "text/x-python",
   "name": "python",
   "nbconvert_exporter": "python",
   "pygments_lexer": "ipython3",
   "version": "3.7.3"
  }
 },
 "nbformat": 4,
 "nbformat_minor": 2
}
