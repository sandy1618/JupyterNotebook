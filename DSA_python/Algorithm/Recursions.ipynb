{
 "cells": [
  {
   "cell_type": "markdown",
   "metadata": {},
   "source": [
    "# Recursions\n",
    "[sum of list ](https://runestone.academy/runestone/books/published/pythonds/Recursion/pythondsCalculatingtheSumofaListofNumbers.html)"
   ]
  },
  {
   "cell_type": "code",
   "execution_count": 3,
   "metadata": {},
   "outputs": [
    {
     "name": "stdout",
     "output_type": "stream",
     "text": [
      "15\n"
     ]
    }
   ],
   "source": [
    "def totalsum(numlist):\n",
    "    if len(numlist) == 1:\n",
    "        return numlist[0] # important , escape clause or base condition\n",
    "    else :\n",
    "        return numlist[0] + totalsum(numlist[1:]) # core of recursion, function call itself to solve smaller problem\n",
    "\n",
    "print(totalsum([1,2,3,4,5]))\n",
    "\n",
    "        "
   ]
  },
  {
   "cell_type": "code",
   "execution_count": null,
   "metadata": {},
   "outputs": [],
   "source": []
  },
  {
   "cell_type": "code",
   "execution_count": 7,
   "metadata": {},
   "outputs": [
    {
     "name": "stdout",
     "output_type": "stream",
     "text": [
      "120\n"
     ]
    }
   ],
   "source": [
    "def factorial(n):\n",
    "    if n <= 1:\n",
    "        return 1\n",
    "    else :\n",
    "        return n * factorial(n-1)\n",
    "print(factorial(5))"
   ]
  },
  {
   "cell_type": "code",
   "execution_count": 10,
   "metadata": {},
   "outputs": [
    {
     "ename": "UnboundLocalError",
     "evalue": "local variable 'count' referenced before assignment",
     "output_type": "error",
     "traceback": [
      "\u001b[0;31m---------------------------------------------------------------------\u001b[0m",
      "\u001b[0;31mUnboundLocalError\u001b[0m                   Traceback (most recent call last)",
      "\u001b[0;32m<ipython-input-10-623f51ff019a>\u001b[0m in \u001b[0;36m<module>\u001b[0;34m\u001b[0m\n\u001b[1;32m     12\u001b[0m         \u001b[0;32mreturn\u001b[0m \u001b[0mcount\u001b[0m\u001b[0;34m\u001b[0m\u001b[0;34m\u001b[0m\u001b[0m\n\u001b[1;32m     13\u001b[0m \u001b[0;34m\u001b[0m\u001b[0m\n\u001b[0;32m---> 14\u001b[0;31m \u001b[0mprint\u001b[0m\u001b[0;34m(\u001b[0m\u001b[0mrecurse_count\u001b[0m\u001b[0;34m(\u001b[0m\u001b[0mL\u001b[0m\u001b[0;34m,\u001b[0m\u001b[0mx\u001b[0m\u001b[0;34m)\u001b[0m\u001b[0;34m)\u001b[0m\u001b[0;34m\u001b[0m\u001b[0;34m\u001b[0m\u001b[0m\n\u001b[0m",
      "\u001b[0;32m<ipython-input-10-623f51ff019a>\u001b[0m in \u001b[0;36mrecurse_count\u001b[0;34m(L, x)\u001b[0m\n\u001b[1;32m      9\u001b[0m             \u001b[0;32mreturn\u001b[0m \u001b[0mcount\u001b[0m\u001b[0;34m\u001b[0m\u001b[0;34m\u001b[0m\u001b[0m\n\u001b[1;32m     10\u001b[0m     \u001b[0;32melse\u001b[0m\u001b[0;34m:\u001b[0m\u001b[0;34m\u001b[0m\u001b[0;34m\u001b[0m\u001b[0m\n\u001b[0;32m---> 11\u001b[0;31m         \u001b[0mcount\u001b[0m \u001b[0;34m=\u001b[0m \u001b[0mcount\u001b[0m \u001b[0;34m+\u001b[0m \u001b[0mrecurse_count\u001b[0m\u001b[0;34m(\u001b[0m\u001b[0mL\u001b[0m\u001b[0;34m[\u001b[0m\u001b[0;36m1\u001b[0m\u001b[0;34m:\u001b[0m\u001b[0;34m]\u001b[0m\u001b[0;34m)\u001b[0m\u001b[0;34m\u001b[0m\u001b[0;34m\u001b[0m\u001b[0m\n\u001b[0m\u001b[1;32m     12\u001b[0m         \u001b[0;32mreturn\u001b[0m \u001b[0mcount\u001b[0m\u001b[0;34m\u001b[0m\u001b[0;34m\u001b[0m\u001b[0m\n\u001b[1;32m     13\u001b[0m \u001b[0;34m\u001b[0m\u001b[0m\n",
      "\u001b[0;31mUnboundLocalError\u001b[0m: local variable 'count' referenced before assignment"
     ]
    }
   ],
   "source": [
    "count = 0\n",
    "L = [1,2,3,4,5,6]\n",
    "x = 2\n",
    "def recurse_count(L,x):\n",
    "\n",
    "    if len(L) == 1: # base case\n",
    "        if L[0] > x :\n",
    "            count+=1\n",
    "            return count\n",
    "    else:\n",
    "        count = count + recurse_count(L[1:])\n",
    "        return count\n",
    "\n",
    "print(recurse_count(L,x))\n"
   ]
  },
  {
   "cell_type": "code",
   "execution_count": null,
   "metadata": {},
   "outputs": [],
   "source": [
    "__author__ = \"Sandeep and sumit\"\n",
    "# (n, L, x)  => count (L) > x\n",
    "count = 0\n",
    "L = [1,2,3,4,5,6]\n",
    "x = 2\n",
    "def recurse_count(L,x):\n",
    "    global count\n",
    "    if len(L) == 1: # base case\n",
    "        if L[0] > x :\n",
    "            count+=1\n",
    "            return count\n",
    "    else:\n",
    "        count = count + recurse_count(L[1:],x)\n",
    "        return count\n",
    "\n",
    "print(recurse_count(L,x))\n",
    "\n",
    "\n",
    "\n",
    "                                                fib(5) (5)\n",
    "                            fib(4)(3)                             fib(3) (2)\n",
    "                fib(3)(2)          fib(2)(1)             fib(2)(1)       fib(1)(1)\n",
    "            (1)fib(2)   fib(1)   fib(1)   fib(0)    fib(1)  fib(0)    1\n",
    "        fib(1)  fib(0)         1        0           1       0\n",
    "        1       0\n",
    "\n",
    "        5, 4, 3, 3, 2, 2, 1, 2, 1, 1, 0, 1, 0, 1, 0\n",
    "\n",
    "                    [1,2,3,4]\n",
    "            sum = (1+(2+(3+4)))\n",
    "            sum (list) = list[0] + sum(list[1:])\n",
    "            if len(list) %2 == 0:\n",
    "                return list[0] + sum(list[1:])\n",
    "                return list[0]\n",
    "\n",
    "                sum(list)\n",
    "                list[0] + sum[list1:]\n",
    "                            list[0] + list[1:]\n",
    "                                .................list[0]\n",
    "\n",
    "        sum(n : L) => L[n] + sum(n - 1 : L)\n",
    "        fib(n) => fib(n - 1) + fib(n - 2)\n",
    "\n",
    "        if lenght(L) is even:\n",
    "            expression(sum) is sum(n:L) => list(first element) + sum(n-1)\n",
    "        else\n",
    "            expression(sum) is sum(n:L) => sum(n-1) + list(first element)\n",
    "\n",
    "\n",
    "            expression(sum) => sum(half_elements_of list) + sum(other half) = O(nlog(n))\n",
    "\n",
    "            sort(n) => sort(n - 1) + place_last_number(l -> n-1) => O(n2)\n",
    "\n",
    "            [5, 7, 8, 5, 4, 36, 7, 8]\n",
    "\n",
    "            l : [] , r : [7, 8, 8, 36]\n",
    "\n",
    "            4, 5, 5, 7, 7, 8, 8, 36\n",
    "\n",
    "            [4, 5, 5, 7, 7, 8], 36\n",
    "\n",
    "            [4, 5, 5, 7, 7], 8\n",
    "\n",
    "            sort(n : L) => f : sort(n/2 : L) + h : sort(n/2 : L) + MERGE(f, h)(n)\n",
    "\n",
    "            sum(n : L) => f : sum(n/2 : L) + h : sum(n/2 : L)\n",
    "\n",
    "            count(n : L) => count(n - 1 : L) + check(L[n] > 6) (t | f)\n",
    "\n",
    "            def check(a, b, count) : count {\n",
    "                if(a > b) => count++\n",
    "                    else count\n",
    "            }\n",
    "\n",
    "            def count(L, b, count) : count {\n",
    "                count = count +  count(L : n - 1, b, count)\n",
    "            }\n",
    "\n",
    "            [4], 5\n"
   ]
  }
 ],
 "metadata": {
  "kernelspec": {
   "display_name": "Python 3",
   "language": "python",
   "name": "python3"
  },
  "language_info": {
   "codemirror_mode": {
    "name": "ipython",
    "version": 3
   },
   "file_extension": ".py",
   "mimetype": "text/x-python",
   "name": "python",
   "nbconvert_exporter": "python",
   "pygments_lexer": "ipython3",
   "version": "3.6.9"
  }
 },
 "nbformat": 4,
 "nbformat_minor": 2
}
