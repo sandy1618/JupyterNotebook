{
 "cells": [
  {
   "cell_type": "code",
   "execution_count": null,
   "metadata": {},
   "outputs": [],
   "source": [
    "# using List as stack \n",
    "import numpy as np \n",
    "list1 = [x for x in range(5)]\n",
    "list1.append(2)\n",
    "list1.pop() # without arguents pops the last elements \n"
   ]
  },
  {
   "cell_type": "code",
   "execution_count": null,
   "metadata": {},
   "outputs": [],
   "source": [
    "# https://www.hackerrank.com/challenges/maximum-element/problem\n",
    "n = int(input())\n",
    "stack =[]\n",
    "for x in range(n):\n",
    "    int_list = list(map(int,input().split()))\n",
    "    instruction = int_list[0]\n",
    "    try:\n",
    "        value = int_list[1]\n",
    "    except IndexError:\n",
    "        pass \n",
    "    if instruction == 1:\n",
    "        stack.append(value)\n",
    "    elif instruction == 2:\n",
    "        stack.pop()\n",
    "    elif instruction == 3:\n",
    "        print(max(stack))\n",
    "        "
   ]
  },
  {
   "cell_type": "code",
   "execution_count": 46,
   "metadata": {},
   "outputs": [
    {
     "name": "stdout",
     "output_type": "stream",
     "text": [
      "4\n",
      "4\n"
     ]
    },
    {
     "ename": "AttributeError",
     "evalue": "'list' object has no attribute 'isempty'",
     "output_type": "error",
     "traceback": [
      "\u001b[0;31m---------------------------------------------------------------------------\u001b[0m",
      "\u001b[0;31mAttributeError\u001b[0m                            Traceback (most recent call last)",
      "\u001b[0;32m<ipython-input-46-c33e71364632>\u001b[0m in \u001b[0;36m<module>\u001b[0;34m\u001b[0m\n\u001b[1;32m      5\u001b[0m     \u001b[0mprint\u001b[0m\u001b[0;34m(\u001b[0m\u001b[0mm\u001b[0m\u001b[0;34m[\u001b[0m\u001b[0;34m-\u001b[0m\u001b[0;36m1\u001b[0m\u001b[0;34m]\u001b[0m\u001b[0;34m)\u001b[0m\u001b[0;34m\u001b[0m\u001b[0;34m\u001b[0m\u001b[0m\n\u001b[1;32m      6\u001b[0m \u001b[0mprint\u001b[0m\u001b[0;34m(\u001b[0m\u001b[0mm\u001b[0m\u001b[0;34m.\u001b[0m\u001b[0mpop\u001b[0m\u001b[0;34m(\u001b[0m\u001b[0;34m)\u001b[0m\u001b[0;34m)\u001b[0m\u001b[0;34m\u001b[0m\u001b[0;34m\u001b[0m\u001b[0m\n\u001b[0;32m----> 7\u001b[0;31m \u001b[0mprint\u001b[0m\u001b[0;34m(\u001b[0m\u001b[0mm\u001b[0m\u001b[0;34m.\u001b[0m\u001b[0misempty\u001b[0m\u001b[0;34m(\u001b[0m\u001b[0;34m)\u001b[0m\u001b[0;34m)\u001b[0m\u001b[0;34m\u001b[0m\u001b[0;34m\u001b[0m\u001b[0m\n\u001b[0m",
      "\u001b[0;31mAttributeError\u001b[0m: 'list' object has no attribute 'isempty'"
     ]
    }
   ],
   "source": [
    "m = [1,2,4]\n",
    "if not m:\n",
    "    print('empty')\n",
    "else :\n",
    "    print(m[-1])\n",
    "print(m.pop())\n",
    "print(m.isempty())"
   ]
  },
  {
   "cell_type": "code",
   "execution_count": null,
   "metadata": {},
   "outputs": [],
   "source": [
    "# method 2 Having two stack buckets\n",
    "stk = []\n",
    "max_stk = []\n",
    "n = int(input())\n",
    "for x in range(n):\n",
    "    list1 = list(map(int,input().split()))\n",
    "    instruction=list1[0]\n",
    "    try:\n",
    "        value = list1[1]\n",
    "    except IndexError:\n",
    "        pass\n",
    "    if instruction == 1:\n",
    "        # Append both stack and max stack \n",
    "        stk.append(value)\n",
    "#         if not max_stk :            # This can be improvised \n",
    "#             max_stk.append(value)\n",
    "#         elif max_stk[-1] <= value:\n",
    "#             max_stk.append(value)\n",
    "    elif not max_stk or max_stk[-1] < = value : # equal to is important for specific case, ie repeating max\n",
    "        else :\n",
    "            pass\n",
    "    elif instruction == 2:\n",
    "        removed = stk.pop()\n",
    "        if max_stk[-1] == removed:\n",
    "            max_stk.pop()\n",
    "    elif instruction == 3:\n",
    "        print(max_stk[-1])\n",
    "    else:\n",
    "        pass"
   ]
  },
  {
   "cell_type": "code",
   "execution_count": 52,
   "metadata": {},
   "outputs": [
    {
     "name": "stdout",
     "output_type": "stream",
     "text": [
      "20\n",
      "1 20\n",
      "1 2\n",
      "1 20\n",
      "1 20\n",
      "2\n",
      "2\n",
      "2\n",
      "2\n",
      "3\n"
     ]
    },
    {
     "ename": "IndexError",
     "evalue": "list index out of range",
     "output_type": "error",
     "traceback": [
      "\u001b[0;31m---------------------------------------------------------------------------\u001b[0m",
      "\u001b[0;31mIndexError\u001b[0m                                Traceback (most recent call last)",
      "\u001b[0;32m<ipython-input-52-d29b478e6b3f>\u001b[0m in \u001b[0;36m<module>\u001b[0;34m\u001b[0m\n\u001b[1;32m     18\u001b[0m         \u001b[0mmax_stack\u001b[0m\u001b[0;34m.\u001b[0m\u001b[0mpop\u001b[0m\u001b[0;34m(\u001b[0m\u001b[0;34m)\u001b[0m\u001b[0;34m\u001b[0m\u001b[0;34m\u001b[0m\u001b[0m\n\u001b[1;32m     19\u001b[0m     \u001b[0;32melse\u001b[0m\u001b[0;34m:\u001b[0m\u001b[0;34m\u001b[0m\u001b[0;34m\u001b[0m\u001b[0m\n\u001b[0;32m---> 20\u001b[0;31m         \u001b[0mprint\u001b[0m\u001b[0;34m(\u001b[0m\u001b[0mmax_stack\u001b[0m\u001b[0;34m[\u001b[0m\u001b[0;34m-\u001b[0m\u001b[0;36m1\u001b[0m\u001b[0;34m]\u001b[0m\u001b[0;34m)\u001b[0m\u001b[0;34m\u001b[0m\u001b[0;34m\u001b[0m\u001b[0m\n\u001b[0m\u001b[1;32m     21\u001b[0m \u001b[0;34m\u001b[0m\u001b[0m\n",
      "\u001b[0;31mIndexError\u001b[0m: list index out of range"
     ]
    }
   ],
   "source": [
    "stack = []\n",
    "max_stack = []\n",
    "\n",
    "for _ in range(int(input())):\n",
    "    try:\n",
    "        cmd = input()\n",
    "    except:\n",
    "        cmd = '3'\n",
    "    if cmd[0] == '1':\n",
    "        n = int(cmd.split()[1])\n",
    "        stack.append(n)\n",
    "        if len(max_stack) == 0 or max_stack[-1] < n:\n",
    "            max_stack.append(n)\n",
    "        else: \n",
    "            max_stack.append(max_stack[-1]) # This line bacially takes care of equal to symbol . \n",
    "    elif cmd == '2':\n",
    "        stack.pop()\n",
    "        max_stack.pop()\n",
    "    else: \n",
    "        print(max_stack[-1])\n",
    "    "
   ]
  },
  {
   "cell_type": "code",
   "execution_count": 45,
   "metadata": {},
   "outputs": [
    {
     "name": "stdout",
     "output_type": "stream",
     "text": [
      "0\n",
      "1\n"
     ]
    }
   ],
   "source": [
    "# understanding the usage of _ variable. \n",
    "for _ in range(2):\n",
    "    print(_)"
   ]
  }
 ],
 "metadata": {
  "kernelspec": {
   "display_name": "Python 3",
   "language": "python",
   "name": "python3"
  },
  "language_info": {
   "codemirror_mode": {
    "name": "ipython",
    "version": 3
   },
   "file_extension": ".py",
   "mimetype": "text/x-python",
   "name": "python",
   "nbconvert_exporter": "python",
   "pygments_lexer": "ipython3",
   "version": "3.7.3"
  }
 },
 "nbformat": 4,
 "nbformat_minor": 2
}
