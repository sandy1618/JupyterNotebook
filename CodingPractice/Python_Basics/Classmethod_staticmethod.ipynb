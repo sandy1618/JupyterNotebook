{
 "cells": [
  {
   "cell_type": "code",
   "execution_count": 17,
   "metadata": {},
   "outputs": [],
   "source": [
    "class A(object):\n",
    "    def __init__(self, string0):\n",
    "        self.string0 = string0\n",
    "    @classmethod\n",
    "    def print_class_method(cls,string1):\n",
    "        print(string1)\n",
    "    \n",
    "    @staticmethod\n",
    "    def print_static_method(string2):\n",
    "        print(string2)\n",
    "    \n",
    "    def print_instance_method(self):\n",
    "        print(self.string0)"
   ]
  },
  {
   "cell_type": "code",
   "execution_count": 18,
   "metadata": {},
   "outputs": [
    {
     "name": "stdout",
     "output_type": "stream",
     "text": [
      "inclassmethod\n",
      "instaticmethod\n",
      "inclassviaobject\n"
     ]
    }
   ],
   "source": [
    "a = A('ininstance')\n",
    "A.print_class_method('inclassmethod')\n",
    "A.print_static_method('instaticmethod')\n",
    "a.print_class_method('inclassviaobject')"
   ]
  }
 ],
 "metadata": {
  "kernelspec": {
   "display_name": "Python 3",
   "language": "python",
   "name": "python3"
  },
  "language_info": {
   "codemirror_mode": {
    "name": "ipython",
    "version": 3
   },
   "file_extension": ".py",
   "mimetype": "text/x-python",
   "name": "python",
   "nbconvert_exporter": "python",
   "pygments_lexer": "ipython3",
   "version": "3.7.3"
  }
 },
 "nbformat": 4,
 "nbformat_minor": 2
}
