{
 "cells": [
  {
   "cell_type": "markdown",
   "metadata": {},
   "source": [
    "# Sets"
   ]
  },
  {
   "cell_type": "markdown",
   "metadata": {},
   "source": [
    "### Properties\n",
    "1. set elements: Has unique & must be immutable ie.A set cannot have mutable elements like a list, set or dictionary, as its elements.\n",
    "2. However, the set itself is mutable. We can add or remove items from it.\n",
    "3. set: unordered , so indexing has no meaning.\n",
    "4. forzenset() -> immutable set, so no adding/removing operations. rest: same as set. \n",
    "\n",
    "### Creating\n",
    "1. {value1,value2} -> set in curly brackets separated by comma\n",
    "2. set()  -> create set, accepts immutables\n",
    "\n",
    "### Accessing\n",
    "1. unordered, so cannot access elements. Instead use membership tests. \n",
    "\n",
    "\n",
    "### Modifiying (Adding, Updating, rearranging)\n",
    "1. s.add() -> Adds an element to the set\n",
    "2. s.update -> Only takes iterable. Adds all elements to the set by updating it.\n",
    "\n",
    "### Deleting\n",
    "1. s.pop() -> !! It does not take any values!!  Returns random item & remove it from set\n",
    "2. s.remove(key) ->  remove the particular key from set. Raises Error if key does not exist.\n",
    "3. s.discard(key) -> remove the particular key from set. Does not raise error if key does not exists.\n",
    "4. s.clear() -> clears the entire set. \n",
    "\n",
    "### Type Conversion\n",
    "1. set()  -> create set, accepts immutables\n",
    "\n",
    "### Operations with set\n",
    "\n",
    "Basic Mathematical Operations : operators or methods available.\n",
    " \n",
    "1. | or union() -> set of  A union B\n",
    "2. & or intersection() -> set of A intersection B\n",
    "3. - or difference () -> set of elements only in A for A-B or only in B for B-A\n",
    "4. ^ or symmetric_difference() -> set of elements only in A + only in B\n",
    "5. <= or s.issubset(t) -> Returns True if s issubset(t) ie. all elements in s are in t\n",
    "6. >= or s.issuperset(t) -> Returns True if s issuperset(t) ie. all elements in t is in s.\n",
    "7. s.intersection_update(t) -> return set s ie. update s keeping only elements also found in t. !! makes direct change to set s.\n",
    "8. s.difference_update(t) -> return set s after removing elements found in t\n",
    "9. s.symmetric_difference_update(t) -> return set s with elements from s or t but not both\n",
    "10. s.isdisjoint(t) -> Returns true if there is no intersection\n",
    "11. key in s, key not in s -> Return true if a key in s.\n",
    "\n",
    "### Useful Cases examples\n",
    "1. Sets can be used to perform mathematical set operations like union, intersection, symmetric difference etc.\n",
    "\n"
   ]
  },
  {
   "cell_type": "markdown",
   "metadata": {},
   "source": [
    "### Creating\n",
    "1. {value1,value2} -> set in curly brackets separated by comma\n",
    "2. set()  -> create set, accepts immutables"
   ]
  },
  {
   "cell_type": "code",
   "execution_count": 3,
   "metadata": {},
   "outputs": [
    {
     "name": "stdout",
     "output_type": "stream",
     "text": [
      "{1.0, 'hello', (1, 2, 3)}\n",
      "{1, 2, 3, 4}\n"
     ]
    }
   ],
   "source": [
    "s = {1.0,'hello',(1,2,3)};print(s)\n",
    "\n",
    "s2 = set([1,2,3,4]) ;print(s2) # set from dict"
   ]
  },
  {
   "cell_type": "markdown",
   "metadata": {},
   "source": [
    "### Modifiying (Adding, Updating, rearranging)\n",
    "1. s.add() -> Adds an element to the set\n",
    "2. s.update -> Only takes iterable. Adds all elements to the set by updating it."
   ]
  },
  {
   "cell_type": "code",
   "execution_count": 13,
   "metadata": {},
   "outputs": [
    {
     "name": "stdout",
     "output_type": "stream",
     "text": [
      "{'I', ' Robotics and computer Science', 'thank', 'geeks', 'like', 'for'}\n",
      "{'I', ' Robotics and computer Science', 'thank', 'geeks', 'like', 'for', 'sandy'}\n",
      "{2, 'I', ' Robotics and computer Science', 'thank', 'geeks', 'like', 'for', 'sandy'}\n",
      "{'update', 'using', 2, 'I', ' Robotics and computer Science', 'thank', 'geeks', 'like', 'for', 'sandy', 'set2', 'set1'}\n"
     ]
    }
   ],
   "source": [
    "#Adding \n",
    "like = [\"I\",\"like\",\" Robotics and computer Science\",\"thank\",\"geeks\",\"for\",\"geeks\"]\n",
    "set_like = set(like);print(set_like)\n",
    "set_like.add(\"sandy\");print(set_like)\n",
    "\n",
    "# update() only works for iterable objects\n",
    "set_like.update([2]);print(set_like)\n",
    "#set_like.update(2);print(set_like) # Error:'int' object is not iterable\n",
    "set_like.update([\"using\",\"update\"],{'set1','set2'});print(set_like) # Can add list, tuple \n",
    "# set_like.update([\"using\",\"update\",[1,2,3,4]]) # Error: unhashable type: 'list'"
   ]
  },
  {
   "cell_type": "markdown",
   "metadata": {},
   "source": [
    "### Deleting\n",
    "1. s.pop() -> !! It does not take any values!!  Returns random item & remove it from set\n",
    "2. s.remove(key) ->  remove the particular key from set. Raises Error if key does not exist.\n",
    "3. s.discard(key) -> remove the particular key from set. Does not raise error if key does not exists.\n",
    "4. s.clear() -> clears the entire set. "
   ]
  },
  {
   "cell_type": "code",
   "execution_count": 22,
   "metadata": {},
   "outputs": [
    {
     "name": "stdout",
     "output_type": "stream",
     "text": [
      "orange\n",
      "{'apple', 'mango'}\n",
      "{'orange', 'mango'}\n",
      "{'orange', 'mango'}\n",
      "set()\n"
     ]
    }
   ],
   "source": [
    "# 1. s.pop() -> !! It does not take any values!!  Returns random item & remove it from set\n",
    "s={'apple','orange','mango'}\n",
    "print(s.pop());print(s)\n",
    "# print(s.pop('apple'));print(s) #Error: pop does not take arguments.\n",
    "\n",
    "# 2. s.remove(key) ->  remove the particular key from set. Raises Error if key does not exist.\n",
    "s={'apple','orange','mango'}\n",
    "s.remove('apple');print(s)\n",
    "# s.remove('sandy') # keyerror: 'sandy'\n",
    "\n",
    "# 3. s.discard(key) -> remove the particular key from set. Does not raise error if key does not exists.\n",
    "s = {'apple','orange','mango'}\n",
    "s.discard('apple');print(s)\n",
    "# s.discard('sandy') # No errors.\n",
    "\n",
    "# 4. s.clear() -> clears the entire set. \n",
    "s = {'apple','orange','mango'}\n",
    "s.clear();print(s)"
   ]
  },
  {
   "cell_type": "markdown",
   "metadata": {},
   "source": [
    "### Operations with set\n",
    "\n",
    "Basic Mathematical Operations : operators or methods available.\n",
    " \n",
    "1. | or union() -> set of  A union B\n",
    "2. & or intersection() -> set of A intersection B\n",
    "3. - or difference () -> set of elements only in A for A-B or only in B for B-A\n",
    "4. ^ or symmetric_difference() -> set of elements only in A + only in B\n",
    "5. <= or s.issubset(t) -> Returns True if s issubset(t) ie. all elements in s are in t\n",
    "6. >= or s.issuperset(t) -> Returns True if s issuperset(t) ie. all elements in t is in s.\n",
    "7. s.intersection_update(t) -> return set s ie. update s keeping only elements also found in t. !! makes direct change to set s.\n",
    "8. s.difference_update(t) -> return set s after removing elements found in t\n",
    "9. s.symmetric_difference_update(t) -> return set s with elements from s or t but not both\n",
    "10. s.isdisjoint(t) -> Returns true if there is no intersection\n",
    "11. key in s, key not in s -> Return true if a key in s.\n"
   ]
  },
  {
   "cell_type": "code",
   "execution_count": 39,
   "metadata": {},
   "outputs": [
    {
     "name": "stdout",
     "output_type": "stream",
     "text": [
      "{1, 2, 3, 4, 5, 6, 7, 8}\n",
      "{1, 2, 3, 4, 5, 6, 7, 8}\n",
      "{4, 5}\n",
      "{4, 5}\n",
      "{1, 2, 3}\n",
      "{1, 2, 3}\n",
      "{8, 6, 7}\n",
      "{8, 6, 7}\n",
      "{1, 2, 3, 6, 7, 8}\n",
      "{1, 2, 3, 6, 7, 8}\n",
      "True\n",
      "True\n",
      "False\n",
      "True\n",
      "True\n",
      "False\n"
     ]
    }
   ],
   "source": [
    "A = {1, 2, 3, 4, 5}\n",
    "B = {4, 5, 6, 7, 8}\n",
    "\n",
    "\n",
    "# | or union() -> set of  A union B\n",
    "print(A|B)\n",
    "print(A.union(B))\n",
    "\n",
    "# & or intersection() -> set of A intersection B\n",
    "print(A&B)\n",
    "print(A.intersection(B))\n",
    "\n",
    "# - or difference () -> set of elements only in A for A-B or only in B for B-A\n",
    "print(A-B); print(A.difference(B))\n",
    "print(B-A); print(B.difference(A))\n",
    "\n",
    "# ^ or symmetric_difference() -> set of elements only in A + only in B \n",
    "print(A^B) ; print(A.symmetric_difference(B))\n",
    "\n",
    "# <= or s.issubset(t) -> Returns True if s issubset(t) ie. all elements in s are in t\n",
    "s = {1,2}\n",
    "t = {1,2,3,4}\n",
    "t1 = {1,3,4}\n",
    "print(s <= t) ; print(s.issubset(t)); \n",
    "print(s <= t1)\n",
    "\n",
    "# >=  or s.issuperset(t) -> Returns True if s issuperset(t) ie. all elements in t is in s.\n",
    "s = {1,2,3,4}\n",
    "t = {1,2}\n",
    "t1 = {1,5}\n",
    "print(s>=t); print(s.issuperset(t))\n",
    "print(s>=t1)\n"
   ]
  },
  {
   "cell_type": "code",
   "execution_count": 48,
   "metadata": {},
   "outputs": [
    {
     "name": "stdout",
     "output_type": "stream",
     "text": [
      "{4, 5}\n",
      "{1, 2, 3}\n",
      "{1, 2, 3, 6, 7, 8}\n"
     ]
    },
    {
     "data": {
      "text/plain": [
       "True"
      ]
     },
     "execution_count": 48,
     "metadata": {},
     "output_type": "execute_result"
    }
   ],
   "source": [
    "# More operations \n",
    "s = {1, 2, 3, 4, 5}\n",
    "t = {4, 5, 6, 7, 8}\n",
    "# s.intersection_update(t) -> return set s ie. update s keeping only elements also found in t. !! makes direct change to set s.\n",
    "s.intersection_update(t); print(s)\n",
    "\n",
    "s = {1, 2, 3, 4, 5}\n",
    "t = {4, 5, 6, 7, 8}\n",
    "# s.difference_update(t) -> return set s after removing elements found in t\n",
    "s.difference_update(t);print(s)\n",
    "\n",
    "s = {1, 2, 3, 4, 5}\n",
    "t = {4, 5, 6, 7, 8}\n",
    "# s.symmetric_difference_update(t) -> return set s with elements from s or t but not both\n",
    "s.symmetric_difference_update(t);print(s)\n",
    "\n",
    "s = {1, 2, 3, 4, 5}\n",
    "t = {4, 5, 6, 7, 8}\n",
    "t1 = {9,0}\n",
    "# s.isdisjoint(t) -> Returns true if there is no intersection\n",
    "s.isdisjoint(t) # output : False as we have 4,5\n",
    "s.isdisjoint(t1) # output : True"
   ]
  },
  {
   "cell_type": "code",
   "execution_count": 46,
   "metadata": {},
   "outputs": [
    {
     "name": "stdout",
     "output_type": "stream",
     "text": [
      "True\n",
      "True\n"
     ]
    }
   ],
   "source": [
    "# Checking membership in sets.\n",
    "s = {1, 2, 3, 4, 5}\n",
    "print(2 in s)\n",
    "print(6 not in s)"
   ]
  },
  {
   "cell_type": "code",
   "execution_count": 12,
   "metadata": {},
   "outputs": [
    {
     "data": {
      "text/plain": [
       "{13, 17, 19}"
      ]
     },
     "execution_count": 12,
     "metadata": {},
     "output_type": "execute_result"
    }
   ],
   "source": [
    "# #1) Creating set\n",
    "# primes={3,5,7,9,11,13}\n",
    "# type(primes)\n",
    "\n",
    "# # 2) Creating set with constructor\n",
    "# unique=set(\"thegeeksstuff\");\n",
    "# unique\n",
    "\n",
    "# # 3) Creating empty set\n",
    "# empty={}\n",
    "# type(empty)\n",
    "# empty=set();\n",
    "# type(empty)\n",
    "\n",
    "# #4) Creating set from List\n",
    "# primesList=[3,5,7,11,13,17];\n",
    "# primeSet=set(primesList)\n",
    "# type(primeSet)\n",
    "# primeSet\n",
    "\n",
    "# # 5) Creating set from tuple\n",
    "# p=(3,5,7,11,13);\n",
    "# primes=set(p);\n",
    "# type(primes)\n",
    "# primes\n",
    "\n",
    "# # 6) Accessing values in Set\n",
    "# Primes = {3, 5, 7, 11, 13};\n",
    "# #Primes[1]; # uncommenting this throw error\n",
    "\n",
    "# #7) Using Add method\n",
    "# primes={3,5,7,11};\n",
    "# primes.add(19);\n",
    "# primes\n",
    "\n",
    "# # 8) Using update method\n",
    "# plist=[12,14,15,16];\n",
    "# primes.update(plist);\n",
    "# primes\n",
    "\n",
    "# #9) Using discard\n",
    "# primes={3, 5, 'santosh', 7, 11, 12, 14, 15, 16, 19};\n",
    "# primes.discard(\"santosh\")\n",
    "\n",
    "# # 10) Using remove\n",
    "# primes = {3, 5, 7, 11, 12, 14, 15, 16, 19}\n",
    "# primes.remove(11);\n",
    "# primes;\n",
    "\n",
    "# # 11) Union operation on sets\n",
    "# prime1={3,5,7,11};\n",
    "# prime2={3,5,7,11,13,17,19}\n",
    "# primes=prime1 | prime2\n",
    "# primes\n",
    "\n",
    "# # 12) Intersection operation on Sets\n",
    "# prime1={3,5,7,11};\n",
    "# prime2={3,5,7,11,13,17,19}\n",
    "# primes=prime1 &  prime2\n",
    "# primes\n",
    "\n",
    "# 13) Difference operation on sets\n",
    "prime2={3,5,7,11,13,17,19}\n",
    "prime1={3,5,7,11};\n",
    "primes=prime2-prime1\n",
    "primes\n",
    "\n",
    "# # 14) Symmetric difference\n",
    "# prime2={3,5,7,11,13,17,19}\n",
    "# prime1={3,5,7,11,91,101};\n",
    "# primes=prime2 ^ prime1\n",
    "# primes\n",
    "\n",
    "# # 15) Compare two sets\n",
    "# prime1={3,5,7,11,91,101};\n",
    "# prime={3,5,7,11,91,101};\n",
    "# test=prime==prime1\n",
    "# test\n",
    "\n",
    "# prime1={3,5,7,11,91,101};\n",
    "# prime1={3,5,7,11};\n",
    "# test=prime2<prime1\n",
    "# test\n",
    "\n",
    "# #16) Membership test on sets\n",
    "# prime1={3,5,7,11,91,101};\n",
    "# test= 3 in prime1\n",
    "# test\n",
    "\n",
    "# # 17) Iterating on set\n",
    "# primes={3,5,7,11,91,101};\n",
    "# for prime in primes:\n",
    "#     print(prime);\n",
    "\n",
    "# # 18) Clearing a set\n",
    "# prime1\n",
    "# {3, 5, 101, 7, 11, 91}\n",
    "# prime1.clear()\n",
    "\n",
    "# #19) interesting problem\n",
    "# number = [1,2,3,4,5,2,3,4,7,8,9,8,12,13,14,14,19]\n",
    "# print (set(number))"
   ]
  },
  {
   "cell_type": "markdown",
   "metadata": {},
   "source": [
    "[more operations on sets , the above eg](https://www.thegeekstuff.com/2019/04/python-set-examples/)"
   ]
  },
  {
   "cell_type": "code",
   "execution_count": 17,
   "metadata": {},
   "outputs": [
    {
     "name": "stdout",
     "output_type": "stream",
     "text": [
      "2\n",
      "1 2\n",
      "1.5\n"
     ]
    }
   ],
   "source": [
    "def average(array):\n",
    "    # your code goes here\n",
    "    array = set(array)\n",
    "    return sum(array)/len(array)\n",
    "if __name__ == '__main__':\n",
    "    n = int(input())\n",
    "#     arr = list(map(int,input().split()))\n",
    "    arr = list(map(int, input().split()))\n",
    "    \n",
    "#     print((arr))2\n",
    "    \n",
    "    result = average(arr)\n",
    "    print(result)"
   ]
  },
  {
   "cell_type": "code",
   "execution_count": 20,
   "metadata": {},
   "outputs": [
    {
     "name": "stdout",
     "output_type": "stream",
     "text": [
      "{'tohoku', 'university'}\n",
      "{(6, 'r'), (8, 'n'), (1, 'a'), (2, 'c'), (5, 'r'), (3, 'k'), (7, 'a'), (9, 'k'), (0, 'h'), (4, 'e')}\n"
     ]
    }
   ],
   "source": [
    "# Making a dictionary to set and aslo technique to use enumerate for creating a nice set \n",
    "# [hacker Rank](https://www.hackerrank.com/challenges/py-introduction-to-sets/problem)\n",
    "dict_set = {\"tohoku\":3, \"university\":1}\n",
    "print(set(dict_set))\n",
    "print(set(enumerate(list(\"hackerrank\"))))"
   ]
  },
  {
   "cell_type": "markdown",
   "metadata": {},
   "source": [
    "## Use case for Sets "
   ]
  },
  {
   "cell_type": "code",
   "execution_count": 12,
   "metadata": {},
   "outputs": [
    {
     "name": "stdout",
     "output_type": "stream",
     "text": [
      "1 2\n",
      "[1, 2]\n"
     ]
    }
   ],
   "source": [
    "# inputting techniques in python \n",
    "# num_arr = list(input())\n",
    "# print(num_arr)\n",
    "num_arr = list(map(int,input().split()))\n",
    "print(num_arr)"
   ]
  },
  {
   "cell_type": "code",
   "execution_count": 9,
   "metadata": {},
   "outputs": [
    {
     "name": "stdout",
     "output_type": "stream",
     "text": [
      "<generator object <genexpr> at 0x7f53a85775e8>\n",
      "5\n",
      "9\n",
      "11\n",
      "12\n"
     ]
    }
   ],
   "source": [
    "# arr_m = set([2,4,5,9])\n",
    "# arr_n = set([2,4,11,12])\n",
    "m = int(input())\n",
    "arr_m =set(list(map(int,input().split())))\n",
    "n = int(input())\n",
    "arr_n =set(list(map(int,input().split())))\n",
    "\n",
    "sym_dif =sorted(list( arr_m ^ arr_n))\n",
    "# print(sym_dif)\n",
    "# print([x for x in sym_dif])\n",
    "for x in sym_dif: \n",
    "    print (x)"
   ]
  },
  {
   "cell_type": "code",
   "execution_count": 2,
   "metadata": {},
   "outputs": [
    {
     "ename": "KeyboardInterrupt",
     "evalue": "",
     "output_type": "error",
     "traceback": [
      "\u001b[0;31m---------------------------------------------------------------------------\u001b[0m",
      "\u001b[0;31mKeyboardInterrupt\u001b[0m                         Traceback (most recent call last)",
      "\u001b[0;32m~/anaconda3/lib/python3.7/site-packages/ipykernel/kernelbase.py\u001b[0m in \u001b[0;36m_input_request\u001b[0;34m(self, prompt, ident, parent, password)\u001b[0m\n\u001b[1;32m    877\u001b[0m             \u001b[0;32mtry\u001b[0m\u001b[0;34m:\u001b[0m\u001b[0;34m\u001b[0m\u001b[0;34m\u001b[0m\u001b[0m\n\u001b[0;32m--> 878\u001b[0;31m                 \u001b[0mident\u001b[0m\u001b[0;34m,\u001b[0m \u001b[0mreply\u001b[0m \u001b[0;34m=\u001b[0m \u001b[0mself\u001b[0m\u001b[0;34m.\u001b[0m\u001b[0msession\u001b[0m\u001b[0;34m.\u001b[0m\u001b[0mrecv\u001b[0m\u001b[0;34m(\u001b[0m\u001b[0mself\u001b[0m\u001b[0;34m.\u001b[0m\u001b[0mstdin_socket\u001b[0m\u001b[0;34m,\u001b[0m \u001b[0;36m0\u001b[0m\u001b[0;34m)\u001b[0m\u001b[0;34m\u001b[0m\u001b[0;34m\u001b[0m\u001b[0m\n\u001b[0m\u001b[1;32m    879\u001b[0m             \u001b[0;32mexcept\u001b[0m \u001b[0mException\u001b[0m\u001b[0;34m:\u001b[0m\u001b[0;34m\u001b[0m\u001b[0;34m\u001b[0m\u001b[0m\n",
      "\u001b[0;32m~/anaconda3/lib/python3.7/site-packages/jupyter_client/session.py\u001b[0m in \u001b[0;36mrecv\u001b[0;34m(self, socket, mode, content, copy)\u001b[0m\n\u001b[1;32m    802\u001b[0m         \u001b[0;32mtry\u001b[0m\u001b[0;34m:\u001b[0m\u001b[0;34m\u001b[0m\u001b[0;34m\u001b[0m\u001b[0m\n\u001b[0;32m--> 803\u001b[0;31m             \u001b[0mmsg_list\u001b[0m \u001b[0;34m=\u001b[0m \u001b[0msocket\u001b[0m\u001b[0;34m.\u001b[0m\u001b[0mrecv_multipart\u001b[0m\u001b[0;34m(\u001b[0m\u001b[0mmode\u001b[0m\u001b[0;34m,\u001b[0m \u001b[0mcopy\u001b[0m\u001b[0;34m=\u001b[0m\u001b[0mcopy\u001b[0m\u001b[0;34m)\u001b[0m\u001b[0;34m\u001b[0m\u001b[0;34m\u001b[0m\u001b[0m\n\u001b[0m\u001b[1;32m    804\u001b[0m         \u001b[0;32mexcept\u001b[0m \u001b[0mzmq\u001b[0m\u001b[0;34m.\u001b[0m\u001b[0mZMQError\u001b[0m \u001b[0;32mas\u001b[0m \u001b[0me\u001b[0m\u001b[0;34m:\u001b[0m\u001b[0;34m\u001b[0m\u001b[0;34m\u001b[0m\u001b[0m\n",
      "\u001b[0;32m~/anaconda3/lib/python3.7/site-packages/zmq/sugar/socket.py\u001b[0m in \u001b[0;36mrecv_multipart\u001b[0;34m(self, flags, copy, track)\u001b[0m\n\u001b[1;32m    469\u001b[0m         \"\"\"\n\u001b[0;32m--> 470\u001b[0;31m         \u001b[0mparts\u001b[0m \u001b[0;34m=\u001b[0m \u001b[0;34m[\u001b[0m\u001b[0mself\u001b[0m\u001b[0;34m.\u001b[0m\u001b[0mrecv\u001b[0m\u001b[0;34m(\u001b[0m\u001b[0mflags\u001b[0m\u001b[0;34m,\u001b[0m \u001b[0mcopy\u001b[0m\u001b[0;34m=\u001b[0m\u001b[0mcopy\u001b[0m\u001b[0;34m,\u001b[0m \u001b[0mtrack\u001b[0m\u001b[0;34m=\u001b[0m\u001b[0mtrack\u001b[0m\u001b[0;34m)\u001b[0m\u001b[0;34m]\u001b[0m\u001b[0;34m\u001b[0m\u001b[0;34m\u001b[0m\u001b[0m\n\u001b[0m\u001b[1;32m    471\u001b[0m         \u001b[0;31m# have first part already, only loop while more to receive\u001b[0m\u001b[0;34m\u001b[0m\u001b[0;34m\u001b[0m\u001b[0;34m\u001b[0m\u001b[0m\n",
      "\u001b[0;32mzmq/backend/cython/socket.pyx\u001b[0m in \u001b[0;36mzmq.backend.cython.socket.Socket.recv\u001b[0;34m()\u001b[0m\n",
      "\u001b[0;32mzmq/backend/cython/socket.pyx\u001b[0m in \u001b[0;36mzmq.backend.cython.socket.Socket.recv\u001b[0;34m()\u001b[0m\n",
      "\u001b[0;32mzmq/backend/cython/socket.pyx\u001b[0m in \u001b[0;36mzmq.backend.cython.socket._recv_copy\u001b[0;34m()\u001b[0m\n",
      "\u001b[0;32m~/anaconda3/lib/python3.7/site-packages/zmq/backend/cython/checkrc.pxd\u001b[0m in \u001b[0;36mzmq.backend.cython.checkrc._check_rc\u001b[0;34m()\u001b[0m\n",
      "\u001b[0;31mKeyboardInterrupt\u001b[0m: ",
      "\nDuring handling of the above exception, another exception occurred:\n",
      "\u001b[0;31mKeyboardInterrupt\u001b[0m                         Traceback (most recent call last)",
      "\u001b[0;32m<ipython-input-2-16b442b6fbab>\u001b[0m in \u001b[0;36m<module>\u001b[0;34m\u001b[0m\n\u001b[1;32m      2\u001b[0m \u001b[0;31m# n = 3\u001b[0m\u001b[0;34m\u001b[0m\u001b[0;34m\u001b[0m\u001b[0;34m\u001b[0m\u001b[0m\n\u001b[1;32m      3\u001b[0m \u001b[0;31m# m = 2\u001b[0m\u001b[0;34m\u001b[0m\u001b[0;34m\u001b[0m\u001b[0;34m\u001b[0m\u001b[0m\n\u001b[0;32m----> 4\u001b[0;31m \u001b[0minput1\u001b[0m\u001b[0;34m=\u001b[0m\u001b[0mlist\u001b[0m\u001b[0;34m(\u001b[0m\u001b[0mmap\u001b[0m\u001b[0;34m(\u001b[0m\u001b[0mint\u001b[0m\u001b[0;34m,\u001b[0m\u001b[0minput\u001b[0m\u001b[0;34m(\u001b[0m\u001b[0;34m)\u001b[0m\u001b[0;34m.\u001b[0m\u001b[0msplit\u001b[0m\u001b[0;34m(\u001b[0m\u001b[0;34m)\u001b[0m\u001b[0;34m)\u001b[0m\u001b[0;34m)\u001b[0m\u001b[0;34m\u001b[0m\u001b[0;34m\u001b[0m\u001b[0m\n\u001b[0m\u001b[1;32m      5\u001b[0m \u001b[0mn\u001b[0m \u001b[0;34m=\u001b[0m \u001b[0minput1\u001b[0m\u001b[0;34m[\u001b[0m\u001b[0;36m0\u001b[0m\u001b[0;34m]\u001b[0m\u001b[0;34m\u001b[0m\u001b[0;34m\u001b[0m\u001b[0m\n\u001b[1;32m      6\u001b[0m \u001b[0mm\u001b[0m \u001b[0;34m=\u001b[0m \u001b[0minput1\u001b[0m\u001b[0;34m[\u001b[0m\u001b[0;36m1\u001b[0m\u001b[0;34m]\u001b[0m\u001b[0;34m\u001b[0m\u001b[0;34m\u001b[0m\u001b[0m\n",
      "\u001b[0;32m~/anaconda3/lib/python3.7/site-packages/ipykernel/kernelbase.py\u001b[0m in \u001b[0;36mraw_input\u001b[0;34m(self, prompt)\u001b[0m\n\u001b[1;32m    851\u001b[0m             \u001b[0mself\u001b[0m\u001b[0;34m.\u001b[0m\u001b[0m_parent_ident\u001b[0m\u001b[0;34m,\u001b[0m\u001b[0;34m\u001b[0m\u001b[0;34m\u001b[0m\u001b[0m\n\u001b[1;32m    852\u001b[0m             \u001b[0mself\u001b[0m\u001b[0;34m.\u001b[0m\u001b[0m_parent_header\u001b[0m\u001b[0;34m,\u001b[0m\u001b[0;34m\u001b[0m\u001b[0;34m\u001b[0m\u001b[0m\n\u001b[0;32m--> 853\u001b[0;31m             \u001b[0mpassword\u001b[0m\u001b[0;34m=\u001b[0m\u001b[0;32mFalse\u001b[0m\u001b[0;34m,\u001b[0m\u001b[0;34m\u001b[0m\u001b[0;34m\u001b[0m\u001b[0m\n\u001b[0m\u001b[1;32m    854\u001b[0m         )\n\u001b[1;32m    855\u001b[0m \u001b[0;34m\u001b[0m\u001b[0m\n",
      "\u001b[0;32m~/anaconda3/lib/python3.7/site-packages/ipykernel/kernelbase.py\u001b[0m in \u001b[0;36m_input_request\u001b[0;34m(self, prompt, ident, parent, password)\u001b[0m\n\u001b[1;32m    881\u001b[0m             \u001b[0;32mexcept\u001b[0m \u001b[0mKeyboardInterrupt\u001b[0m\u001b[0;34m:\u001b[0m\u001b[0;34m\u001b[0m\u001b[0;34m\u001b[0m\u001b[0m\n\u001b[1;32m    882\u001b[0m                 \u001b[0;31m# re-raise KeyboardInterrupt, to truncate traceback\u001b[0m\u001b[0;34m\u001b[0m\u001b[0;34m\u001b[0m\u001b[0;34m\u001b[0m\u001b[0m\n\u001b[0;32m--> 883\u001b[0;31m                 \u001b[0;32mraise\u001b[0m \u001b[0mKeyboardInterrupt\u001b[0m\u001b[0;34m\u001b[0m\u001b[0;34m\u001b[0m\u001b[0m\n\u001b[0m\u001b[1;32m    884\u001b[0m             \u001b[0;32melse\u001b[0m\u001b[0;34m:\u001b[0m\u001b[0;34m\u001b[0m\u001b[0;34m\u001b[0m\u001b[0m\n\u001b[1;32m    885\u001b[0m                 \u001b[0;32mbreak\u001b[0m\u001b[0;34m\u001b[0m\u001b[0;34m\u001b[0m\u001b[0m\n",
      "\u001b[0;31mKeyboardInterrupt\u001b[0m: "
     ]
    }
   ],
   "source": [
    "# Problem : No idea\n",
    "# n = 3\n",
    "# m = 2\n",
    "input1=list(map(int,input().split()))\n",
    "n = input1[0]\n",
    "m = input1[1]\n",
    "arr_n = list(map(int,input().split()))\n",
    "a = set(map(int,input().split()))\n",
    "b= set(map(int,input().split()))\n",
    "h = 0\n",
    "for item in arr_n:\n",
    "    if item in a : \n",
    "        h = h + 1\n",
    "    if item in b :\n",
    "        h = h - 1\n",
    "print(h)\n",
    "\n",
    "# Technique 2 \n",
    "# Enter your code here. Read input from STDIN. Print output to STDOUT\n",
    "m,n=tuple(map(int,raw_input().split()))\n",
    "arr=list(map(int,raw_input().split()))\n",
    "A=set(map(int,raw_input().split()))\n",
    "B=set(map(int,raw_input().split()))\n",
    "happy=len([x for x in arr if x in A])\n",
    "sad=len([i for i in arr if i in B])\n",
    "print(happy-sad)"
   ]
  },
  {
   "cell_type": "code",
   "execution_count": 23,
   "metadata": {},
   "outputs": [
    {
     "name": "stdout",
     "output_type": "stream",
     "text": [
      "3\n",
      "india\n",
      "india\n",
      "idnad\n",
      "2\n"
     ]
    }
   ],
   "source": [
    "#using .add()\n",
    "n = int(input())\n",
    "country = set()\n",
    "for i in range(n):\n",
    "    country.add(input().strip())\n",
    "print(len(country))"
   ]
  },
  {
   "cell_type": "code",
   "execution_count": 44,
   "metadata": {},
   "outputs": [
    {
     "name": "stdout",
     "output_type": "stream",
     "text": [
      "3\n",
      "1 2 3 \n",
      "remove 1\n"
     ]
    },
    {
     "ename": "ValueError",
     "evalue": "invalid literal for int() with base 10: 'remove 1'",
     "output_type": "error",
     "traceback": [
      "\u001b[0;31m---------------------------------------------------------------------------\u001b[0m",
      "\u001b[0;31mValueError\u001b[0m                                Traceback (most recent call last)",
      "\u001b[0;32m<ipython-input-44-5909e582738e>\u001b[0m in \u001b[0;36m<module>\u001b[0;34m\u001b[0m\n\u001b[1;32m      8\u001b[0m \u001b[0mn\u001b[0m \u001b[0;34m=\u001b[0m \u001b[0minput\u001b[0m\u001b[0;34m(\u001b[0m\u001b[0;34m)\u001b[0m\u001b[0;34m\u001b[0m\u001b[0;34m\u001b[0m\u001b[0m\n\u001b[1;32m      9\u001b[0m \u001b[0ms\u001b[0m \u001b[0;34m=\u001b[0m \u001b[0mset\u001b[0m\u001b[0;34m(\u001b[0m\u001b[0mmap\u001b[0m\u001b[0;34m(\u001b[0m\u001b[0mint\u001b[0m\u001b[0;34m,\u001b[0m \u001b[0minput\u001b[0m\u001b[0;34m(\u001b[0m\u001b[0;34m)\u001b[0m\u001b[0;34m.\u001b[0m\u001b[0msplit\u001b[0m\u001b[0;34m(\u001b[0m\u001b[0;34m)\u001b[0m\u001b[0;34m)\u001b[0m\u001b[0;34m)\u001b[0m\u001b[0;34m\u001b[0m\u001b[0;34m\u001b[0m\u001b[0m\n\u001b[0;32m---> 10\u001b[0;31m \u001b[0;32mfor\u001b[0m \u001b[0mi\u001b[0m \u001b[0;32min\u001b[0m \u001b[0mrange\u001b[0m\u001b[0;34m(\u001b[0m\u001b[0mint\u001b[0m\u001b[0;34m(\u001b[0m\u001b[0minput\u001b[0m\u001b[0;34m(\u001b[0m\u001b[0;34m)\u001b[0m\u001b[0;34m)\u001b[0m\u001b[0;34m)\u001b[0m\u001b[0;34m:\u001b[0m\u001b[0;31m# Taking the number of loops\u001b[0m\u001b[0;34m\u001b[0m\u001b[0;34m\u001b[0m\u001b[0m\n\u001b[0m\u001b[1;32m     11\u001b[0m     \u001b[0mc\u001b[0m \u001b[0;34m=\u001b[0m \u001b[0minput\u001b[0m\u001b[0;34m(\u001b[0m\u001b[0;34m)\u001b[0m\u001b[0;34m.\u001b[0m\u001b[0msplit\u001b[0m\u001b[0;34m(\u001b[0m\u001b[0;34m)\u001b[0m \u001b[0;31m# in each loop, taking a new input .\u001b[0m\u001b[0;34m\u001b[0m\u001b[0;34m\u001b[0m\u001b[0m\n\u001b[1;32m     12\u001b[0m     \u001b[0;32mif\u001b[0m \u001b[0mc\u001b[0m\u001b[0;34m[\u001b[0m\u001b[0;36m0\u001b[0m\u001b[0;34m]\u001b[0m \u001b[0;34m==\u001b[0m \u001b[0;34m'pop'\u001b[0m\u001b[0;34m:\u001b[0m\u001b[0;34m\u001b[0m\u001b[0;34m\u001b[0m\u001b[0m\n",
      "\u001b[0;31mValueError\u001b[0m: invalid literal for int() with base 10: 'remove 1'"
     ]
    }
   ],
   "source": [
    "###### # n= int(input())\n",
    "# n =3\n",
    "# s = set(2,1,3)\n",
    "# N = 2\n",
    "# for i in range(N):\n",
    "\n",
    "# Other's solution \n",
    "n = input()\n",
    "s = set(map(int, input().split()))\n",
    "for i in range(int(input())):# Taking the number of loops \n",
    "    c = input().split() # in each loop, taking a new input . \n",
    "    if c[0] == 'pop':\n",
    "        s.pop()\n",
    "    elif c[0] == 'remove':\n",
    "        s.remove(int(c[1]))\n",
    "    else:\n",
    "        s.discard(int(c[1]))\n",
    "print(sum(s))\n",
    "    \n",
    "    "
   ]
  },
  {
   "cell_type": "code",
   "execution_count": 42,
   "metadata": {},
   "outputs": [
    {
     "name": "stdout",
     "output_type": "stream",
     "text": [
      "remove 2\n",
      "['remove', '2'] discard\n"
     ]
    }
   ],
   "source": [
    "c = input().split()\n",
    "if c[0] == 'pop':\n",
    "    print(c,'pop')\n",
    "elif c == 'remove':\n",
    "    print(c,'remove')\n",
    "else:\n",
    "    print(c,'discard')"
   ]
  },
  {
   "cell_type": "code",
   "execution_count": 46,
   "metadata": {},
   "outputs": [
    {
     "name": "stdout",
     "output_type": "stream",
     "text": [
      "2\n",
      "1 2\n"
     ]
    },
    {
     "ename": "KeyboardInterrupt",
     "evalue": "",
     "output_type": "error",
     "traceback": [
      "\u001b[0;31m---------------------------------------------------------------------------\u001b[0m",
      "\u001b[0;31mKeyboardInterrupt\u001b[0m                         Traceback (most recent call last)",
      "\u001b[0;32m~/anaconda3/lib/python3.7/site-packages/ipykernel/kernelbase.py\u001b[0m in \u001b[0;36m_input_request\u001b[0;34m(self, prompt, ident, parent, password)\u001b[0m\n\u001b[1;32m    877\u001b[0m             \u001b[0;32mtry\u001b[0m\u001b[0;34m:\u001b[0m\u001b[0;34m\u001b[0m\u001b[0;34m\u001b[0m\u001b[0m\n\u001b[0;32m--> 878\u001b[0;31m                 \u001b[0mident\u001b[0m\u001b[0;34m,\u001b[0m \u001b[0mreply\u001b[0m \u001b[0;34m=\u001b[0m \u001b[0mself\u001b[0m\u001b[0;34m.\u001b[0m\u001b[0msession\u001b[0m\u001b[0;34m.\u001b[0m\u001b[0mrecv\u001b[0m\u001b[0;34m(\u001b[0m\u001b[0mself\u001b[0m\u001b[0;34m.\u001b[0m\u001b[0mstdin_socket\u001b[0m\u001b[0;34m,\u001b[0m \u001b[0;36m0\u001b[0m\u001b[0;34m)\u001b[0m\u001b[0;34m\u001b[0m\u001b[0;34m\u001b[0m\u001b[0m\n\u001b[0m\u001b[1;32m    879\u001b[0m             \u001b[0;32mexcept\u001b[0m \u001b[0mException\u001b[0m\u001b[0;34m:\u001b[0m\u001b[0;34m\u001b[0m\u001b[0;34m\u001b[0m\u001b[0m\n",
      "\u001b[0;32m~/anaconda3/lib/python3.7/site-packages/jupyter_client/session.py\u001b[0m in \u001b[0;36mrecv\u001b[0;34m(self, socket, mode, content, copy)\u001b[0m\n\u001b[1;32m    802\u001b[0m         \u001b[0;32mtry\u001b[0m\u001b[0;34m:\u001b[0m\u001b[0;34m\u001b[0m\u001b[0;34m\u001b[0m\u001b[0m\n\u001b[0;32m--> 803\u001b[0;31m             \u001b[0mmsg_list\u001b[0m \u001b[0;34m=\u001b[0m \u001b[0msocket\u001b[0m\u001b[0;34m.\u001b[0m\u001b[0mrecv_multipart\u001b[0m\u001b[0;34m(\u001b[0m\u001b[0mmode\u001b[0m\u001b[0;34m,\u001b[0m \u001b[0mcopy\u001b[0m\u001b[0;34m=\u001b[0m\u001b[0mcopy\u001b[0m\u001b[0;34m)\u001b[0m\u001b[0;34m\u001b[0m\u001b[0;34m\u001b[0m\u001b[0m\n\u001b[0m\u001b[1;32m    804\u001b[0m         \u001b[0;32mexcept\u001b[0m \u001b[0mzmq\u001b[0m\u001b[0;34m.\u001b[0m\u001b[0mZMQError\u001b[0m \u001b[0;32mas\u001b[0m \u001b[0me\u001b[0m\u001b[0;34m:\u001b[0m\u001b[0;34m\u001b[0m\u001b[0;34m\u001b[0m\u001b[0m\n",
      "\u001b[0;32m~/anaconda3/lib/python3.7/site-packages/zmq/sugar/socket.py\u001b[0m in \u001b[0;36mrecv_multipart\u001b[0;34m(self, flags, copy, track)\u001b[0m\n\u001b[1;32m    469\u001b[0m         \"\"\"\n\u001b[0;32m--> 470\u001b[0;31m         \u001b[0mparts\u001b[0m \u001b[0;34m=\u001b[0m \u001b[0;34m[\u001b[0m\u001b[0mself\u001b[0m\u001b[0;34m.\u001b[0m\u001b[0mrecv\u001b[0m\u001b[0;34m(\u001b[0m\u001b[0mflags\u001b[0m\u001b[0;34m,\u001b[0m \u001b[0mcopy\u001b[0m\u001b[0;34m=\u001b[0m\u001b[0mcopy\u001b[0m\u001b[0;34m,\u001b[0m \u001b[0mtrack\u001b[0m\u001b[0;34m=\u001b[0m\u001b[0mtrack\u001b[0m\u001b[0;34m)\u001b[0m\u001b[0;34m]\u001b[0m\u001b[0;34m\u001b[0m\u001b[0;34m\u001b[0m\u001b[0m\n\u001b[0m\u001b[1;32m    471\u001b[0m         \u001b[0;31m# have first part already, only loop while more to receive\u001b[0m\u001b[0;34m\u001b[0m\u001b[0;34m\u001b[0m\u001b[0;34m\u001b[0m\u001b[0m\n",
      "\u001b[0;32mzmq/backend/cython/socket.pyx\u001b[0m in \u001b[0;36mzmq.backend.cython.socket.Socket.recv\u001b[0;34m()\u001b[0m\n",
      "\u001b[0;32mzmq/backend/cython/socket.pyx\u001b[0m in \u001b[0;36mzmq.backend.cython.socket.Socket.recv\u001b[0;34m()\u001b[0m\n",
      "\u001b[0;32mzmq/backend/cython/socket.pyx\u001b[0m in \u001b[0;36mzmq.backend.cython.socket._recv_copy\u001b[0;34m()\u001b[0m\n",
      "\u001b[0;32m~/anaconda3/lib/python3.7/site-packages/zmq/backend/cython/checkrc.pxd\u001b[0m in \u001b[0;36mzmq.backend.cython.checkrc._check_rc\u001b[0;34m()\u001b[0m\n",
      "\u001b[0;31mKeyboardInterrupt\u001b[0m: ",
      "\nDuring handling of the above exception, another exception occurred:\n",
      "\u001b[0;31mKeyboardInterrupt\u001b[0m                         Traceback (most recent call last)",
      "\u001b[0;32m<ipython-input-46-a7e486c10ddc>\u001b[0m in \u001b[0;36m<module>\u001b[0;34m\u001b[0m\n\u001b[1;32m      3\u001b[0m \u001b[0mn\u001b[0m\u001b[0;34m=\u001b[0m \u001b[0mint\u001b[0m\u001b[0;34m(\u001b[0m\u001b[0minput\u001b[0m\u001b[0;34m(\u001b[0m\u001b[0;34m)\u001b[0m\u001b[0;34m)\u001b[0m\u001b[0;34m\u001b[0m\u001b[0;34m\u001b[0m\u001b[0m\n\u001b[1;32m      4\u001b[0m \u001b[0marr_n\u001b[0m \u001b[0;34m=\u001b[0m \u001b[0mset\u001b[0m\u001b[0;34m(\u001b[0m\u001b[0mmap\u001b[0m\u001b[0;34m(\u001b[0m\u001b[0mint\u001b[0m\u001b[0;34m,\u001b[0m \u001b[0minput\u001b[0m\u001b[0;34m(\u001b[0m\u001b[0;34m)\u001b[0m\u001b[0;34m.\u001b[0m\u001b[0msplit\u001b[0m\u001b[0;34m(\u001b[0m\u001b[0;34m)\u001b[0m\u001b[0;34m)\u001b[0m\u001b[0;34m)\u001b[0m\u001b[0;34m\u001b[0m\u001b[0;34m\u001b[0m\u001b[0m\n\u001b[0;32m----> 5\u001b[0;31m \u001b[0mm\u001b[0m\u001b[0;34m=\u001b[0m \u001b[0mint\u001b[0m\u001b[0;34m(\u001b[0m\u001b[0minput\u001b[0m\u001b[0;34m(\u001b[0m\u001b[0;34m)\u001b[0m\u001b[0;34m)\u001b[0m\u001b[0;34m\u001b[0m\u001b[0;34m\u001b[0m\u001b[0m\n\u001b[0m\u001b[1;32m      6\u001b[0m \u001b[0marr_m\u001b[0m \u001b[0;34m=\u001b[0m \u001b[0mset\u001b[0m\u001b[0;34m(\u001b[0m\u001b[0mmap\u001b[0m\u001b[0;34m(\u001b[0m\u001b[0mint\u001b[0m\u001b[0;34m,\u001b[0m \u001b[0minput\u001b[0m\u001b[0;34m(\u001b[0m\u001b[0;34m)\u001b[0m\u001b[0;34m.\u001b[0m\u001b[0msplit\u001b[0m\u001b[0;34m(\u001b[0m\u001b[0;34m)\u001b[0m\u001b[0;34m)\u001b[0m\u001b[0;34m)\u001b[0m\u001b[0;34m\u001b[0m\u001b[0;34m\u001b[0m\u001b[0m\n\u001b[1;32m      7\u001b[0m \u001b[0mprint\u001b[0m\u001b[0;34m(\u001b[0m\u001b[0mlen\u001b[0m\u001b[0;34m(\u001b[0m\u001b[0marr_n\u001b[0m\u001b[0;34m.\u001b[0m\u001b[0munion\u001b[0m\u001b[0;34m(\u001b[0m\u001b[0marr_m\u001b[0m\u001b[0;34m)\u001b[0m\u001b[0;34m)\u001b[0m\u001b[0;34m)\u001b[0m\u001b[0;34m\u001b[0m\u001b[0;34m\u001b[0m\u001b[0m\n",
      "\u001b[0;32m~/anaconda3/lib/python3.7/site-packages/ipykernel/kernelbase.py\u001b[0m in \u001b[0;36mraw_input\u001b[0;34m(self, prompt)\u001b[0m\n\u001b[1;32m    851\u001b[0m             \u001b[0mself\u001b[0m\u001b[0;34m.\u001b[0m\u001b[0m_parent_ident\u001b[0m\u001b[0;34m,\u001b[0m\u001b[0;34m\u001b[0m\u001b[0;34m\u001b[0m\u001b[0m\n\u001b[1;32m    852\u001b[0m             \u001b[0mself\u001b[0m\u001b[0;34m.\u001b[0m\u001b[0m_parent_header\u001b[0m\u001b[0;34m,\u001b[0m\u001b[0;34m\u001b[0m\u001b[0;34m\u001b[0m\u001b[0m\n\u001b[0;32m--> 853\u001b[0;31m             \u001b[0mpassword\u001b[0m\u001b[0;34m=\u001b[0m\u001b[0;32mFalse\u001b[0m\u001b[0;34m,\u001b[0m\u001b[0;34m\u001b[0m\u001b[0;34m\u001b[0m\u001b[0m\n\u001b[0m\u001b[1;32m    854\u001b[0m         )\n\u001b[1;32m    855\u001b[0m \u001b[0;34m\u001b[0m\u001b[0m\n",
      "\u001b[0;32m~/anaconda3/lib/python3.7/site-packages/ipykernel/kernelbase.py\u001b[0m in \u001b[0;36m_input_request\u001b[0;34m(self, prompt, ident, parent, password)\u001b[0m\n\u001b[1;32m    881\u001b[0m             \u001b[0;32mexcept\u001b[0m \u001b[0mKeyboardInterrupt\u001b[0m\u001b[0;34m:\u001b[0m\u001b[0;34m\u001b[0m\u001b[0;34m\u001b[0m\u001b[0m\n\u001b[1;32m    882\u001b[0m                 \u001b[0;31m# re-raise KeyboardInterrupt, to truncate traceback\u001b[0m\u001b[0;34m\u001b[0m\u001b[0;34m\u001b[0m\u001b[0;34m\u001b[0m\u001b[0m\n\u001b[0;32m--> 883\u001b[0;31m                 \u001b[0;32mraise\u001b[0m \u001b[0mKeyboardInterrupt\u001b[0m\u001b[0;34m\u001b[0m\u001b[0;34m\u001b[0m\u001b[0m\n\u001b[0m\u001b[1;32m    884\u001b[0m             \u001b[0;32melse\u001b[0m\u001b[0;34m:\u001b[0m\u001b[0;34m\u001b[0m\u001b[0;34m\u001b[0m\u001b[0m\n\u001b[1;32m    885\u001b[0m                 \u001b[0;32mbreak\u001b[0m\u001b[0;34m\u001b[0m\u001b[0;34m\u001b[0m\u001b[0m\n",
      "\u001b[0;31mKeyboardInterrupt\u001b[0m: "
     ]
    }
   ],
   "source": [
    "# Enter your code here. Read input from STDIN. Print output to STDOUT\n",
    "\n",
    "n= int(input())\n",
    "arr_n = set(map(int, input().strip().split()))\n",
    "m= int(input())\n",
    "arr_m = set(map(int, input().split()))\n",
    "print(len(arr_n.union(arr_m)))\n"
   ]
  },
  {
   "cell_type": "code",
   "execution_count": 54,
   "metadata": {},
   "outputs": [
    {
     "name": "stdout",
     "output_type": "stream",
     "text": [
      "{'a', 'e'}\n",
      "{'a', 'e'}\n"
     ]
    }
   ],
   "source": [
    "#Difference btw A.intersection(B) and  A & B \n",
    "\n",
    "s=set('Hacker')\n",
    "string = \" sandeep\"\n",
    "# print(s & string)    # this will give an error \n",
    "# But with intersection, no error\n",
    "print(s.intersection(string))\n",
    "\n",
    "print( s & set(string))\n",
    "# print(s&set(\"sandeep\"))"
   ]
  },
  {
   "cell_type": "markdown",
   "metadata": {},
   "source": [
    "### Diff. btw update and union \n",
    "update Method :\n",
    "This method is used to return the union of a set and the set of elements from one or more iterable like string, list, set. It is very similar to union() method, with difference is that where union() method create and return a new set, containing all the elements ( distinct ) present in all the iterables, update() method updates the set on which this method is called with all the distinct elements present in all the iterables.\n",
    "\n",
    "[reference: codedestine] (https://codedestine.com/python-set-union-example/)"
   ]
  },
  {
   "cell_type": "code",
   "execution_count": 62,
   "metadata": {},
   "outputs": [
    {
     "name": "stdout",
     "output_type": "stream",
     "text": [
      "{'c', 'H', 'e', 'k', 'a', 'r'}\n",
      "None\n",
      "{'c', 'H', 'R', 'e', 'k', 'a', 'n', 'r'}\n"
     ]
    }
   ],
   "source": [
    "H = set(\"Hacker\")\n",
    "R = set(\"Rank\")\n",
    "print(H)\n",
    "# H.union(R)\n",
    "#H.update(R)\n",
    "s=H.update(R)\n",
    "print(s)  # it is an interesting result , o/p == none! \n",
    "print(H)"
   ]
  },
  {
   "cell_type": "code",
   "execution_count": 16,
   "metadata": {},
   "outputs": [],
   "source": [
    "# # Problem: SEt Mutations . \n",
    "# # N = 16 \n",
    "# # A = set([1 2 3 4 5 6 7 8 9 10 11 12 13 14 24 52])\n",
    "# # no_of_instruction = 4\n",
    "\n",
    "# N = int(input())\n",
    "# A = set(map(int, input().strip().split()))\n",
    "# no_of_instruction = int(input())\n",
    "# for instruction in range(no_of_instruction):\n",
    "#     c = input().strip().split()\n",
    "#     if c[0] == \"intersection_update\":\n",
    "#         B = set(map(int,input().strip().split()))\n",
    "#         A.intersection_update(B)\n",
    "#     elif c[0] == \"update\":\n",
    "#         B = set(map(int,input().strip().split()))\n",
    "#         A.update(B)\n",
    "#     elif c[0] == \"symmetric_difference_update\":\n",
    "#         B = set(map(int,input().strip().split()))\n",
    "#         A.symmetric_difference_update(B)\n",
    "#     else : \n",
    "#         B = set(map(int,input().strip().split()))\n",
    "#         A.difference_update(B)\n",
    "# print(sum(A))\n",
    "        "
   ]
  },
  {
   "cell_type": "code",
   "execution_count": 91,
   "metadata": {},
   "outputs": [
    {
     "name": "stdout",
     "output_type": "stream",
     "text": [
      "[1, 2, 3, 6, 5, 4, 4, 2, 5, 3, 6, 1, 6, 5, 3, 2, 4, 1, 2, 5, 1, 4, 3, 6, 8, 4, 3, 1, 5, 6, 2]\n",
      "8\n"
     ]
    }
   ],
   "source": [
    "# s = {1,2,3,4}\n",
    "# print(s)\n",
    "# solving through brute force methodn \n",
    "n = 5\n",
    "strings = \"1 2 3 6 5 4 4 2 5 3 6 1 6 5 3 2 4 1 2 5 1 4 3 6 8 4 3 1 5 6 2 \"\n",
    "\n",
    "list_room = strings.split()\n",
    "list_room = [int(x) for x in list_room]\n",
    "print(list_room)\n",
    "\n",
    "#This example did not worked. \n",
    "# list_room = list(map(int,list_room))\n",
    "# print(list_room)\n",
    "\n",
    "set_room = set(list_room)\n",
    "loop = len(set_room)\n",
    "count = 0\n",
    "for compare in range(loop):\n",
    "    compare_room = set_room.pop()\n",
    "    for number in list_room: \n",
    "        if compare_room == number :\n",
    "            count += 1\n",
    "    if count == 1 :\n",
    "        print(compare_room)\n",
    "        break\n",
    "    else :\n",
    "        count = 0 \n",
    "        "
   ]
  },
  {
   "cell_type": "markdown",
   "metadata": {},
   "source": [
    "##### n = 5\n",
    "strings bmst_room)"
   ]
  },
  {
   "cell_type": "markdown",
   "metadata": {},
   "source": [
    "5 / 2 will return 2.5 and 5 // 2 will return 2. The former is floating point division, and the latter is floor division, sometimes also called integer division."
   ]
  },
  {
   "cell_type": "code",
   "execution_count": 96,
   "metadata": {},
   "outputs": [
    {
     "data": {
      "text/plain": [
       "5"
      ]
     },
     "execution_count": 96,
     "metadata": {},
     "output_type": "execute_result"
    }
   ],
   "source": [
    "#5 / 2 will return 2.5 and 5 // 2 will return 2. The former is floating point division, and the latter is floor division, sometimes also called integer division.\n",
    "5 // 1\n"
   ]
  },
  {
   "cell_type": "code",
   "execution_count": 14,
   "metadata": {},
   "outputs": [
    {
     "name": "stdout",
     "output_type": "stream",
     "text": [
      "{1, 2, 3, 5, 6}\n",
      "{1, 2, 3, 4, 5, 6, 7, 8, 9}\n",
      "True\n"
     ]
    }
   ],
   "source": [
    "# Subset Problem \n",
    "a = \"1 2 3 5 6\"\n",
    "a = a.split()\n",
    "a = set([int(x) for x in a])\n",
    "print(a)\n",
    "b = \"9 8 5 6 3 2 1 4 7\"\n",
    "b = b.split()\n",
    "b = set([int(x) for x in b])\n",
    "print(b)\n",
    "# c = a.difference(b)\n",
    "# print(len(c))\n",
    "# if len(a.difference(b)) == 0 :\n",
    "#     print(True)\n",
    "# if not a.difference(b): # i.e empty set.\n",
    "#     print(True)\n",
    "print(a.issubset(b))"
   ]
  },
  {
   "cell_type": "markdown",
   "metadata": {},
   "source": [
    "### How to identify empty list/set....\n",
    "> if len(a.difference(b)) == 0 :  print(True)\n",
    "\n",
    ">if not a.difference(b): # i.e empty set.\n",
    "    print(True)"
   ]
  },
  {
   "cell_type": "code",
   "execution_count": 15,
   "metadata": {},
   "outputs": [],
   "source": [
    "# for i in range(int(input())): \n",
    "#     a = int(input()); A = set(input().split()); \n",
    "#     b = int(input()); B = set(input().split());\n",
    "#     print (A <= B)"
   ]
  },
  {
   "cell_type": "code",
   "execution_count": 20,
   "metadata": {},
   "outputs": [
    {
     "name": "stdout",
     "output_type": "stream",
     "text": [
      "1 2 3 4 5 6 7 8 9 10 11 12 23 45 84 78\n",
      "2\n",
      "1 2 3 4 5\n",
      "100 11 12\n",
      "False\n"
     ]
    }
   ],
   "source": [
    "#Strict Superset Problem \n",
    "a = set(input().split())\n",
    "length = int(input())\n",
    "count = 0\n",
    "for i in range(length):\n",
    "    b = set(input().split())\n",
    "    if b.issubset(a) and len(a)>len(b):\n",
    "        count +=1\n",
    "print(count == length )"
   ]
  },
  {
   "cell_type": "markdown",
   "metadata": {},
   "source": [
    "#### Strict SuperSet Problem \n",
    ">set > otherSet\n",
    "\n",
    "```python\n",
    "print set([2, 9, 7, 1]) > set([1, 7]) #Output: True \n",
    "print set([2, 9, 7, 1]) > set([1, 2, 7, 9]) #Output: False \n",
    "\n",
    "```\n",
    "|cookbook| Syntax | \n",
    "---|---\n",
    "|How to use map with this |A = set(raw_input().split());print all(map(lambda x: (A > x), [set(raw_input().split()) for i in range(int(raw_input()))]))|"
   ]
  }
 ],
 "metadata": {
  "kernelspec": {
   "display_name": "Python 3",
   "language": "python",
   "name": "python3"
  },
  "language_info": {
   "codemirror_mode": {
    "name": "ipython",
    "version": 3
   },
   "file_extension": ".py",
   "mimetype": "text/x-python",
   "name": "python",
   "nbconvert_exporter": "python",
   "pygments_lexer": "ipython3",
   "version": "3.6.9"
  }
 },
 "nbformat": 4,
 "nbformat_minor": 2
}
