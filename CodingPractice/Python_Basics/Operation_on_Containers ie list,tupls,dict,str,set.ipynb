{
 "cells": [
  {
   "cell_type": "markdown",
   "metadata": {},
   "source": [
    "## Generic Operations on Containers - Set 1\n",
    "> note: for dict , sets, these operations uses keys\n",
    "\n",
    "1. len(c)-> items count, min(c)-> minimum, max(c)-> maximum, sum(c)-> sum of values /keys \n",
    "2. sorted(c) -> always returns a list of sorted copy\n",
    "3. val in c -> boolean, membership operator in\n",
    "4. enumerate(c) -> iterate upon (index, value) # for dict. enum is for keys only.\n",
    "5. zip(c1,c2) -> parallel iteration with two containers of any type\n",
    "6. all(c)  -> True if all c items evaluated to True , else False\n",
    "7. any(c)  -> True if atleast one item of c evaluated True , else False\n"
   ]
  },
  {
   "cell_type": "code",
   "execution_count": 10,
   "metadata": {},
   "outputs": [
    {
     "name": "stdout",
     "output_type": "stream",
     "text": [
      "[1, 2, 3, 4, 5]\n",
      "(1, 2, 3, 4, 5)\n",
      "sandeep\n",
      "{1: 1, 2: 4, 3: 9, 4: 16, 5: 25}\n",
      "{1, 2, 3, 4, 5}\n",
      "5\n",
      "1\n",
      "15\n",
      "[1, 2, 3, 4, 5]\n"
     ]
    }
   ],
   "source": [
    "l = [1,2,3,4,5];print(l)\n",
    "t = (1,2,3,4,5);print(t)\n",
    "strg = 'sandeep';print(strg)\n",
    "d = {key:key**2 for key in l};print(d)\n",
    "set1 = {1,2,3,4,5};print(set1)\n",
    "\n",
    "print(len(d));print(min(d));print(sum(d)) # operations on the keys of dictionary\n",
    "print(sorted(d)) "
   ]
  },
  {
   "cell_type": "code",
   "execution_count": 15,
   "metadata": {},
   "outputs": [
    {
     "name": "stdout",
     "output_type": "stream",
     "text": [
      "0,1\n",
      "1,2\n",
      "2,3\n",
      "3,4\n",
      "4,5\n"
     ]
    }
   ],
   "source": [
    "# enumerate(c) -> iterate upon (index, value)\n",
    "for index,value in enumerate(d):  #for dict. enum is for keys only.\n",
    "    print('{},{}'.format(index,value))"
   ]
  },
  {
   "cell_type": "code",
   "execution_count": 18,
   "metadata": {},
   "outputs": [
    {
     "name": "stdout",
     "output_type": "stream",
     "text": [
      "1 apple\n",
      "2 orange\n",
      "3 banana\n",
      "4 mango\n",
      "5 pears\n"
     ]
    }
   ],
   "source": [
    "#zip(c1,c2) -> parallel iteration with two containers\n",
    "c1 = [1,2,3,4,5]\n",
    "c2 = {'apple':1,'orange':2,'banana':3,'mango':4,'pears':5}\n",
    "set1 = {1,2,3,4,5,5,4}\n",
    "for list_item, dict_item in zip(set1,c2):\n",
    "    print(list_item,dict_item)"
   ]
  },
  {
   "cell_type": "code",
   "execution_count": 21,
   "metadata": {},
   "outputs": [
    {
     "name": "stdout",
     "output_type": "stream",
     "text": [
      "False\n",
      "True\n",
      "True\n"
     ]
    }
   ],
   "source": [
    "# all(c)  -> True if all c items evaluated to True , else False\n",
    "l = [0,1,2,3];print(all(l)) # has 0 so, it evalues to be False\n",
    "s = {1,2,3,3,3}; print(all(s)) # no 0 or False\n",
    "d = {} ; print(all(d)) # empty dictionary is True \n",
    "\n",
    "# 0 is False\n",
    "# '0' is True\n",
    "s = {'0': 'True'}\n",
    "print(all(s))"
   ]
  },
  {
   "cell_type": "code",
   "execution_count": 22,
   "metadata": {},
   "outputs": [
    {
     "name": "stdout",
     "output_type": "stream",
     "text": [
      "True\n"
     ]
    }
   ],
   "source": [
    "# any(c)  -> True if atleast one item of c evaluated True , else False\n",
    "l = [0, False, 5];print(any(l)) # at least one is True\n",
    "s = '';print(any(s)) # empty string , so False\n"
   ]
  },
  {
   "cell_type": "markdown",
   "metadata": {},
   "source": [
    "## Generic Operations on Containers - Set 2\n",
    "> note: Specific to Orderred sequence containers \n",
    "\n",
    "1. reversed(c) -> !! Returns reversed iterator !! \n",
    "2. c*5 -> duplicates 5 times \n",
    "3. c+c2 -> Concatinate sequ. of same type\n",
    "4. c.index(val) -> Returns position of the value\n",
    "5. c.count(val) -> Counts the no. of occurance of val in c."
   ]
  },
  {
   "cell_type": "code",
   "execution_count": 35,
   "metadata": {},
   "outputs": [
    {
     "name": "stdout",
     "output_type": "stream",
     "text": [
      "['p', 'e', 'e', 'd', 'n', 'a', 's']\n"
     ]
    }
   ],
   "source": [
    "# reversed(c) -> !! Returns reversed iterator !! \n",
    "str1 = 'sandeep'\n",
    "print(list(reversed(str1))) # Convert to list to view.\n",
    "# dict1 = {1: 1, 2: 4, 3: 9, 4: 16, 5: 25};print(list(reversed(dict1))) # Error: dict is not sequence\n"
   ]
  },
  {
   "cell_type": "code",
   "execution_count": 34,
   "metadata": {},
   "outputs": [
    {
     "name": "stdout",
     "output_type": "stream",
     "text": [
      "[1, 2, 3, 4, 5, 1, 2, 3, 4, 5]\n",
      "(21, 11, 1, 2)\n",
      "[7, 8, 3, 2]\n",
      "3\n"
     ]
    }
   ],
   "source": [
    "l = [1,2,3,4,5]; print(l*2)\n",
    "\n",
    "# c+c2 -> Concatinate sequ. of same type\n",
    "t = (21,11);t2 =(1,2);print(t+t2) \n",
    "c = [7,8]; c2 = [3,2];print(c+c2)\n",
    "\n",
    "c.index(8)\n",
    "\n",
    "l=[1,1,2,3,1,2];print(l.count(1))\n",
    "\n"
   ]
  }
 ],
 "metadata": {
  "kernelspec": {
   "display_name": "Python 3",
   "language": "python",
   "name": "python3"
  },
  "language_info": {
   "codemirror_mode": {
    "name": "ipython",
    "version": 3
   },
   "file_extension": ".py",
   "mimetype": "text/x-python",
   "name": "python",
   "nbconvert_exporter": "python",
   "pygments_lexer": "ipython3",
   "version": "3.6.9"
  }
 },
 "nbformat": 4,
 "nbformat_minor": 2
}
