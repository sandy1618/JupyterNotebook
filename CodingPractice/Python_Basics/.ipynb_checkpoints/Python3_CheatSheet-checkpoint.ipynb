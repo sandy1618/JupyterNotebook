{
 "cells": [
  {
   "cell_type": "markdown",
   "metadata": {},
   "source": [
    "# Python3 Cheatsheet Exercises\n",
    "[Link to Cheatsheet](https://perso.limsi.fr/pointal/python:memento)"
   ]
  },
  {
   "cell_type": "markdown",
   "metadata": {},
   "source": [
    "## Base Types"
   ]
  },
  {
   "cell_type": "code",
   "execution_count": 7,
   "metadata": {},
   "outputs": [
    {
     "name": "stdout",
     "output_type": "stream",
     "text": [
      "<class 'float'>\n",
      "-1.2e-08\n",
      "<class 'bytes'>\n",
      "<class 'str'>\n"
     ]
    }
   ],
   "source": [
    "#float\n",
    "x = -1.2e-8;print(type(x))\n",
    "print((x))\n",
    "\n",
    "#bytes\n",
    "b = b\"toto\\xfe\\755\"; print(type(b))\n",
    "\n",
    "#string\n",
    "s = 'hello';print(type(s))"
   ]
  },
  {
   "cell_type": "markdown",
   "metadata": {},
   "source": [
    "## Basic Type Conversions "
   ]
  },
  {
   "cell_type": "code",
   "execution_count": 26,
   "metadata": {},
   "outputs": [
    {
     "name": "stdout",
     "output_type": "stream",
     "text": [
      "<class 'str'>\n",
      "For 1010, int is: 10\n",
      "For 0b1010, int is: 10\n",
      "For 12, int is: 10\n",
      "For 0o12, int is: 10\n",
      "For A, int is: 10\n",
      "For 0xA, int is: 10\n"
     ]
    }
   ],
   "source": [
    "# Interesting Behavior with int\n",
    "x = '3f'; print(type(x)) # Hexadecimal to integer\n",
    "int(\"A\",16)  # hexadecimal to integer\n",
    "# int(8,2)#int() can't convert non-string with explicit base\n",
    "\n",
    "# binary 0b or 0B\n",
    "print(\"For 1010, int is:\", int('1010', 2))\n",
    "print(\"For 0b1010, int is:\", int('0b1010', 2))\n",
    "\n",
    "# octal 0o or 0O\n",
    "print(\"For 12, int is:\", int('12', 8))\n",
    "print(\"For 0o12, int is:\", int('0o12', 8))\n",
    "\n",
    "# hexadecimal\n",
    "print(\"For A, int is:\", int('A', 16))\n",
    "print(\"For 0xA, int is:\", int('0xA', 16))"
   ]
  },
  {
   "cell_type": "code",
   "execution_count": 29,
   "metadata": {},
   "outputs": [
    {
     "name": "stdout",
     "output_type": "stream",
     "text": [
      "-1.2e-06\n",
      "-1.2e-06\n"
     ]
    }
   ],
   "source": [
    "#float\n",
    "f = -1.2e-6; print(float(f))\n",
    "_f = '-1.2e-6'; print(float(_f))"
   ]
  },
  {
   "cell_type": "code",
   "execution_count": 33,
   "metadata": {},
   "outputs": [
    {
     "name": "stdout",
     "output_type": "stream",
     "text": [
      "@\n",
      "64\n"
     ]
    }
   ],
   "source": [
    "#round\n",
    "round(15.6434,2) #->15.64\n",
    "\n",
    "#char\n",
    "print(chr(64))\n",
    "print(ord('@')) # The ord() function returns an integer representing the Unicode character"
   ]
  },
  {
   "cell_type": "code",
   "execution_count": 44,
   "metadata": {},
   "outputs": [
    {
     "name": "stdout",
     "output_type": "stream",
     "text": [
      "foo\n",
      "'foo'\n",
      "2020-03-28 11:47:05.731517\n",
      "datetime.datetime(2020, 3, 28, 11, 47, 5, 731517)\n"
     ]
    }
   ],
   "source": [
    "#repr() function returns a printable representation of the given object.\n",
    "var = 'foo';\n",
    "print(var)\n",
    "print(repr(var))\n",
    "\n",
    "\"\"\"\n",
    "UseCase: When the result from repr() is passed to eval(), we will get the original object (for many types).\n",
    "str() is used for creating output for end user while repr() \n",
    "is mainly used for debugging and development. repr’s goal is to be unambiguous and str’s is to \n",
    "be readable. For example, if we suspect a float has a small rounding error, repr will show us while str may not.\n",
    "repr() compute the “official” string representation of an object (a representation that has all \n",
    "information about the abject) and str() is used to compute the “informal” string representation of \n",
    "an object (a representation that is useful for printing the object).\n",
    "\"\"\"\n",
    "\n",
    "# Example2\n",
    "import datetime \n",
    "today = datetime.datetime.now() \n",
    "\n",
    "# Prints readable format for date-time object \n",
    "print(str(today))\n",
    "# prints the official format of date-time object \n",
    "print(repr(today));\n"
   ]
  },
  {
   "cell_type": "markdown",
   "metadata": {},
   "source": [
    "## Variable Assignment"
   ]
  },
  {
   "cell_type": "code",
   "execution_count": 51,
   "metadata": {},
   "outputs": [
    {
     "name": "stdout",
     "output_type": "stream",
     "text": [
      "10.9\n",
      "10.9\n",
      "1 2\n",
      "2 1\n"
     ]
    }
   ],
   "source": [
    "from math import sin,pi\n",
    "x = 1.9+9+sin(pi);print(x)\n",
    "\n",
    "a=b=c=x; print(b)\n",
    "\n",
    "a =1\n",
    "b =2 ; print(a,b)\n",
    "a,b = b,a; print(a,b)"
   ]
  },
  {
   "cell_type": "code",
   "execution_count": 58,
   "metadata": {},
   "outputs": [
    {
     "name": "stdout",
     "output_type": "stream",
     "text": [
      "a=0, b=1, c =[2, 3]\n"
     ]
    }
   ],
   "source": [
    "# Using _ Underscore Assignment. \n",
    "t = (0, 1, 2,3)\n",
    "\n",
    "# a, b, _ = t # Error: too many values to unpack (expected 3)\n",
    "a, b, *_ = t # a=0, b=1, c =[2, 3]\n",
    "\n",
    "print(\"a={}, b={}, c ={}\".format(a,b,_))\n"
   ]
  },
  {
   "cell_type": "code",
   "execution_count": 60,
   "metadata": {},
   "outputs": [
    {
     "name": "stdout",
     "output_type": "stream",
     "text": [
      "a=0, b=1, c =[2, 3, 4]\n",
      "<class 'list'>\n",
      "a=0, b=[1, 2, 3], c =4\n",
      "a=[0, 1, 2], b=3, c =4\n"
     ]
    }
   ],
   "source": [
    "# using * to unpack\n",
    "t = (0, 1, 2, 3, 4)\n",
    "a, b, *c = t\n",
    "print(\"a={}, b={}, c ={}\".format(a,b,c));print(type(c))# <class 'list'>\n",
    "\n",
    "a, *b, c = t\n",
    "print(\"a={}, b={}, c ={}\".format(a,b,c))\n",
    "\n",
    "*a, b, c = t\n",
    "print(\"a={}, b={}, c ={}\".format(a,b,c))"
   ]
  }
 ],
 "metadata": {
  "kernelspec": {
   "display_name": "Python 3",
   "language": "python",
   "name": "python3"
  },
  "language_info": {
   "codemirror_mode": {
    "name": "ipython",
    "version": 3
   },
   "file_extension": ".py",
   "mimetype": "text/x-python",
   "name": "python",
   "nbconvert_exporter": "python",
   "pygments_lexer": "ipython3",
   "version": "3.6.9"
  }
 },
 "nbformat": 4,
 "nbformat_minor": 2
}
