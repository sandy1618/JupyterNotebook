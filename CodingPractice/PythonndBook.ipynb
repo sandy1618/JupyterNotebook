{
 "cells": [
  {
   "cell_type": "code",
   "execution_count": 13,
   "metadata": {},
   "outputs": [
    {
     "name": "stdout",
     "output_type": "stream",
     "text": [
      "in first ith 0 = 2\n",
      "in first ith 1 = 2\n",
      "in 2nd ith 1 = 1\n",
      "in first ith 2 = 1\n",
      "in first ith 3 = 1\n",
      "in first ith 4 = 1\n",
      "in first ith 5 = 1\n",
      "1 0.0008563995361328125\n"
     ]
    }
   ],
   "source": [
    "import time\n",
    "start = time.time()\n",
    "lista = [2,4,1,2,5,6]\n",
    "length = len(lista)\n",
    "temp = lista[0]\n",
    "for i in range(length):\n",
    "    \n",
    "    print(\"in first ith {} = {}\".format(i,temp))\n",
    "    if i == length -1:\n",
    "        break\n",
    "    if lista[i+1] < temp :\n",
    "        temp = lista[i+1]\n",
    "        print(\"in 2nd ith {} = {}\".format(i,temp))\n",
    "end = time.time()\n",
    "print(temp,end - start)\n"
   ]
  },
  {
   "cell_type": "code",
   "execution_count": null,
   "metadata": {},
   "outputs": [],
   "source": [
    "# My anagram psuedocode \n",
    "[ e,a,r,t,h ] [h,e,a,r,t]\n",
    "identify whether the first element in list 1 is equal to "
   ]
  }
 ],
 "metadata": {
  "kernelspec": {
   "display_name": "Python 3",
   "language": "python",
   "name": "python3"
  },
  "language_info": {
   "codemirror_mode": {
    "name": "ipython",
    "version": 3
   },
   "file_extension": ".py",
   "mimetype": "text/x-python",
   "name": "python",
   "nbconvert_exporter": "python",
   "pygments_lexer": "ipython3",
   "version": "3.7.3"
  }
 },
 "nbformat": 4,
 "nbformat_minor": 2
}
