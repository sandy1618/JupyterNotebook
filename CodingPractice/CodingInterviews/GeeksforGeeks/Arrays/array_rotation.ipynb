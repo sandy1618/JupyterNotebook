{
 "cells": [
  {
   "cell_type": "code",
   "execution_count": 6,
   "metadata": {},
   "outputs": [
    {
     "name": "stdout",
     "output_type": "stream",
     "text": [
      "[4, 5, 6, 1, 2, 3]\n"
     ]
    }
   ],
   "source": [
    "# Rotate the arre by d elemets. eg . rotate array by 2 elements.\n",
    "arr = [1,2,3,4,5,6]\n",
    "def rotate(arr,n,d):\n",
    "    \n",
    "    return arr[d:]+arr[:d] # Time complexity O(n)\n",
    "n=len(arr)\n",
    "rotated_array = rotate(arr,n,3)\n",
    "print(rotated_array)"
   ]
  },
  {
   "cell_type": "code",
   "execution_count": 12,
   "metadata": {},
   "outputs": [
    {
     "name": "stdout",
     "output_type": "stream",
     "text": [
      "1\n",
      "7\n"
     ]
    }
   ],
   "source": [
    "# Method for finding GCD : greatest common divisior for two numbers\n",
    "# Euclideam method. \n",
    "# Fuction to get gcd of a and b \n",
    "def gcd(a, b): \n",
    "    if b == 0: \n",
    "        return a; \n",
    "    else: \n",
    "        return gcd(b, a % b) \n",
    "print(gcd(59,13))\n",
    "print(59%13)"
   ]
  }
 ],
 "metadata": {
  "kernelspec": {
   "display_name": "Python 3",
   "language": "python",
   "name": "python3"
  },
  "language_info": {
   "codemirror_mode": {
    "name": "ipython",
    "version": 3
   },
   "file_extension": ".py",
   "mimetype": "text/x-python",
   "name": "python",
   "nbconvert_exporter": "python",
   "pygments_lexer": "ipython3",
   "version": "3.6.9"
  }
 },
 "nbformat": 4,
 "nbformat_minor": 2
}
