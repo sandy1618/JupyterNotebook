{
 "cells": [
  {
   "cell_type": "code",
   "execution_count": 5,
   "metadata": {},
   "outputs": [],
   "source": [
    "def kHeapSort(arr,k):\n",
    "    n = len(arr) ; \n",
    "    for i in range(((n-1)//2)-1,-1,-1):\n",
    "        max_heapify(arr,n,i)\n",
    "    for i in range(k):\n",
    "        print(arr.pop(0))\n",
    "        n = len(arr)\n",
    "        max_heapify(arr,n,0)\n",
    "def max_heapify(arr,n,i):\n",
    "    parent = i \n",
    "    l = 2*i + 1 # leftchild\n",
    "    r = 2*i + 2 # right child\n",
    "    if l < n and arr[parent] < arr[l]:\n",
    "        parent = l\n",
    "    if r < n and arr[parent] < arr[r]:\n",
    "        parent = r\n",
    "    if parent != i : \n",
    "        arr[i],arr[parent]=arr[parent],arr[i]\n",
    "        max_heapify(arr,n,parent)\n",
    "        "
   ]
  },
  {
   "cell_type": "code",
   "execution_count": 6,
   "metadata": {},
   "outputs": [
    {
     "name": "stdout",
     "output_type": "stream",
     "text": [
      "50\n",
      "23\n",
      "20\n"
     ]
    }
   ],
   "source": [
    "arr = [1,23,12,9,20,2,50]\n",
    "kHeapSort(arr,3)"
   ]
  }
 ],
 "metadata": {
  "kernelspec": {
   "display_name": "Python 3",
   "language": "python",
   "name": "python3"
  },
  "language_info": {
   "codemirror_mode": {
    "name": "ipython",
    "version": 3
   },
   "file_extension": ".py",
   "mimetype": "text/x-python",
   "name": "python",
   "nbconvert_exporter": "python",
   "pygments_lexer": "ipython3",
   "version": "3.6.9"
  }
 },
 "nbformat": 4,
 "nbformat_minor": 2
}
