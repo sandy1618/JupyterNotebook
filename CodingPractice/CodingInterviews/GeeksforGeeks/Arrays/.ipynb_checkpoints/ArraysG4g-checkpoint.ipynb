{
 "cells": [
  {
   "cell_type": "code",
   "execution_count": null,
   "metadata": {},
   "outputs": [],
   "source": [
    "#code\n",
    "def missingnum(arr,N):\n",
    "    #takes care of duplicates, \n",
    "    for index in range(N-1):\n",
    "        try:\n",
    "            if arr[index + 1] - arr[index]==2:\n",
    "                return arr[index]+1\n",
    "                \n",
    "        except IndexError:\n",
    "            if arr[index]==N:\n",
    "                return arr[0]-1\n",
    "            else:\n",
    "                return arr[index]+1\n",
    "\n",
    "T= int(input().rstrip())\n",
    "for _ in range(T):\n",
    "    N = int(input().rstrip())\n",
    "    arr = sorted(list(map(int,input().rstrip().split())))\n",
    "    print(missingnum(arr,N))    "
   ]
  },
  {
   "cell_type": "code",
   "execution_count": null,
   "metadata": {},
   "outputs": [],
   "source": [
    "#code\n",
    "def missingnum(arr,N):\n",
    "    #takes care of duplicates, \n",
    "    for index in range(N-1):\n",
    "        try:\n",
    "            if arr[index + 1] - arr[index]==2:\n",
    "                return arr[index]+1\n",
    "                \n",
    "        except IndexError:\n",
    "            if arr[index]==N:\n",
    "                return arr[0]-1\n",
    "            else:\n",
    "                return arr[index]+1\n",
    "T= int(input().rstrip())\n",
    "for _ in range(T):\n",
    "    N = int(input().rstrip())\n",
    "    arr = sorted(list(map(int,input().rstrip().split())))\n",
    "    print(missingnum(arr,N))"
   ]
  },
  {
   "cell_type": "code",
   "execution_count": null,
   "metadata": {},
   "outputs": [],
   "source": []
  },
  {
   "cell_type": "code",
   "execution_count": 2,
   "metadata": {},
   "outputs": [
    {
     "name": "stdout",
     "output_type": "stream",
     "text": [
      "1\n",
      "2\n",
      "1 2\n"
     ]
    }
   ],
   "source": [
    "T=int(input().rstrip())\n",
    "for _ in range(T):\n",
    "    N = int(input().rstrip())\n",
    "    arr = sorted(list(map(int,input().rstrip().split())))"
   ]
  }
 ],
 "metadata": {
  "kernelspec": {
   "display_name": "Python 3",
   "language": "python",
   "name": "python3"
  },
  "language_info": {
   "codemirror_mode": {
    "name": "ipython",
    "version": 3
   },
   "file_extension": ".py",
   "mimetype": "text/x-python",
   "name": "python",
   "nbconvert_exporter": "python",
   "pygments_lexer": "ipython3",
   "version": "3.6.9"
  }
 },
 "nbformat": 4,
 "nbformat_minor": 2
}
