{
 "cells": [
  {
   "cell_type": "code",
   "execution_count": 7,
   "metadata": {},
   "outputs": [],
   "source": [
    "class apple():\n",
    "    \"\"\"\n",
    "    this class tries to tell about tasty apples\n",
    "    \n",
    "    ...\n",
    "    \n",
    "    Attributes\n",
    "    -----------\n",
    "    x :float\n",
    "        The X coordingte\n",
    "    \n",
    "    Methods\n",
    "    --------\n",
    "    whatistastyapple\n",
    "    \n",
    "    \n",
    "    \"\"\"\n",
    "    \n",
    "    def whatistastyapple() -> str:\n",
    "        \"\"\"\n",
    "        This function tells about what is tasty apple \n",
    "        \n",
    "        \"\"\"\n",
    "        print(\"tasty apples are very crunchy and have nice smell\")\n",
    "        \n"
   ]
  },
  {
   "cell_type": "code",
   "execution_count": 9,
   "metadata": {},
   "outputs": [
    {
     "name": "stdout",
     "output_type": "stream",
     "text": [
      "\n",
      "    this class tries to tell about tasty apples\n",
      "    \n",
      "    ...\n",
      "    \n",
      "    Attributes\n",
      "    -----------\n",
      "    x :float\n",
      "        The X coordingte\n",
      "    \n",
      "    Methods:\n",
      "    \n",
      "    \n",
      "    \n"
     ]
    }
   ],
   "source": [
    "print(apple.__doc__)"
   ]
  },
  {
   "cell_type": "code",
   "execution_count": 8,
   "metadata": {},
   "outputs": [
    {
     "name": "stdout",
     "output_type": "stream",
     "text": [
      "Help on class apple in module __main__:\n",
      "\n",
      "class apple(builtins.object)\n",
      " |  this class tries to tell about tasty apples\n",
      " |  \n",
      " |  ...\n",
      " |  \n",
      " |  Attributes\n",
      " |  -----------\n",
      " |  x :float\n",
      " |      The X coordingte\n",
      " |  \n",
      " |  Methods:\n",
      " |  \n",
      " |  Methods defined here:\n",
      " |  \n",
      " |  whatistastyapple() -> str\n",
      " |      This function tells about what is tasty apple\n",
      " |  \n",
      " |  ----------------------------------------------------------------------\n",
      " |  Data descriptors defined here:\n",
      " |  \n",
      " |  __dict__\n",
      " |      dictionary for instance variables (if defined)\n",
      " |  \n",
      " |  __weakref__\n",
      " |      list of weak references to the object (if defined)\n",
      "\n"
     ]
    }
   ],
   "source": [
    "help(apple)"
   ]
  }
 ],
 "metadata": {
  "kernelspec": {
   "display_name": "Python 3",
   "language": "python",
   "name": "python3"
  },
  "language_info": {
   "codemirror_mode": {
    "name": "ipython",
    "version": 3
   },
   "file_extension": ".py",
   "mimetype": "text/x-python",
   "name": "python",
   "nbconvert_exporter": "python",
   "pygments_lexer": "ipython3",
   "version": "3.6.9"
  }
 },
 "nbformat": 4,
 "nbformat_minor": 2
}
