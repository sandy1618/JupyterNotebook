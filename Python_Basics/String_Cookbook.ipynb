{
 "cells": [
  {
   "cell_type": "markdown",
   "metadata": {},
   "source": [
    "## String CookBook"
   ]
  },
  {
   "cell_type": "code",
   "execution_count": 9,
   "metadata": {},
   "outputs": [
    {
     "data": {
      "text/plain": [
       "['asdf', 'fjdk', 'afed', 'fjek', 'asdf', 'foo']"
      ]
     },
     "execution_count": 9,
     "metadata": {},
     "output_type": "execute_result"
    }
   ],
   "source": [
    "## Split the file , extract list of words \n",
    "##input: \n",
    "line = 'asdf fjdk; afed, fjek,asdf,   foo'\n",
    "##Output: \n",
    "# \n",
    "['asdf', 'fjdk', 'afed', 'fjek', 'asdf', 'foo']\n",
    "\n",
    "import re \n",
    "line = 'asdf fjdk; afed, fjek,asdf,   foo'\n",
    "re.split(r'[;,\\s]\\s*',line)\n",
    "\n",
    "##using groupign here.\n",
    "# fields = re.split(r'(;|,|\\s)\\s*', line)\n",
    "# print(fields)\n",
    "# fields2 = re.split(r'([;,\\s])\\s*', line)\n",
    "# print(fields2)\n"
   ]
  },
  {
   "cell_type": "code",
   "execution_count": null,
   "metadata": {},
   "outputs": [],
   "source": [
    "\"\"\"\n",
    "multiple choices, provide a tuple of possibilities to\n",
    "startswith() or endswith():\n",
    "Use only tuple. Convert other iterables to tuple.\n",
    "\"\"\"\n",
    "# # Why this produce error? How to change it ? \n",
    "# choices = ['http:','ftp:']\n",
    "# url = 'ftp://www.python.org'\n",
    "# # url.startswith(choices) \n",
    "# url.startswith(tuple(choices))\n",
    "\n",
    "#  Implement s.startswith & s.endwidth patter using reg-ex. \n",
    "# extract both the ftp: and .org pattern . \n",
    "choices = ['http:','ftp:']\n",
    "url = 'ftp://www.python.org'\n",
    "import re\n",
    "pat = re.compile(r'^http:|.org$|^ftp:')\n",
    "match = re.findall(pat,url)\n",
    "print(match)"
   ]
  },
  {
   "cell_type": "code",
   "execution_count": null,
   "metadata": {},
   "outputs": [],
   "source": [
    "#  checks a directory for the presence of certain kinds of files:\n",
    "\n",
    "# if any(name.endswith(('.c', '.h')) for name in listdir(dirname)):\n",
    "# ..."
   ]
  },
  {
   "cell_type": "code",
   "execution_count": 38,
   "metadata": {},
   "outputs": [
    {
     "data": {
      "text/plain": [
       "'yep, but no, but yep, but no, but yep'"
      ]
     },
     "execution_count": 38,
     "metadata": {},
     "output_type": "execute_result"
    }
   ],
   "source": [
    "\"\"\"\n",
    "s.replace(pat,repl)\n",
    "replace the pat with particular repl : replace string. \n",
    "\n",
    "\"\"\"\n",
    "#replace yeah with yep using strings. \n",
    "text = 'yeah, but no, but yeah, but no, but yeah'\n",
    "text.replace('yeah', 'yep')\n"
   ]
  },
  {
   "cell_type": "code",
   "execution_count": 37,
   "metadata": {},
   "outputs": [
    {
     "data": {
      "text/plain": [
       "['A',\n",
       " 'ASCII',\n",
       " 'DEBUG',\n",
       " 'DOTALL',\n",
       " 'I',\n",
       " 'IGNORECASE',\n",
       " 'L',\n",
       " 'LOCALE',\n",
       " 'M',\n",
       " 'MULTILINE',\n",
       " 'RegexFlag',\n",
       " 'S',\n",
       " 'Scanner',\n",
       " 'T',\n",
       " 'TEMPLATE',\n",
       " 'U',\n",
       " 'UNICODE',\n",
       " 'VERBOSE',\n",
       " 'X',\n",
       " '_MAXCACHE',\n",
       " '__all__',\n",
       " '__builtins__',\n",
       " '__cached__',\n",
       " '__doc__',\n",
       " '__file__',\n",
       " '__loader__',\n",
       " '__name__',\n",
       " '__package__',\n",
       " '__spec__',\n",
       " '__version__',\n",
       " '_alphanum_bytes',\n",
       " '_alphanum_str',\n",
       " '_cache',\n",
       " '_compile',\n",
       " '_compile_repl',\n",
       " '_expand',\n",
       " '_locale',\n",
       " '_pattern_type',\n",
       " '_pickle',\n",
       " '_subx',\n",
       " 'compile',\n",
       " 'copyreg',\n",
       " 'enum',\n",
       " 'error',\n",
       " 'escape',\n",
       " 'findall',\n",
       " 'finditer',\n",
       " 'fullmatch',\n",
       " 'functools',\n",
       " 'match',\n",
       " 'purge',\n",
       " 'search',\n",
       " 'split',\n",
       " 'sre_compile',\n",
       " 'sre_parse',\n",
       " 'sub',\n",
       " 'subn',\n",
       " 'template']"
      ]
     },
     "execution_count": 37,
     "metadata": {},
     "output_type": "execute_result"
    }
   ],
   "source": [
    "import re\n",
    "dir(re)\n",
    "# help(re)"
   ]
  }
 ],
 "metadata": {
  "kernelspec": {
   "display_name": "Python 3",
   "language": "python",
   "name": "python3"
  },
  "language_info": {
   "codemirror_mode": {
    "name": "ipython",
    "version": 3
   },
   "file_extension": ".py",
   "mimetype": "text/x-python",
   "name": "python",
   "nbconvert_exporter": "python",
   "pygments_lexer": "ipython3",
   "version": "3.6.9"
  }
 },
 "nbformat": 4,
 "nbformat_minor": 2
}
