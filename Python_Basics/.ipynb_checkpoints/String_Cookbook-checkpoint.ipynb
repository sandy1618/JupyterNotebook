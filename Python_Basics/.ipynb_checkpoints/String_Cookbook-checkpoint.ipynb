{
 "cells": [
  {
   "cell_type": "markdown",
   "metadata": {},
   "source": [
    "## String CookBook"
   ]
  },
  {
   "cell_type": "code",
   "execution_count": 9,
   "metadata": {},
   "outputs": [
    {
     "data": {
      "text/plain": [
       "['asdf', 'fjdk', 'afed', 'fjek', 'asdf', 'foo']"
      ]
     },
     "execution_count": 9,
     "metadata": {},
     "output_type": "execute_result"
    }
   ],
   "source": [
    "## Split the file , extract list of words \n",
    "##input: \n",
    "line = 'asdf fjdk; afed, fjek,asdf,   foo'\n",
    "##Output: \n",
    "# \n",
    "['asdf', 'fjdk', 'afed', 'fjek', 'asdf', 'foo']\n",
    "\n",
    "import re \n",
    "line = 'asdf fjdk; afed, fjek,asdf,   foo'\n",
    "re.split(r'[;,\\s]\\s*',line)\n",
    "\n",
    "##using groupign here.\n",
    "# fields = re.split(r'(;|,|\\s)\\s*', line)\n",
    "# print(fields)\n",
    "# fields2 = re.split(r'([;,\\s])\\s*', line)\n",
    "# print(fields2)\n"
   ]
  },
  {
   "cell_type": "code",
   "execution_count": null,
   "metadata": {},
   "outputs": [],
   "source": []
  }
 ],
 "metadata": {
  "kernelspec": {
   "display_name": "Python 3",
   "language": "python",
   "name": "python3"
  },
  "language_info": {
   "codemirror_mode": {
    "name": "ipython",
    "version": 3
   },
   "file_extension": ".py",
   "mimetype": "text/x-python",
   "name": "python",
   "nbconvert_exporter": "python",
   "pygments_lexer": "ipython3",
   "version": "3.6.9"
  }
 },
 "nbformat": 4,
 "nbformat_minor": 2
}
