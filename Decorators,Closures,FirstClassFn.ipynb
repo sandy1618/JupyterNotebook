{
 "cells": [
  {
   "cell_type": "markdown",
   "metadata": {},
   "source": [
    "## First class function\n",
    "A programming language is said to have First-class functions when functions in that language are treated like any other variable. For example, in such a language, a function can be passed as an argument to other functions, can be returned by another function and can be assigned as a value to a variable. - mozilla ref.\n",
    "\n",
    "as first-class citizens. This means the language supports passing functions as arguments to other functions, returning them as the values from other functions, and assigning them to variables or storing them in data structures"
   ]
  },
  {
   "cell_type": "code",
   "execution_count": 12,
   "metadata": {},
   "outputs": [
    {
     "name": "stdout",
     "output_type": "stream",
     "text": [
      "<function square at 0x7ffb8c0a8950>\n",
      "25\n",
      "<function square at 0x7ffb8c0a8950>\n",
      "9\n",
      "[1, 4, 9, 25, 36]\n",
      "<class 'function'>\n",
      "<h1>hello</h1>\n"
     ]
    }
   ],
   "source": [
    "# Normal way of using funcitons\n",
    "\n",
    "# USUING FUNCITON AS A VARIABLE \n",
    "\n",
    "def square(x):\n",
    "    return x*x\n",
    "f = square(5)\n",
    "print(square) # we have used the function name, without (), it is just name. NO EXECUTION. thats why we just get the address \n",
    "print(f) # its a first class fun, as we have assigned it to variable, the fucntion is excected \n",
    "\n",
    "# Suppose we do this \n",
    "g = square \n",
    "print(g) # This variable g is used just as a fucntion \n",
    "# example \n",
    "print(g(3)) \n",
    "\n",
    "# USING FUCNTION AS AN ARGUMENT. EG. MAP\n",
    "\n",
    "def my_map(func,arglist): # passing function as an argument. NOTE WE DONT USE (), WE DONT EXECUTE IT \n",
    "    result = []\n",
    "    for i in arglist:\n",
    "        result.append(func(i)) # passin\n",
    "    return result\n",
    "squares = my_map(square,[1,2,3,5,6]) # passing function as an argument. NOTE WE DONT USE (), WE DONT EXECUTE IT \n",
    "print(squares)\n",
    "\n",
    "#RETURNING FUNCTIONS FROM ANOTHER FUNCTION \n",
    "def html_tag(tag):\n",
    "    \n",
    "    def wrap_text(msg):\n",
    "        print('<{0}>{1}</{0}>'.format(tag,msg))\n",
    "    return wrap_text # RETURNING THE WARP_TEXT FUNCTION , NOTE WE DONT USE (), WE DONT EXECUTE IT \n",
    "print_h1 = html_tag('h1') # the higher order fun. takes in tag = 'h1' AND RETURN FUNCTION, WRAP_TEXT. \n",
    "print(type(print_h1)) # therefore, print_h1 is now of type function = WRAP_TEXT\n",
    "print_h1(\"hello\") # EQUIVALENT TO WRAP_TEXT('HELLO')\n",
    "# wrap_text('hel') # I cannot use this wrap_text method ouside the func. html_tag \n",
    "\n",
    "\n",
    "\n",
    "\n",
    "# CLOSURE\n",
    "# IN THE ABOVE EXAMPLE, HOW DOES THE INNER FUNCTION, PRINT_H1 REMEBERS THE TAG H1 EVEN AFTER THE OUTER FUNCTION \n",
    "# IS CALLED AND CLOSED? \n",
    "# IT IS BECAUSE IT IS A CLOSURE "
   ]
  },
  {
   "cell_type": "markdown",
   "metadata": {},
   "source": [
    "## CLOSURES - BASICALLY THE INNER FN OF A NESTED FN\n",
    "A Closure is a function object that remembers values in enclosing scopes even if they are not present in memory.\n",
    "\n",
    "It is a record that stores a function together with an environment: a mapping associating each free variable of the function (variables that are used locally, but defined in an enclosing scope) with the value or reference to which the name was bound when the closure was created.\n",
    "\n",
    "A closure—unlike a plain function—allows the function to access those captured variables through the closure’s copies of their values or references, even when the function is invoked outside their scope.\n",
    "\n",
    "#### Closure allow us to take advantage of first class function and return an inner fun that remebers and have access to variables in the local scope of the fuction that they were created. "
   ]
  },
  {
   "cell_type": "code",
   "execution_count": 14,
   "metadata": {},
   "outputs": [
    {
     "name": "stdout",
     "output_type": "stream",
     "text": [
      "Hi\n",
      "Hello\n"
     ]
    }
   ],
   "source": [
    "def outer_fun(msg):\n",
    "    message = msg\n",
    "    def inner_func():\n",
    "        print(message) # this message variable becomes a free variable as when called in inner fn. NOTE WE DONT USE (), WE DONT EXECUTE IT \n",
    "    return inner_func # returning a fn(first class fn)\n",
    "hi_func = outer_fun('Hi') # closure/ inner func\n",
    "Hello_func = outer_fun(\"Hello\")\n",
    "hi_func()\n",
    "Hello_func()"
   ]
  },
  {
   "cell_type": "markdown",
   "metadata": {},
   "source": [
    "### DECORATORS"
   ]
  },
  {
   "cell_type": "code",
   "execution_count": 31,
   "metadata": {},
   "outputs": [
    {
     "name": "stdout",
     "output_type": "stream",
     "text": [
      "executing foo(<__main__.A object at 0x7ffb7e4a00f0>, 1)\n",
      "<bound method A.foo of <__main__.A object at 0x7ffb7e4a00f0>>\n",
      "executing class_foo(<class '__main__.A'>, 1)\n",
      "executing class_foo(<class '__main__.A'>, 1)\n",
      "executing static_foo(1)\n",
      "executing static_foo(2)\n"
     ]
    }
   ],
   "source": [
    "class A(object):\n",
    "    def foo(self, x):\n",
    "        print(\"executing foo(%s, %s)\" % (self, x))\n",
    "\n",
    "    @classmethod\n",
    "    def class_foo(cls, x):\n",
    "        print( \"executing class_foo(%s, %s)\" % (cls, x))\n",
    "\n",
    "    @staticmethod\n",
    "    def static_foo(x):\n",
    "        print( \"executing static_foo(%s)\" % x   ) \n",
    "\n",
    "a = A()\n",
    "a.foo(1)\n",
    "\n",
    "# foo(a,1)  # out of scope , as foo is inside the class\n",
    "# static_foo(1) # same reason. needs associativity with the class. \n",
    "a.class_foo(1) # Here we use instance of the class\n",
    "A.class_foo(1) # here we use the class itself . \n",
    "# static method:Staticmethods are used to group functions which have some logical connection with a class to the clas\n",
    "a.static_foo(1) # here both instance and hte class can be executed. \n",
    "A.static_foo(2)\n",
    "\n"
   ]
  }
 ],
 "metadata": {
  "kernelspec": {
   "display_name": "Python 3",
   "language": "python",
   "name": "python3"
  },
  "language_info": {
   "codemirror_mode": {
    "name": "ipython",
    "version": 3
   },
   "file_extension": ".py",
   "mimetype": "text/x-python",
   "name": "python",
   "nbconvert_exporter": "python",
   "pygments_lexer": "ipython3",
   "version": "3.7.3"
  }
 },
 "nbformat": 4,
 "nbformat_minor": 2
}
