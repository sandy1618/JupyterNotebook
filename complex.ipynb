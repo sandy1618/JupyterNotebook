{
 "cells": [
  {
   "cell_type": "markdown",
   "metadata": {},
   "source": [
    "### Complex numbers \n"
   ]
  },
  {
   "cell_type": "markdown",
   "metadata": {},
   "source": [
    "#### extracting real part and imaginary part \n"
   ]
  },
  {
   "cell_type": "code",
   "execution_count": 6,
   "metadata": {},
   "outputs": [
    {
     "name": "stdout",
     "output_type": "stream",
     "text": [
      "(1+3j)\n",
      "1.0\n",
      "3.0\n"
     ]
    }
   ],
   "source": [
    "# import cmath   ## cmath is built in library so no need to import \n",
    "s= 1+2j / 2+2j\n",
    "print(s)\n",
    "print(s.real)\n",
    "print(s.imag)"
   ]
  },
  {
   "cell_type": "code",
   "execution_count": 11,
   "metadata": {},
   "outputs": [
    {
     "name": "stdout",
     "output_type": "stream",
     "text": [
      "(2+1j)\n",
      "(0.26229508196721313-0.11475409836065571j)\n",
      "0.26229508196721313\n",
      "-0.11475409836065571\n"
     ]
    }
   ],
   "source": [
    " # using complex() for the same \n",
    "import cmath\n",
    "s= complex(2,1) / complex(5,6)\n",
    "print(complex(2,1))\n",
    "print(s)\n",
    "print(s.real)\n",
    "print(s.imag)"
   ]
  }
 ],
 "metadata": {
  "kernelspec": {
   "display_name": "Python 3",
   "language": "python",
   "name": "python3"
  },
  "language_info": {
   "codemirror_mode": {
    "name": "ipython",
    "version": 3
   },
   "file_extension": ".py",
   "mimetype": "text/x-python",
   "name": "python",
   "nbconvert_exporter": "python",
   "pygments_lexer": "ipython3",
   "version": "3.7.3"
  }
 },
 "nbformat": 4,
 "nbformat_minor": 2
}
