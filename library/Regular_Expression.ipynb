{
 "cells": [
  {
   "cell_type": "markdown",
   "metadata": {},
   "source": [
    "## Regular Expressions RE Module"
   ]
  },
  {
   "cell_type": "markdown",
   "metadata": {},
   "source": [
    "### Basic Pattern"
   ]
  },
  {
   "cell_type": "code",
   "execution_count": null,
   "metadata": {},
   "outputs": [],
   "source": [
    "\"\"\" .# re # Hash is just for differentiting.\n",
    "# a, X, 9, < #\n",
    "ordinary characters just match themselves exactly. \n",
    "\n",
    "# . ^ $ * + ? { [ ] \\ | ( ) #\n",
    "The meta-characters which do not match themselves because they have special meanings\n",
    "\n",
    "# .(dot) # \n",
    "matches any single character except newline '\\n' . see. example\n",
    "\n",
    "# \\w # \n",
    "matches word char eg. [a-zA-Z0-9_], Note: \\W : any non-word character.\n",
    "\n",
    "# \\d #  \n",
    "[0-9]\n",
    "\n",
    "# \\s #  \n",
    "single whitespace character -- space, newline, return, tab, form [ \\n\\r\\t\\f]\n",
    "Note: S (upper case S) matches any non-whitespace character.\n",
    "\n",
    "# ^ = start, $ = end # \n",
    "match the start or end of the string\n",
    "\n",
    "# \\ # \n",
    "inhibit the \"specialness\" of a character. So, for example, use \\. to match a period or \\\\ to match a slash.\n",
    "\n",
    "# + #\n",
    "greedy)1 or more occurances of the pattern. eg. 'i+' = one or more i's\n",
    "\n",
    "# * #\n",
    "(greedy)0 or more occurances of pattern. eg.\n",
    "\n",
    "# ? #\n",
    "(non-greedy)0 or 1 occurances of pattern . eg. \n",
    "\n",
    "# [] \n",
    "Square brackets can be used to indicate a set of chars, \n",
    "so [abc] matches 'a' or 'b' or 'c'. \n",
    "The codes \\w, \\s etc. work inside square brackets too\n",
    "one exception that dot (.) just means a literal dot. \n",
    "\n",
    "\n",
    "\"\"\""
   ]
  },
  {
   "cell_type": "code",
   "execution_count": 12,
   "metadata": {},
   "outputs": [
    {
     "name": "stdout",
     "output_type": "stream",
     "text": [
      "ig\n",
      "ipig\n",
      "not found\n"
     ]
    }
   ],
   "source": [
    "\"\"\"\n",
    "re.search(pat,str)\n",
    "    -The search proceeds through the string from start to end, stopping at the first match found\n",
    "    -If match = re.search(pat, str) is successful,\n",
    "      match is not None and in particular match.group() is the matching text\n",
    "      \n",
    "\"\"\"\n",
    "import re\n",
    "def Find(pat,text):\n",
    "    match = re.search(pat,text)\n",
    "    if match : print(match.group())\n",
    "    else: print('not found')\n",
    "Find('ig','called piig')\n",
    "Find('...g','called ipig')\n",
    "Find('...g','called \\npig')\n"
   ]
  },
  {
   "cell_type": "code",
   "execution_count": 63,
   "metadata": {},
   "outputs": [
    {
     "name": "stdout",
     "output_type": "stream",
     "text": [
      "iig\n",
      "xyzg\n",
      "c.\n",
      "not found\n"
     ]
    }
   ],
   "source": [
    "\"\"\"\n",
    ".dot()\n",
    "\n",
    ".(dot) matches any single character except newline '\\n' . see. example\n",
    "goes left to right. stops at first instance of match. \n",
    "def Find(pat,text):\n",
    "    match = re.search(pat,text)\n",
    "    if match : print(match.group())\n",
    "    else: print('not found')\n",
    "\"\"\"\n",
    "Find('..g','called piiig much better:xyzg')\n",
    "Find('x..g','called piiig much better:xyzg')\n",
    "Find(r'c\\.','c.lled piig much better:xyzg')\n",
    "Find('...g','called \\npig')"
   ]
  },
  {
   "cell_type": "code",
   "execution_count": 24,
   "metadata": {},
   "outputs": [
    {
     "data": {
      "text/plain": [
       "'abc'"
      ]
     },
     "execution_count": 24,
     "metadata": {},
     "output_type": "execute_result"
    }
   ],
   "source": [
    "\"\"\"\n",
    "\\w - Word character\n",
    "\\w -- (lowercase w) matches a \"word\" character: a letter or digit or underbar\n",
    "[a-zA-Z0-9_]\n",
    "\n",
    "Note:although \"word\",it only matches a single word char, not a whole word.\n",
    "\\W (upper case W) matches any non-word character.\n",
    "\n",
    "\"\"\"\n",
    "# Use re module, do :- \n",
    "match = re.search(r'\\w\\w\\w', '@@abcd!! sandy')\n",
    "match.group()"
   ]
  },
  {
   "cell_type": "code",
   "execution_count": 25,
   "metadata": {},
   "outputs": [
    {
     "data": {
      "text/plain": [
       "'123'"
      ]
     },
     "execution_count": 25,
     "metadata": {},
     "output_type": "execute_result"
    }
   ],
   "source": [
    "\"\"\"\n",
    "\\d -- decimal digit [0-9]\n",
    "\"\"\"\n",
    "# Use re module, do :- \n",
    "match = re.search(r'\\d\\d\\d', 'p123g')\n",
    "match.group()"
   ]
  },
  {
   "cell_type": "markdown",
   "metadata": {},
   "source": [
    "### Repition "
   ]
  },
  {
   "cell_type": "code",
   "execution_count": null,
   "metadata": {},
   "outputs": [],
   "source": [
    "\"\"\"\n",
    "+  (greedy)1 or more occurances of the pattern. eg. 'i+' = one or more i's\n",
    "*  (greedy)0 or more occurances of pattern. eg. \n",
    "?  (non-greedy)0 or 1 occurances of pattern . eg. \n",
    "\"\""
   ]
  },
  {
   "cell_type": "code",
   "execution_count": 68,
   "metadata": {
    "scrolled": true
   },
   "outputs": [
    {
     "name": "stdout",
     "output_type": "stream",
     "text": [
      "ii\n"
     ]
    },
    {
     "ename": "AttributeError",
     "evalue": "'NoneType' object has no attribute 'group'",
     "output_type": "error",
     "traceback": [
      "\u001b[0;31m---------------------------------------------------------------------------\u001b[0m",
      "\u001b[0;31mAttributeError\u001b[0m                            Traceback (most recent call last)",
      "\u001b[0;32m<ipython-input-68-503b9a99cc5f>\u001b[0m in \u001b[0;36m<module>\u001b[0;34m\u001b[0m\n\u001b[1;32m      7\u001b[0m \u001b[0;31m#Find output of the following\u001b[0m\u001b[0;34m\u001b[0m\u001b[0;34m\u001b[0m\u001b[0;34m\u001b[0m\u001b[0m\n\u001b[1;32m      8\u001b[0m \u001b[0mmatch2\u001b[0m \u001b[0;34m=\u001b[0m \u001b[0mre\u001b[0m\u001b[0;34m.\u001b[0m\u001b[0msearch\u001b[0m\u001b[0;34m(\u001b[0m\u001b[0;34mr'\\d\\s+\\d\\s+\\d'\u001b[0m\u001b[0;34m,\u001b[0m\u001b[0;34m' xx12   3xx'\u001b[0m\u001b[0;34m)\u001b[0m\u001b[0;34m\u001b[0m\u001b[0;34m\u001b[0m\u001b[0m\n\u001b[0;32m----> 9\u001b[0;31m \u001b[0mprint\u001b[0m\u001b[0;34m(\u001b[0m\u001b[0mmatch2\u001b[0m\u001b[0;34m.\u001b[0m\u001b[0mgroup\u001b[0m\u001b[0;34m(\u001b[0m\u001b[0;34m)\u001b[0m\u001b[0;34m)\u001b[0m\u001b[0;34m\u001b[0m\u001b[0;34m\u001b[0m\u001b[0m\n\u001b[0m",
      "\u001b[0;31mAttributeError\u001b[0m: 'NoneType' object has no attribute 'group'"
     ]
    }
   ],
   "source": [
    "\n",
    "\"\"\"\n",
    "+  (greedy)1 or more occurances of the pattern. eg. 'i+' = one or more i's\n",
    "\"\"\"\n",
    "match = re.search(r'i+', 'piigiiii') \n",
    "print(match.group())\n",
    "\n",
    "#Find output of the following\n",
    "match2 = re.search(r'\\d\\s+\\d\\s+\\d',' xx12   3xx')\n",
    "print(match2.group())"
   ]
  },
  {
   "cell_type": "code",
   "execution_count": 39,
   "metadata": {},
   "outputs": [
    {
     "data": {
      "text/plain": [
       "'12   3'"
      ]
     },
     "execution_count": 39,
     "metadata": {},
     "output_type": "execute_result"
    }
   ],
   "source": [
    "\"\"\"\n",
    "*  (greedy)0 or more occurances of pattern. eg. \n",
    "\"\"\"\n",
    "## Here look for 3 digits, possibly separated by whitespace.\n",
    "# match = re.search(r'\\d\\s+\\d\\s+\\d',' xx12   3xx')\n",
    "# match.group()\n",
    "match = re.search(r'\\d\\s*\\d\\s*\\d',' xx12   3xx')\n",
    "match.group()\n",
    "# match2 = re.findall(r'\\d',' xx1 2   3xx')\n",
    "# match2"
   ]
  },
  {
   "cell_type": "code",
   "execution_count": null,
   "metadata": {},
   "outputs": [],
   "source": [
    "\"\"\"\n",
    "^ = start, $ = end -- match the start or end of the string\n",
    "\"\"\""
   ]
  },
  {
   "cell_type": "code",
   "execution_count": null,
   "metadata": {},
   "outputs": [],
   "source": [
    "\"\"\"\n",
    "?  (non-greedy)0 or 1 occurances of pattern . eg. \n",
    "\"\"\"\n"
   ]
  },
  {
   "cell_type": "markdown",
   "metadata": {},
   "source": [
    "## Intermediate"
   ]
  },
  {
   "cell_type": "markdown",
   "metadata": {},
   "source": [
    "### Mixing basic patterns and repititions"
   ]
  },
  {
   "cell_type": "code",
   "execution_count": 45,
   "metadata": {},
   "outputs": [
    {
     "data": {
      "text/plain": [
       "'bar'"
      ]
     },
     "execution_count": 45,
     "metadata": {},
     "output_type": "execute_result"
    }
   ],
   "source": [
    "#Find output of the following\n",
    "# match = re.search(r'^b\\w+','foobar')\n",
    "# match.group()\n",
    "match = re.search(r'b\\w+','foobar')\n",
    "match.group()"
   ]
  },
  {
   "cell_type": "code",
   "execution_count": 47,
   "metadata": {},
   "outputs": [
    {
     "data": {
      "text/plain": [
       "'b@google'"
      ]
     },
     "execution_count": 47,
     "metadata": {},
     "output_type": "execute_result"
    }
   ],
   "source": [
    "\"\"\"\n",
    "The search does not get the whole email address in \n",
    "this case because the \\w does not match the '-' or '.'\n",
    "\"\"\"\n",
    "\n",
    "#Find the output of the following\n",
    "str = 'purple alice-b@google.com monkey dishwasher'\n",
    "match = re.search(r'\\w+@\\w+', str)\n",
    "match.group()"
   ]
  },
  {
   "cell_type": "markdown",
   "metadata": {},
   "source": [
    "### [] Square Bracket  => set of chars. "
   ]
  },
  {
   "cell_type": "code",
   "execution_count": 54,
   "metadata": {},
   "outputs": [
    {
     "name": "stdout",
     "output_type": "stream",
     "text": [
      "b@g\n",
      "alice-b@google.com\n",
      "nick.p@gmail\n"
     ]
    }
   ],
   "source": [
    "\"\"\"\n",
    "[] : Square brackets can be used to indicate a set of chars, so [abc] matches 'a' or 'b' or 'c'. \n",
    "The codes \\w, \\s etc. work inside square brackets too\n",
    "one exception that dot (.) just means a literal dot. \n",
    "\"\"\"\n",
    "str = 'purple alice-b@google.com monkey dishwasher'\n",
    "match = re.search(r'[\\w.-]@[\\w+.-]', str)\n",
    "print(match.group())\n",
    "match2 = re.search(r'[\\w.-]+@[\\w+.-]+', str)\n",
    "print(match2.group())\n",
    "Find(r'\\S+@\\w+','blah nick.p@gmail.com yatta& @') # My method 2"
   ]
  },
  {
   "cell_type": "code",
   "execution_count": null,
   "metadata": {},
   "outputs": [],
   "source": [
    "\"\"\"\n",
    "(More square-bracket features) \n",
    "- : dash can indicate range. eg.[a-z] matches all lowercase letters.\n",
    "To use a dash without indicating a range, put the dash last, e.g. [abc-]. \n",
    "An up-hat (^) at the start of a square-bracket set inverts it,\n",
    "so [^ab] means any char except 'a' or 'b'.\n",
    "\n",
    "\"\"\"\n",
    "\n",
    "#TODO : FIND EG. FOR THIS. "
   ]
  },
  {
   "cell_type": "markdown",
   "metadata": {},
   "source": [
    "### Group Extraction\n",
    "A common workflow with regular expressions is that you write a pattern for the thing you are looking for, \n",
    "\n",
    "adding parenthesis groups to extract the parts you want."
   ]
  },
  {
   "cell_type": "code",
   "execution_count": 53,
   "metadata": {},
   "outputs": [
    {
     "name": "stdout",
     "output_type": "stream",
     "text": [
      "alice-b@google.com\n",
      "alice-b\n",
      "google.com\n"
     ]
    }
   ],
   "source": [
    "# the emails problem that we want to extract the username and host separately.\n",
    "str = 'purple alice-b@google.com monkey dishwasher'\n",
    "match = re.search(r'([\\w.-]+)@([\\w.-]+)', str)\n",
    "if match:\n",
    "    print(match.group())   ## 'alice-b@google.com' (the whole match)\n",
    "    print(match.group(1))  ## 'alice-b' (the username, group 1)\n",
    "    print(match.group(2) ) ## 'google.com' (the host, group 2)"
   ]
  },
  {
   "cell_type": "markdown",
   "metadata": {},
   "source": [
    "### re.findall(pat,str)"
   ]
  },
  {
   "cell_type": "code",
   "execution_count": 58,
   "metadata": {},
   "outputs": [
    {
     "data": {
      "text/plain": [
       "['alice@google.com', 'bob@abc.com']"
      ]
     },
     "execution_count": 58,
     "metadata": {},
     "output_type": "execute_result"
    }
   ],
   "source": [
    "\"\"\"\n",
    "re.findall(pat,str) : \n",
    "findall() finds *all* the matches and returns them as a list of strings,\n",
    "with each string representing one match.\n",
    "\"\"\"\n",
    "\n",
    "## Extract all email addresses. \n",
    "str = 'purple alice@google.com, blah monkey bob@abc.com blah dishwasher'\n",
    "\n",
    "## Here re.findall() returns a list of all the found email strings\n",
    "emails = re.findall(r'[\\w\\.-]+@[\\w\\.-]+', str) ## ['alice@google.com', 'bob@abc.com']\n",
    "emails"
   ]
  },
  {
   "cell_type": "code",
   "execution_count": 61,
   "metadata": {},
   "outputs": [
    {
     "name": "stdout",
     "output_type": "stream",
     "text": [
      "[('alice', '@', 'google.com'), ('bob', '@', 'abc.com')]\n",
      "alice\n",
      "google.com\n",
      "bob\n",
      "abc.com\n"
     ]
    }
   ],
   "source": [
    "\"\"\"\n",
    "re.findall(pat,str) : \n",
    "findall() finds *all* the matches and returns them as a list of strings,\n",
    "with each string representing one match.\n",
    "\"\"\"\n",
    "\n",
    "## Extract Host name and domain name separately\n",
    "str = 'purple alice@google.com, blah monkey bob@abc.com blah dishwasher'\n",
    "\n",
    "## Here re.findall() returns a list of all the found email strings\n",
    "emails = re.findall(r'([\\w\\.-]+)(@)([\\w\\.-]+)', str) ## ['alice@google.com', 'bob@abc.com']\n",
    "print(emails)\n",
    "for info in emails:\n",
    "    print(info[0])\n",
    "    print(info[2])\n",
    "    "
   ]
  },
  {
   "cell_type": "markdown",
   "metadata": {},
   "source": [
    "### re.split()"
   ]
  },
  {
   "cell_type": "code",
   "execution_count": 69,
   "metadata": {},
   "outputs": [
    {
     "data": {
      "text/plain": [
       "['0', '3', '9']"
      ]
     },
     "execution_count": 69,
     "metadata": {},
     "output_type": "execute_result"
    }
   ],
   "source": [
    "\"\"\"\n",
    "re.split(pattern, string, maxsplit=0, flags=0): \n",
    "split text based on pattern and return list\n",
    "\"\"\"\n",
    "re.split('[a-f]+', '0a3B9', flags=re.IGNORECASE)"
   ]
  },
  {
   "cell_type": "markdown",
   "metadata": {},
   "source": [
    "### re.sub(pat, repl, txt) "
   ]
  },
  {
   "cell_type": "code",
   "execution_count": 74,
   "metadata": {},
   "outputs": [
    {
     "data": {
      "text/plain": [
       "'Today is 27 Nov 2012. PyCon starts 13 Mar 2013.'"
      ]
     },
     "execution_count": 74,
     "metadata": {},
     "output_type": "execute_result"
    }
   ],
   "source": [
    "#feb 17 2020\n",
    "\"\"\"\n",
    "first argument to sub() is the pattern to match and the second argument is the\n",
    "replacement pattern. Backslashed digits such as \\3 refer to capture group numbers in\n",
    "the pattern.\n",
    "\n",
    "\"\"\"\n",
    "# replace all dates to yyyy-dd-mm format \n",
    "text = 'Today is 11/27/2012. PyCon starts 3/13/2013.'\n",
    "\n",
    "import re\n",
    "re.sub(r'(\\d+)/(\\d+)/(\\d+)', r'\\3-\\1-\\2', text)\n",
    "\n",
    "import re\n",
    "datepat = re.compile(r'(\\d+)/(\\d+)/(\\d+)')\n",
    "datepat.sub(r'\\3-\\1-\\2', text)\n",
    "\n",
    "\n",
    "# For more complicated substitutions, it’s possible to specify a substitution callback func‐tion instead. \n",
    "# Input: 'Today is 11/27/2012. PyCon starts 3/13/2013.'\n",
    "# output: 'Today is 27 Nov 2012. PyCon starts 13 Mar 2013.'\n",
    "\n",
    "\"\"\"\n",
    "As input, the argument to the substitution callback is a match object, as returned by\n",
    "match() or find(). Use the .group() method to extract specific parts of the match. The\n",
    "function should return the replacement text.\n",
    "\n",
    "\"\"\"\n",
    "from calendar import month_abbr\n",
    "def change_date(m):\n",
    "    mon_name = month_abbr[int(m.group(1))]\n",
    "    return '{} {} {}'.format(m.group(2), mon_name, m.group(3))\n",
    "datepat.sub(change_date, text)\n"
   ]
  },
  {
   "cell_type": "markdown",
   "metadata": {},
   "source": [
    "### re.subn(pattern, repl, string, count=0, flags=0)"
   ]
  },
  {
   "cell_type": "code",
   "execution_count": 86,
   "metadata": {
    "scrolled": true
   },
   "outputs": [
    {
     "name": "stdout",
     "output_type": "stream",
     "text": [
      "Today is 2012-11-27. PyCon starts 2013-3-13.\n",
      "2\n"
     ]
    }
   ],
   "source": [
    "\"\"\"\n",
    "re.subn(pattern, repl, string, count=0, flags=0)\n",
    "Perform the same operation as sub(), but return a tuple (new_string, number_of_subs_made).\n",
    "\n",
    "\"\"\"\n",
    "# Output of the following : \n",
    "\n",
    "text = 'Today is 11/27/2012. PyCon starts 3/13/2013.'\n",
    "import re\n",
    "datepat = re.compile(r'(\\d+)/(\\d+)/(\\d+)')\n",
    "newtext, n = datepat.subn(r'\\3-\\1-\\2',text)\n",
    "print(newtext)\n",
    "print(n)\n",
    "\n",
    "\n"
   ]
  },
  {
   "cell_type": "code",
   "execution_count": 79,
   "metadata": {},
   "outputs": [
    {
     "name": "stdout",
     "output_type": "stream",
     "text": [
      "['no.']\n",
      "['no.\" Phone says \"yes.']\n",
      "['no.', 'yes.']\n"
     ]
    }
   ],
   "source": [
    "# Output of the following ? \n",
    "str_pat = re.compile(r'\\\"(.*)\\\"')\n",
    "text1 = 'Computer says \"no.\"'\n",
    "print(str_pat.findall(text1))\n",
    "\n",
    "text2 = 'Computer says \"no.\" Phone says \"yes.\"'\n",
    "print(str_pat.findall(text2))\n",
    "\n",
    "# if we want ['no.','yes.'] , what to do ? \n",
    "str_pat = re.compile(r'\\\"(.*?)\\\"')\n",
    "print(str_pat.findall(text2))\n",
    "\"\"\"more common problems encountered when writing\n",
    "regular expressions involving the dot (.) character. In a pattern, the dot matches any\n",
    "character except a newline. However, if you bracket the dot with starting and ending\n",
    "text (such as a quote), matching will try to find the longest possible match to the pattern.\n",
    "This causes multiple occurrences of the starting or ending text to be skipped altogether\n",
    "and included in the results of the longer match. Adding the ? right after operators such\n",
    "as * or + forces the matching algorithm to look for the shortest possible match instead\n",
    "\"\"\""
   ]
  },
  {
   "cell_type": "code",
   "execution_count": null,
   "metadata": {},
   "outputs": [],
   "source": [
    "# How to match—but not capture—in Python regular expressions?\n",
    "\"\"\"\n",
    "# (?: stuff gones inside) # syntax is a non-capturing group. \n",
    "It basically means you can’t retrieve this via .groups() method call.\n",
    "# ( stuff goes inside ) # is capturing group. \n",
    "\n",
    "\"\"\"\n"
   ]
  },
  {
   "cell_type": "code",
   "execution_count": 85,
   "metadata": {},
   "outputs": [
    {
     "name": "stdout",
     "output_type": "stream",
     "text": [
      "[' this is a comment ']\n",
      "[]\n",
      "[' this is a\\n                 multiline comment ']\n"
     ]
    }
   ],
   "source": [
    "\"\"\"\n",
    "# (?: stuff gones inside) # syntax is a non-capturing group. \n",
    "It basically means you can’t retrieve this via .groups() method call.\n",
    "# ( stuff goes inside ) # is capturing group. \n",
    "\n",
    "\"\"\"\n",
    "\n",
    "# output of the following ?\n",
    "comment = re.compile(r'/\\*(.*?)\\*/')\n",
    "text1 = '/* this is a comment */'\n",
    "text2 = '''/* this is a\n",
    "                 multiline comment */\n",
    "         '''\n",
    "print(comment.findall(text1))\n",
    "print(comment.findall(text2))\n",
    "\n",
    "# output of the following ? \n",
    "# how to caputre a multi line comments? \n",
    "text2 = '''/* this is a\n",
    "                 multiline comment */\n",
    "         '''\n",
    "comment = re.compile(r'/\\*((?:.|\\n)*?)\\*/')\n",
    "print(comment.findall(text2))\n",
    "\n",
    "# #method 2 \n",
    "# comment = re.compile(r'/\\*(.*?)\\*/', re.DOTALL)\n",
    "# comment.findall(text2)\n"
   ]
  }
 ],
 "metadata": {
  "kernelspec": {
   "display_name": "Python 3",
   "language": "python",
   "name": "python3"
  },
  "language_info": {
   "codemirror_mode": {
    "name": "ipython",
    "version": 3
   },
   "file_extension": ".py",
   "mimetype": "text/x-python",
   "name": "python",
   "nbconvert_exporter": "python",
   "pygments_lexer": "ipython3",
   "version": "3.6.9"
  }
 },
 "nbformat": 4,
 "nbformat_minor": 2
}
