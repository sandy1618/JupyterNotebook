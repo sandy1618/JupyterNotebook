{
 "cells": [
  {
   "cell_type": "code",
   "execution_count": 6,
   "metadata": {},
   "outputs": [
    {
     "name": "stdout",
     "output_type": "stream",
     "text": [
      "thera started\n",
      "1\n",
      "12\n",
      "2\n",
      "3\n",
      "13\n",
      "4\n",
      "5\n",
      "14\n",
      "6\n",
      "7\n",
      "15\n",
      "8\n",
      "9\n",
      "16\n",
      "10\n",
      "17\n",
      "18\n",
      "19\n"
     ]
    }
   ],
   "source": [
    "import threading \n",
    "import time\n",
    "def loop():\n",
    "    for i in range(1,11):\n",
    "        time.sleep(1)\n",
    "        print(i)\n",
    "\n",
    "\n",
    "def loop2():\n",
    "    for i in range(12,20):\n",
    "        time.sleep(2)\n",
    "        print(i)\n",
    "        \n",
    "threading.Thread(target = loop).start()\n",
    "threading.Thread(target = loop2).start()\n",
    "print('thera started')\n"
   ]
  },
  {
   "cell_type": "code",
   "execution_count": 11,
   "metadata": {},
   "outputs": [
    {
     "name": "stdout",
     "output_type": "stream",
     "text": [
      "wait for 3 sec\n",
      "1\n",
      "2\n",
      "3\n",
      "4\n",
      "5\n",
      "6\n",
      "7\n",
      "8\n",
      "9\n",
      "10\n"
     ]
    }
   ],
   "source": [
    "# using threading.timer to find timers.\n",
    "from threading import Timer\n",
    "rt = Timer(3,loop)\n",
    "rt.start()\n",
    "print('wait for 3 sec')\n"
   ]
  },
  {
   "cell_type": "code",
   "execution_count": 22,
   "metadata": {},
   "outputs": [
    {
     "ename": "TypeError",
     "evalue": "printname2() missing 1 required positional argument: 'self'",
     "output_type": "error",
     "traceback": [
      "\u001b[0;31m---------------------------------------------------------------------------\u001b[0m",
      "\u001b[0;31mTypeError\u001b[0m                                 Traceback (most recent call last)",
      "\u001b[0;32m<ipython-input-22-e12562cc05ee>\u001b[0m in \u001b[0;36m<module>\u001b[0;34m\u001b[0m\n\u001b[1;32m     12\u001b[0m \u001b[0;34m\u001b[0m\u001b[0m\n\u001b[1;32m     13\u001b[0m \u001b[0ma\u001b[0m\u001b[0;34m=\u001b[0m\u001b[0mapple\u001b[0m\u001b[0;34m(\u001b[0m\u001b[0;34m'ringo'\u001b[0m\u001b[0;34m)\u001b[0m\u001b[0;34m\u001b[0m\u001b[0;34m\u001b[0m\u001b[0m\n\u001b[0;32m---> 14\u001b[0;31m \u001b[0mapple\u001b[0m\u001b[0;34m.\u001b[0m\u001b[0mprintname2\u001b[0m\u001b[0;34m(\u001b[0m\u001b[0;34m)\u001b[0m\u001b[0;34m\u001b[0m\u001b[0;34m\u001b[0m\u001b[0m\n\u001b[0m",
      "\u001b[0;31mTypeError\u001b[0m: printname2() missing 1 required positional argument: 'self'"
     ]
    }
   ],
   "source": [
    "class apple():\n",
    "    def __init__(self,name):\n",
    "        self.name = name\n",
    "        \n",
    "    \n",
    "    @staticmethod \n",
    "    def printname():\n",
    "        print(self.name)\n",
    "    \n",
    "    def printname2(self):\n",
    "        print(self.name)\n",
    "        \n",
    "a=apple('ringo')\n",
    "apple.printname2()\n"
   ]
  },
  {
   "cell_type": "code",
   "execution_count": 25,
   "metadata": {},
   "outputs": [
    {
     "name": "stdout",
     "output_type": "stream",
     "text": [
      "this/new/nayak.csv\n"
     ]
    }
   ],
   "source": [
    "def printvar(varname):\n",
    "    var_path = \"this/new/{}.csv\".format(varname)\n",
    "    print(var_path)\n",
    "printvar('nayak')"
   ]
  }
 ],
 "metadata": {
  "kernelspec": {
   "display_name": "Python 3",
   "language": "python",
   "name": "python3"
  },
  "language_info": {
   "codemirror_mode": {
    "name": "ipython",
    "version": 3
   },
   "file_extension": ".py",
   "mimetype": "text/x-python",
   "name": "python",
   "nbconvert_exporter": "python",
   "pygments_lexer": "ipython3",
   "version": "3.6.9"
  }
 },
 "nbformat": 4,
 "nbformat_minor": 2
}
