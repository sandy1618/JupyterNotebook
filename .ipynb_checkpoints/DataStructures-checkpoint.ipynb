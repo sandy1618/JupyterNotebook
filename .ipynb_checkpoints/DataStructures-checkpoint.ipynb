{
 "cells": [
  {
   "cell_type": "markdown",
   "metadata": {},
   "source": [
    "# Sets"
   ]
  },
  {
   "cell_type": "markdown",
   "metadata": {},
   "source": [
    ">A set cannot have mutable elements like a list, set or dictionary, as its elements.\n",
    "\n",
    ">Only one element at a time can be added to the set by using add() method, loops are used to add multiple elements at a time with the use of add() method whereas for addition of two or more elements Update() method is used. The update() method accepts lists, strings, tuples as well as other sets as its arguments. In all of these cases, duplicate elements are avoided.\n",
    "\n",
    ">Note – Lists cannot be added to a set as elements because Lists are not hashable whereas Tuples can be added because tuples are immutable and hence Hashable.\n",
    "\n",
    "[geeksforgeeks](https://www.geeksforgeeks.org/python-sets/)"
   ]
  },
  {
   "cell_type": "code",
   "execution_count": 10,
   "metadata": {},
   "outputs": [
    {
     "name": "stdout",
     "output_type": "stream",
     "text": [
      "{' Robotics and computer Science', 'thank', 'like', 'for', 'I', 'geeks'}\n",
      "{' Robotics and computer Science', 'thank', 'sandy', 'like', 'for', 'I', 'geeks'}\n",
      "{'using', ' Robotics and computer Science', 'update', 'thank', 'sandy', 'like', 'for', 'I', 'geeks'}\n"
     ]
    }
   ],
   "source": [
    "like = [\"I\",\"like\",\" Robotics and computer Science\",\"thank\",\"geeks\",\"for\",\"geeks\"]\n",
    "set_like = set(like)\n",
    "print(set_like)\n",
    "set_like.add(\"sandy\")\n",
    "\n",
    "print(set_like)\n",
    "set_like.update([\"using\",\"update\"])\n",
    "#Error\n",
    "# set_like.update([\"using\",\"update\",[1,2,3,4]])\n",
    "print(set_like)\n"
   ]
  },
  {
   "cell_type": "code",
   "execution_count": 12,
   "metadata": {},
   "outputs": [
    {
     "data": {
      "text/plain": [
       "{13, 17, 19}"
      ]
     },
     "execution_count": 12,
     "metadata": {},
     "output_type": "execute_result"
    }
   ],
   "source": [
    "# #1) Creating set\n",
    "# primes={3,5,7,9,11,13}\n",
    "# type(primes)\n",
    "\n",
    "# # 2) Creating set with constructor\n",
    "# unique=set(\"thegeeksstuff\");\n",
    "# unique\n",
    "\n",
    "# # 3) Creating empty set\n",
    "# empty={}\n",
    "# type(empty)\n",
    "# empty=set();\n",
    "# type(empty)\n",
    "\n",
    "# #4) Creating set from List\n",
    "# primesList=[3,5,7,11,13,17];\n",
    "# primeSet=set(primesList)\n",
    "# type(primeSet)\n",
    "# primeSet\n",
    "\n",
    "# # 5) Creating set from tuple\n",
    "# p=(3,5,7,11,13);\n",
    "# primes=set(p);\n",
    "# type(primes)\n",
    "# primes\n",
    "\n",
    "# # 6) Accessing values in Set\n",
    "# Primes = {3, 5, 7, 11, 13};\n",
    "# #Primes[1]; # uncommenting this throw error\n",
    "\n",
    "# #7) Using Add method\n",
    "# primes={3,5,7,11};\n",
    "# primes.add(19);\n",
    "# primes\n",
    "\n",
    "# # 8) Using update method\n",
    "# plist=[12,14,15,16];\n",
    "# primes.update(plist);\n",
    "# primes\n",
    "\n",
    "# #9) Using discard\n",
    "# primes={3, 5, 'santosh', 7, 11, 12, 14, 15, 16, 19};\n",
    "# primes.discard(\"santosh\")\n",
    "\n",
    "# # 10) Using remove\n",
    "# primes = {3, 5, 7, 11, 12, 14, 15, 16, 19}\n",
    "# primes.remove(11);\n",
    "# primes;\n",
    "\n",
    "# # 11) Union operation on sets\n",
    "# prime1={3,5,7,11};\n",
    "# prime2={3,5,7,11,13,17,19}\n",
    "# primes=prime1 | prime2\n",
    "# primes\n",
    "\n",
    "# # 12) Intersection operation on Sets\n",
    "# prime1={3,5,7,11};\n",
    "# prime2={3,5,7,11,13,17,19}\n",
    "# primes=prime1 &  prime2\n",
    "# primes\n",
    "\n",
    "# 13) Difference operation on sets\n",
    "prime2={3,5,7,11,13,17,19}\n",
    "prime1={3,5,7,11};\n",
    "primes=prime2-prime1\n",
    "primes\n",
    "\n",
    "# # 14) Symmetric difference\n",
    "# prime2={3,5,7,11,13,17,19}\n",
    "# prime1={3,5,7,11,91,101};\n",
    "# primes=prime2 ^ prime1\n",
    "# primes\n",
    "\n",
    "# # 15) Compare two sets\n",
    "# prime1={3,5,7,11,91,101};\n",
    "# prime={3,5,7,11,91,101};\n",
    "# test=prime==prime1\n",
    "# test\n",
    "\n",
    "# prime1={3,5,7,11,91,101};\n",
    "# prime1={3,5,7,11};\n",
    "# test=prime2<prime1\n",
    "# test\n",
    "\n",
    "# #16) Membership test on sets\n",
    "# prime1={3,5,7,11,91,101};\n",
    "# test= 3 in prime1\n",
    "# test\n",
    "\n",
    "# # 17) Iterating on set\n",
    "# primes={3,5,7,11,91,101};\n",
    "# for prime in primes:\n",
    "#     print(prime);\n",
    "\n",
    "# # 18) Clearing a set\n",
    "# prime1\n",
    "# {3, 5, 101, 7, 11, 91}\n",
    "# prime1.clear()\n",
    "\n",
    "# #19) interesting problem\n",
    "# number = [1,2,3,4,5,2,3,4,7,8,9,8,12,13,14,14,19]\n",
    "# print (set(number))"
   ]
  },
  {
   "cell_type": "markdown",
   "metadata": {},
   "source": [
    "[more operations on sets , the above eg](https://www.thegeekstuff.com/2019/04/python-set-examples/)"
   ]
  },
  {
   "cell_type": "code",
   "execution_count": 17,
   "metadata": {},
   "outputs": [
    {
     "name": "stdout",
     "output_type": "stream",
     "text": [
      "2\n",
      "1 2\n",
      "1.5\n"
     ]
    }
   ],
   "source": [
    "def average(array):\n",
    "    # your code goes here\n",
    "    array = set(array)\n",
    "    return sum(array)/len(array)\n",
    "if __name__ == '__main__':\n",
    "    n = int(input())\n",
    "#     arr = list(map(int,input().split()))\n",
    "    arr = list(map(int, input().split()))\n",
    "    \n",
    "#     print((arr))\n",
    "    \n",
    "    result = average(arr)\n",
    "    print(result)"
   ]
  }
 ],
 "metadata": {
  "kernelspec": {
   "display_name": "Python 3",
   "language": "python",
   "name": "python3"
  },
  "language_info": {
   "codemirror_mode": {
    "name": "ipython",
    "version": 3
   },
   "file_extension": ".py",
   "mimetype": "text/x-python",
   "name": "python",
   "nbconvert_exporter": "python",
   "pygments_lexer": "ipython3",
   "version": "3.7.3"
  }
 },
 "nbformat": 4,
 "nbformat_minor": 2
}
