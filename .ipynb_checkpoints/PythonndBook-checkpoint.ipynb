{
 "cells": [
  {
   "cell_type": "code",
   "execution_count": 10,
   "metadata": {},
   "outputs": [
    {
     "name": "stdout",
     "output_type": "stream",
     "text": [
      "in first ith 0 = 2\n",
      "in first ith 1 = 2\n",
      "in 2nd ith 1 = 1\n",
      "in first ith 2 = 2\n",
      "in first ith 3 = 2\n",
      "in first ith 4 = 2\n",
      "in first ith 5 = 2\n",
      "2\n"
     ]
    }
   ],
   "source": [
    "lista = [2,4,1,2,5,6]\n",
    "length = len(lista)\n",
    "temp = lista[0]\n",
    "for i in range(length):\n",
    "    \n",
    "    print(\"in first ith {} = {}\".format(i,temp))\n",
    "    if i == length -1:\n",
    "        break\n",
    "    if lista[i+1] < temp :\n",
    "        temp = lista[i+1]\n",
    "        print(\"in 2nd ith {} = {}\".format(i,temp))\n",
    "print(temp)"
   ]
  }
 ],
 "metadata": {
  "kernelspec": {
   "display_name": "Python 3",
   "language": "python",
   "name": "python3"
  },
  "language_info": {
   "codemirror_mode": {
    "name": "ipython",
    "version": 3
   },
   "file_extension": ".py",
   "mimetype": "text/x-python",
   "name": "python",
   "nbconvert_exporter": "python",
   "pygments_lexer": "ipython3",
   "version": "3.7.3"
  }
 },
 "nbformat": 4,
 "nbformat_minor": 2
}
