{
 "cells": [
  {
   "cell_type": "code",
   "execution_count": 1,
   "metadata": {},
   "outputs": [],
   "source": [
    "class A(object):\n",
    "    def __init__(self, string0):\n",
    "        self.string0 = string0\n",
    "    @classmethod\n",
    "    def print_class_method(cls,string1):\n",
    "        print(string1)\n",
    "    \n",
    "    @staticmethod\n",
    "    def print_static_method(string2):\n",
    "        print(string2)\n",
    "    \n",
    "    def print_instance_method():\n",
    "        print(self.string0)"
   ]
  }
 ],
 "metadata": {
  "kernelspec": {
   "display_name": "Python 3",
   "language": "python",
   "name": "python3"
  },
  "language_info": {
   "codemirror_mode": {
    "name": "ipython",
    "version": 3
   },
   "file_extension": ".py",
   "mimetype": "text/x-python",
   "name": "python",
   "nbconvert_exporter": "python",
   "pygments_lexer": "ipython3",
   "version": "3.7.3"
  }
 },
 "nbformat": 4,
 "nbformat_minor": 2
}
