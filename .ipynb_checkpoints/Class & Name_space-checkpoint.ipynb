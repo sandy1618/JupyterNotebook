{
 "cells": [
  {
   "cell_type": "markdown",
   "metadata": {},
   "source": [
    "# Classes and Namespaces"
   ]
  },
  {
   "cell_type": "markdown",
   "metadata": {},
   "source": [
    "[Runestone reference](https://runestone.academy/runestone/books/published/pythonds/Introduction/ObjectOrientedProgramminginPythonDefiningClasses.html)\n",
    "[VeryusefulPyhtonReferenceforDatamodels](https://docs.python.org/3.2/reference/datamodel.html)\n",
    "\n",
    "#### Questions I am trying to answer is :\n",
    "> What exactly is self, and how does it work? Its importance ? \n",
    "\n",
    "> What is `__init__() and __call__()`and when to use what?"
   ]
  },
  {
   "cell_type": "code",
   "execution_count": 19,
   "metadata": {},
   "outputs": [
    {
     "name": "stdout",
     "output_type": "stream",
     "text": [
      "2 / 4\n",
      "2/4\n",
      "2/4\n",
      "6/8\n",
      "False\n"
     ]
    }
   ],
   "source": [
    "#Nice Definition of a class in python\n",
    "class Fraction:\n",
    "    # Create the first constructor \n",
    "    def __init__(self,top,bottom):\n",
    "        self.num = top\n",
    "        self.den = bottom\n",
    "    def show(self):# Method of object to print string. \n",
    "     print(self.num,\"/\",self.den)\n",
    "    #In order to make printing work properly, we need to tell the Fraction class how to convert itself into a string. This is what the print function needs in order to do its job.\n",
    "    def __str__(self):\n",
    "        return str(self.num)+\"/\"+str(self.den)\n",
    "    def __call__(self):\n",
    "        return str(self.num)+\"/\"+str(self.den)\n",
    "    def __add__(self,otherfraction):\n",
    "        newnum = self.num * otherfraction.den + self.den*otherfraction.num\n",
    "        newden = self.den*otherfraction.den\n",
    "        return Fraction(newnum,newden)\n",
    "    #for deep equlaity we override __eq__ methohd\n",
    "    def __eq__(self,otherfraction):\n",
    "        firstnum = self.num * otherfraction.den\n",
    "        secondnum = otherfraction.num *self.den\n",
    "        return firstnum == secondnum\n",
    "    \n",
    "myf = Fraction(2,4)\n",
    "myf.show()\n",
    "print(myf)  # Demonstrating the use of __str__\n",
    "print(myf()) # calling a function\n",
    "f1=Fraction(1,4)\n",
    "f2=Fraction(1,2)\n",
    "f3 = f1+f2\n",
    "print(f3)\n",
    "\n",
    "# shallow equality is basicaly equality by reference\n",
    "#deep equality is equality by valuenewn\n",
    "#First testing shallow equality \n",
    "x = Fraction(1,2)\n",
    "# y = x #o/p True\n",
    "y = Fraction(2,5) # Two diff objs. need for deep equality\n",
    "print(x == y)\n",
    "# Python"
   ]
  },
  {
   "cell_type": "code",
   "execution_count": 45,
   "metadata": {},
   "outputs": [
    {
     "name": "stdout",
     "output_type": "stream",
     "text": [
      "1\n",
      "apple\n"
     ]
    }
   ],
   "source": [
    "# My own example to understand string attribures in classes \n",
    "class Fruits:\n",
    "    def __init__(self,name):\n",
    "        self.name = name\n",
    "    def __str__(self):\n",
    "        return str(self.name)\n",
    "#differenct test cases \n",
    "#Having Integer input \n",
    "fruit = Fruits(1)\n",
    "print(fruit)\n",
    "#Having string input \n",
    "fruit = Fruits(\"apple\")\n",
    "print(fruit)\n",
    "#having some random object # Produces a type error \n",
    "# fruit = Fruits(apple)\n",
    "# print(fruit)"
   ]
  },
  {
   "cell_type": "code",
   "execution_count": 48,
   "metadata": {},
   "outputs": [
    {
     "ename": "NameError",
     "evalue": "name 'mango' is not defined",
     "output_type": "error",
     "traceback": [
      "\u001b[0;31m----------------------------------------\u001b[0m",
      "\u001b[0;31mNameError\u001b[0mTraceback (most recent call last)",
      "\u001b[0;32m<ipython-input-48-dc8216a1b8d1>\u001b[0m in \u001b[0;36m<module>\u001b[0;34m\u001b[0m\n\u001b[1;32m      8\u001b[0m \u001b[0;31m#using *\u001b[0m\u001b[0;34m\u001b[0m\u001b[0;34m\u001b[0m\u001b[0;34m\u001b[0m\u001b[0m\n\u001b[1;32m      9\u001b[0m \u001b[0;31m# basket = [\"apple\" , \"mango\"]\u001b[0m\u001b[0;34m\u001b[0m\u001b[0;34m\u001b[0m\u001b[0;34m\u001b[0m\u001b[0m\n\u001b[0;32m---> 10\u001b[0;31m \u001b[0mbasket\u001b[0m \u001b[0;34m=\u001b[0m \u001b[0;34m[\u001b[0m\u001b[0mapple\u001b[0m \u001b[0;34m,\u001b[0m \u001b[0mmango\u001b[0m\u001b[0;34m]\u001b[0m\u001b[0;34m\u001b[0m\u001b[0;34m\u001b[0m\u001b[0m\n\u001b[0m\u001b[1;32m     11\u001b[0m \u001b[0mfruit\u001b[0m \u001b[0;34m=\u001b[0m \u001b[0mFruits\u001b[0m\u001b[0;34m(\u001b[0m\u001b[0;34m*\u001b[0m\u001b[0mbasket\u001b[0m\u001b[0;34m)\u001b[0m\u001b[0;34m\u001b[0m\u001b[0;34m\u001b[0m\u001b[0m\n\u001b[1;32m     12\u001b[0m \u001b[0mprint\u001b[0m\u001b[0;34m(\u001b[0m\u001b[0mfruit\u001b[0m\u001b[0;34m)\u001b[0m\u001b[0;34m\u001b[0m\u001b[0;34m\u001b[0m\u001b[0m\n",
      "\u001b[0;31mNameError\u001b[0m: name 'mango' is not defined"
     ]
    }
   ],
   "source": [
    "#Learning to use * and class(object)\n",
    "class Fruits(object):\n",
    "    def __init__(self,fruit1,fruit2):\n",
    "        self.fruit1 = fruit1\n",
    "        self.fruit2 = fruit2\n",
    "    def __str__(self):\n",
    "        return str(self.fruit1) + self.fruit2\n",
    "#using * \n",
    "basket = [\"apple\" , \"mango\"] # NameError: name 'mango' is not defined\n",
    "# basket = [apple , mango]\n",
    "fruit = Fruits(*basket)\n",
    "print(fruit)"
   ]
  },
  {
   "cell_type": "markdown",
   "metadata": {},
   "source": [
    "### Operator Overloading \n",
    "[VeryusefulPyhtonReferenceforDatamodels](https://docs.python.org/3.2/reference/datamodel.html)\n",
    "![operator-overloading](operator_overloading.png)\n",
    "![](operator_overloading2.png)"
   ]
  },
  {
   "cell_type": "markdown",
   "metadata": {},
   "source": [
    "### Inheretence through implementing logic gates \n",
    "[classes reference](https://runestone.academy/runestone/books/published/pythonds/Introduction/ObjectOrientedProgramminginPythonDefiningClasses.html#a-fraction-class)"
   ]
  },
  {
   "cell_type": "code",
   "execution_count": 17,
   "metadata": {},
   "outputs": [
    {
     "name": "stdout",
     "output_type": "stream",
     "text": [
      "I am green in color\n",
      "None\n",
      "this is my cost 124\n",
      "None\n"
     ]
    },
    {
     "data": {
      "text/plain": [
       "True"
      ]
     },
     "execution_count": 17,
     "metadata": {},
     "output_type": "execute_result"
    }
   ],
   "source": [
    "class fruit():\n",
    "    def __init__(self):\n",
    "        print(\"This is fruit class\")\n",
    "    def color(self,colors):\n",
    "        return print(\"I am {} in color\".format(colors))\n",
    "\n",
    "# f = fruit()\n",
    "# print(f.color('red'))\n",
    "\n",
    "class apple(fruit): # inheriting hte prop. of fruit.\n",
    "    def __init__(self):\n",
    "#         print(\"This is apple class\")\n",
    "        fruit.__init__(self) # Taking the same constructor as fruit. We can skip it. \n",
    "#         super(fruit,self).__init__()# didnt work. just forget about this. \n",
    "    def cost(self, cost):\n",
    "        return print(\"this is my cost {}\".format(cost))\n",
    "    \n",
    "a = apple()\n",
    "print(a.color(\"green\"))\n",
    "print(a.cost(124))\n",
    "\n",
    "# checking subclass \n",
    "issubclass(apple,fruit)"
   ]
  },
  {
   "cell_type": "markdown",
   "metadata": {},
   "source": [
    "## Multiple parent inheritence "
   ]
  },
  {
   "cell_type": "code",
   "execution_count": 25,
   "metadata": {},
   "outputs": [
    {
     "name": "stdout",
     "output_type": "stream",
     "text": [
      "I represent eatable\n",
      "I am yellow in color\n",
      "None\n",
      "I am healthy\n",
      "None\n",
      "this is my cost 10\n",
      "None\n"
     ]
    },
    {
     "data": {
      "text/plain": [
       "True"
      ]
     },
     "execution_count": 25,
     "metadata": {},
     "output_type": "execute_result"
    }
   ],
   "source": [
    "class fruit():\n",
    "    def __init__(self):\n",
    "        print(\"This is fruit class\")\n",
    "    def color(self,colors):\n",
    "        return print(\"I am {} in color\".format(colors))\n",
    "        \n",
    "class eatable():\n",
    "    def __init__(self):\n",
    "        print(\"I represent eatable\")\n",
    "    def healthy(self):\n",
    "        return print(\"I am healthy\")\n",
    "class banana(fruit, eatable):\n",
    "    def __init__(self):\n",
    "        eatable.__init__(self)\n",
    "    def cost(self, cost):\n",
    "        return print(\"this is my cost {}\".format(cost))\n",
    "\n",
    "b = banana()\n",
    "print(b.color(\"yellow\"))\n",
    "print(b.healthy())\n",
    "print(b.cost(10))\n",
    "\n",
    "issubclass(banana,eatable)\n",
    "issubclass(banana,fruit)"
   ]
  },
  {
   "cell_type": "code",
   "execution_count": 26,
   "metadata": {},
   "outputs": [
    {
     "name": "stdout",
     "output_type": "stream",
     "text": [
      "Enter pin A input for gateG2-->0\n",
      "Enter Pin B input for gate G2-->0\n"
     ]
    },
    {
     "data": {
      "text/plain": [
       "0"
      ]
     },
     "execution_count": 26,
     "metadata": {},
     "output_type": "execute_result"
    }
   ],
   "source": [
    "class LogicGate:\n",
    "    def __init__(self,n):\n",
    "        self.label = n\n",
    "        self.output = None\n",
    "    def getLabel(self):\n",
    "        return self.label\n",
    "    def getOutput(self):\n",
    "        self.output = self.performGateLogic()\n",
    "        return self.output\n",
    "class BinaryGate(LogicGate):\n",
    "    def __init__(self,n):\n",
    "        LogicGate.__init__(self,n)\n",
    "        # I still could not understand how the child class is taking the constructor of parent and then addig its own \n",
    "        self.pinA = None\n",
    "        self.pinB = None\n",
    "    def getPinA(self):\n",
    "        return int(input(\"Enter pin A input for gate\"+self.getLabel()+\"-->\"))\n",
    "    def getPinB(self):\n",
    "        return int(input(\"Enter Pin B input for gate \"+ self.getLabel()+\"-->\"))\n",
    "class UnaryGate(LogicGate):\n",
    "\n",
    "    def __init__(self,n):\n",
    "        LogicGate.__init__(self,n)\n",
    "\n",
    "        self.pin = None\n",
    "\n",
    "    def getPin(self):\n",
    "        return int(input(\"Enter Pin input for gate \"+ self.getLabel()+\"-->\"))\n",
    "\n",
    "# The above were in a sense Blueprint/ Prototype. Now, we use this inheretence prop. \n",
    "class AndGate(BinaryGate):\n",
    "    def __init__(self,n):\n",
    "        super(AndGate,self).__init__(n)\n",
    "        #BinaryGate.__init__(self,n)\n",
    "    def performGateLogic(self):\n",
    "        a = self.getPinA()\n",
    "        b = self.getPinB()\n",
    "        if a == 1 and b ==1:\n",
    "            return 1\n",
    "        else :\n",
    "            return 0\n",
    "# #Now creating an object and using it \n",
    "# g1 = AndGate(\"G1\")\n",
    "# g1.getOutput()\n",
    "#Creating an or gate now \n",
    "class OrGate(BinaryGate):\n",
    "    def __init__(self,n):\n",
    "        super(OrGate,self).__init__(n)\n",
    "    def performGateLogic(self):\n",
    "        a = self.getPinA()\n",
    "        b = self.getPinB()\n",
    "        if a ==1 or b == 1:\n",
    "            return 1\n",
    "        else :\n",
    "            return 0\n",
    "g2 = OrGate(\"G2\")\n",
    "g2.getOutput()"
   ]
  },
  {
   "cell_type": "markdown",
   "metadata": {},
   "source": [
    "## Understanding Self\n"
   ]
  },
  {
   "cell_type": "code",
   "execution_count": 15,
   "metadata": {},
   "outputs": [
    {
     "name": "stdout",
     "output_type": "stream",
     "text": [
      "C1\n",
      "Sandeep\n",
      "C2\n",
      "phegsui\n",
      "Same Age\n"
     ]
    }
   ],
   "source": [
    "class computer : \n",
    "#     print(\"hello\")\n",
    "    def __init__(self):\n",
    "        self.name = \"Sandeep\"\n",
    "        self.age = 24\n",
    "    def compare(self,other):\n",
    "        if self.age == other.age:\n",
    "            print(\"Same Age\")\n",
    "        else: \n",
    "            print(\"Not same age\")\n",
    "    \n",
    "    \n",
    "c1 = computer()\n",
    "print(\"C1\")\n",
    "print(c1.name)\n",
    "\n",
    "\n",
    "c2 = computer()\n",
    "print(\"C2\")\n",
    "c2.name = \"phegsui\"\n",
    "print(c2.name)\n",
    "\n",
    "c1.compare(c2)"
   ]
  },
  {
   "cell_type": "markdown",
   "metadata": {},
   "source": [
    "#### Some Definitions \n",
    "\n",
    "Instance attributes in python and the init method\n",
    "\n",
    "You can also provide the values for the attributes at runtime. This is done by defining the attributes inside the init method. "
   ]
  },
  {
   "cell_type": "code",
   "execution_count": 20,
   "metadata": {},
   "outputs": [
    {
     "name": "stdout",
     "output_type": "stream",
     "text": [
      "Its in init\n",
      "<__main__.practice_callback object at 0x7faf682eb6a0>\n",
      "Its in call\n",
      "None\n"
     ]
    }
   ],
   "source": [
    "class practice_callback:\n",
    "    def __init__(self):\n",
    "        print(\"Its in init\")\n",
    "    def __call__(self):\n",
    "        print(\"Its in call\")\n",
    "a = practice_callback()\n",
    "print(a)\n",
    "print(a())"
   ]
  },
  {
   "cell_type": "markdown",
   "metadata": {},
   "source": [
    "#### My Own Understanding of Classes \n",
    "[StackOverflow](https://stackoverflow.com/questions/23944657/typeerror-method-takes-1-positional-argument-but-2-were-given)\n",
    "\n"
   ]
  },
  {
   "cell_type": "code",
   "execution_count": 7,
   "metadata": {},
   "outputs": [
    {
     "name": "stdout",
     "output_type": "stream",
     "text": [
      "1\n"
     ]
    }
   ],
   "source": [
    "class math:\n",
    "    def add(self,a,b):\n",
    "        return a+b\n",
    "    @staticmethod\n",
    "    def sub(a,b):\n",
    "        return a-b\n",
    "\n",
    "mymath = math()\n",
    "a=2\n",
    "b=1\n",
    "print(mymath.sub(a,b))"
   ]
  },
  {
   "cell_type": "code",
   "execution_count": null,
   "metadata": {},
   "outputs": [],
   "source": [
    "# Changing Attributes names through a method using self in python \n",
    "class snake:\n",
    "    name = \"python\"\n",
    "\n",
    "    def __init__(self):\n",
    "        self.name = \"python_init\"\n",
    "    def __call__(self):\n",
    "        return self.name\n",
    "    def changename(self, new_name):\n",
    "        self.name = new_name\n",
    "        return self.name\n",
    "#Initiate the class\n",
    "snakes = snake()\n",
    "#printing snakes.name --> always``b```` printing the name in __init__ method \n",
    "print(snakes.name)\n",
    "\n",
    "\n"
   ]
  },
  {
   "cell_type": "code",
   "execution_count": 13,
   "metadata": {},
   "outputs": [
    {
     "name": "stdout",
     "output_type": "stream",
     "text": [
      "1 2 3\n",
      "1 2 3\n",
      "1 2 3 \n",
      "1 2 3 \n"
     ]
    },
    {
     "ename": "TypeError",
     "evalue": "__init__() missing 2 required positional arguments: 'y' and 'z'",
     "output_type": "error",
     "traceback": [
      "\u001b[0;31m---------------------------------------------------------------------------\u001b[0m",
      "\u001b[0;31mTypeError\u001b[0m                                 Traceback (most recent call last)",
      "\u001b[0;32m<ipython-input-13-89d8a6dfcc2f>\u001b[0m in \u001b[0;36m<module>\u001b[0;34m\u001b[0m\n\u001b[1;32m     35\u001b[0m         \u001b[0mpoints\u001b[0m\u001b[0;34m.\u001b[0m\u001b[0mappend\u001b[0m\u001b[0;34m(\u001b[0m\u001b[0ma\u001b[0m\u001b[0;34m)\u001b[0m\u001b[0;34m\u001b[0m\u001b[0;34m\u001b[0m\u001b[0m\n\u001b[1;32m     36\u001b[0m \u001b[0;34m\u001b[0m\u001b[0m\n\u001b[0;32m---> 37\u001b[0;31m     \u001b[0ma\u001b[0m\u001b[0;34m,\u001b[0m \u001b[0mb\u001b[0m\u001b[0;34m,\u001b[0m \u001b[0mc\u001b[0m\u001b[0;34m,\u001b[0m \u001b[0md\u001b[0m \u001b[0;34m=\u001b[0m \u001b[0mPoints\u001b[0m\u001b[0;34m(\u001b[0m\u001b[0;34m*\u001b[0m\u001b[0mpoints\u001b[0m\u001b[0;34m[\u001b[0m\u001b[0;36m0\u001b[0m\u001b[0;34m]\u001b[0m\u001b[0;34m)\u001b[0m\u001b[0;34m,\u001b[0m \u001b[0mPoints\u001b[0m\u001b[0;34m(\u001b[0m\u001b[0;34m*\u001b[0m\u001b[0mpoints\u001b[0m\u001b[0;34m[\u001b[0m\u001b[0;36m1\u001b[0m\u001b[0;34m]\u001b[0m\u001b[0;34m)\u001b[0m\u001b[0;34m,\u001b[0m \u001b[0mPoints\u001b[0m\u001b[0;34m(\u001b[0m\u001b[0;34m*\u001b[0m\u001b[0mpoints\u001b[0m\u001b[0;34m[\u001b[0m\u001b[0;36m2\u001b[0m\u001b[0;34m]\u001b[0m\u001b[0;34m)\u001b[0m\u001b[0;34m,\u001b[0m \u001b[0mPoints\u001b[0m\u001b[0;34m(\u001b[0m\u001b[0;34m*\u001b[0m\u001b[0mpoints\u001b[0m\u001b[0;34m[\u001b[0m\u001b[0;36m3\u001b[0m\u001b[0;34m]\u001b[0m\u001b[0;34m)\u001b[0m\u001b[0;34m\u001b[0m\u001b[0;34m\u001b[0m\u001b[0m\n\u001b[0m\u001b[1;32m     38\u001b[0m     \u001b[0mx\u001b[0m \u001b[0;34m=\u001b[0m \u001b[0;34m(\u001b[0m\u001b[0mb\u001b[0m \u001b[0;34m-\u001b[0m \u001b[0ma\u001b[0m\u001b[0;34m)\u001b[0m\u001b[0;34m.\u001b[0m\u001b[0mcross\u001b[0m\u001b[0;34m(\u001b[0m\u001b[0mc\u001b[0m \u001b[0;34m-\u001b[0m \u001b[0mb\u001b[0m\u001b[0;34m)\u001b[0m\u001b[0;34m\u001b[0m\u001b[0;34m\u001b[0m\u001b[0m\n\u001b[1;32m     39\u001b[0m     \u001b[0my\u001b[0m \u001b[0;34m=\u001b[0m \u001b[0;34m(\u001b[0m\u001b[0mc\u001b[0m \u001b[0;34m-\u001b[0m \u001b[0mb\u001b[0m\u001b[0;34m)\u001b[0m\u001b[0;34m.\u001b[0m\u001b[0mcross\u001b[0m\u001b[0;34m(\u001b[0m\u001b[0md\u001b[0m \u001b[0;34m-\u001b[0m \u001b[0mc\u001b[0m\u001b[0;34m)\u001b[0m\u001b[0;34m\u001b[0m\u001b[0;34m\u001b[0m\u001b[0m\n",
      "\u001b[0;31mTypeError\u001b[0m: __init__() missing 2 required positional arguments: 'y' and 'z'"
     ]
    }
   ],
   "source": [
    "# Class problem , finding angle btw planes , hacker earth\n",
    "# Aim is to figure out the class and not about lgic \n",
    "import math\n",
    "\n",
    "class Points(object):\n",
    "    def __init__(self, x, y, z):\n",
    "        self.x = x\n",
    "        self.y = y\n",
    "        self.z = z\n",
    "    \n",
    "    def __sub__(self, no):\n",
    "        return Points(self.x - no.x,self.y - no.y,self.z - no.z)\n",
    "    \n",
    "\n",
    "    def dot(self, no):\n",
    "        x = self.x * no.x\n",
    "        y = self.y * no.y\n",
    "        z = self.z * no.z\n",
    "        return x+y+z\n",
    "    \n",
    "\n",
    "    def cross(self, no):\n",
    "        x = self.y * no.z - self.z * no.y\n",
    "        y = self.z * no.x - self.x * no.z\n",
    "        z = self.x * no.y - self.y * no.x\n",
    "        return Points(x, y, z)\n",
    "        \n",
    "    def absolute(self):\n",
    "        return pow((self.x ** 2 + self.y ** 2 + self.z ** 2), 0.5)\n",
    "\n",
    "if __name__ == '__main__':\n",
    "    points = []\n",
    "    for i in range(4):\n",
    "        a = [map(float, input().split())]\n",
    "        points.append(a)\n",
    "\n",
    "    a, b, c, d = Points(*points[0]), Points(*points[1]), Points(*points[2]), Points(*points[3])\n",
    "    x = (b - a).cross(c - b)\n",
    "    y = (c - b).cross(d - c)\n",
    "    angle = math.acos(x.dot(y) / (x.absolute() * y.absolute()))\n",
    "\n",
    "    print(\"{}\".format( math.degrees(angle)))"
   ]
  },
  {
   "cell_type": "code",
   "execution_count": 15,
   "metadata": {},
   "outputs": [
    {
     "ename": "TypeError",
     "evalue": "'list' object is not callable",
     "output_type": "error",
     "traceback": [
      "\u001b[0;31m---------------------------------------------------------------------------\u001b[0m",
      "\u001b[0;31mTypeError\u001b[0m                                 Traceback (most recent call last)",
      "\u001b[0;32m<ipython-input-15-69c00edd72a8>\u001b[0m in \u001b[0;36m<module>\u001b[0;34m\u001b[0m\n\u001b[1;32m     29\u001b[0m \u001b[0;34m\u001b[0m\u001b[0m\n\u001b[1;32m     30\u001b[0m \u001b[0;34m\u001b[0m\u001b[0m\n\u001b[0;32m---> 31\u001b[0;31m \u001b[0mpoints\u001b[0m \u001b[0;34m=\u001b[0m \u001b[0mlist\u001b[0m\u001b[0;34m(\u001b[0m\u001b[0;34m)\u001b[0m\u001b[0;34m\u001b[0m\u001b[0;34m\u001b[0m\u001b[0m\n\u001b[0m\u001b[1;32m     32\u001b[0m \u001b[0;32mfor\u001b[0m \u001b[0mi\u001b[0m \u001b[0;32min\u001b[0m \u001b[0mrange\u001b[0m\u001b[0;34m(\u001b[0m\u001b[0;36m4\u001b[0m\u001b[0;34m)\u001b[0m\u001b[0;34m:\u001b[0m\u001b[0;34m\u001b[0m\u001b[0;34m\u001b[0m\u001b[0m\n\u001b[1;32m     33\u001b[0m     \u001b[0ma\u001b[0m \u001b[0;34m=\u001b[0m \u001b[0mmap\u001b[0m\u001b[0;34m(\u001b[0m\u001b[0mfloat\u001b[0m\u001b[0;34m,\u001b[0m \u001b[0mraw_input\u001b[0m\u001b[0;34m(\u001b[0m\u001b[0;34m)\u001b[0m\u001b[0;34m.\u001b[0m\u001b[0msplit\u001b[0m\u001b[0;34m(\u001b[0m\u001b[0;34m)\u001b[0m\u001b[0;34m)\u001b[0m\u001b[0;34m\u001b[0m\u001b[0;34m\u001b[0m\u001b[0m\n",
      "\u001b[0;31mTypeError\u001b[0m: 'list' object is not callable"
     ]
    }
   ],
   "source": [
    "import math\n",
    "\n",
    "class Points(object):\n",
    "    def __init__(self, x, y, z):\n",
    "        self.x = x\n",
    "        self.y = y\n",
    "        self.z = z\n",
    "\n",
    "    def __sub__(self, no):\n",
    "        x = self.x - no.x\n",
    "        y = self.y - no.y\n",
    "        z = self.z - no.z\n",
    "        return Points(x, y, z)\n",
    "\n",
    "    def dot(self, no):\n",
    "        x = self.x * no.x\n",
    "        y = self.y * no.y\n",
    "        z = self.z * no.z\n",
    "        return x + y + z\n",
    "\n",
    "    def cross(self, no):\n",
    "        x = self.y * no.z - self.z * no.y\n",
    "        y = self.z * no.x - self.x * no.z\n",
    "        z = self.x * no.y - self.y * no.x\n",
    "        return Points(x, y, z)\n",
    "\n",
    "    def absolute(self):\n",
    "        return pow((self.x ** 2 + self.y ** 2 + self.z ** 2), 0.5)\n",
    "\n",
    "\n",
    "points = list()\n",
    "for i in range(4):\n",
    "    a = map(float, raw_input().split())\n",
    "    points.append(a)\n",
    "\n",
    "A, B, C, D = Points(*points[0]), Points(*points[1]), Points(*points[2]), Points(*points[3])\n",
    "X = (B - A).cross(C - B)\n",
    "Y = (C - B).cross(D - C)\n",
    "angle = math.acos(X.dot(Y) / (X.absolute() * Y.absolute()))\n",
    "\n",
    "print (\"%.2f\" % math.degrees(angle))"
   ]
  },
  {
   "cell_type": "code",
   "execution_count": 54,
   "metadata": {},
   "outputs": [
    {
     "name": "stdout",
     "output_type": "stream",
     "text": [
      "['sandee', 1, 'na', 3]\n",
      "sandee 1 na 3\n",
      "1\n",
      "1 1\n"
     ]
    }
   ],
   "source": [
    "# This example illustrates the use of * for unpacking pyton objects. Very useful for classes . \n",
    "list1 = [\"sandee\",1,\"na\",3]\n",
    "print(list1)\n",
    "print(*list1)\n",
    "a , b = 1,2\n",
    "print(a)\n",
    "print(*[1,1])"
   ]
  },
  {
   "cell_type": "code",
   "execution_count": 78,
   "metadata": {},
   "outputs": [
    {
     "name": "stdout",
     "output_type": "stream",
     "text": [
      "2 1\n",
      "5 6\n",
      "7.00+7.00i\n",
      "-3.00-5.00i\n",
      "4.00+17.00i\n",
      "0.26-0.11i\n",
      "2.24+0.00i\n",
      "7.81+0.00i\n"
     ]
    }
   ],
   "source": [
    "# HackerRank Problem  Complex number \n",
    "import math\n",
    "import cmath\n",
    "\n",
    "class Complex(object):\n",
    "    def __init__(self, real, imaginary):\n",
    "        self.real = real \n",
    "        self.imaginary = imaginary\n",
    "    def __add__(self, no):\n",
    "        real2 = self.real + no.real\n",
    "        imaginary2 = self.imaginary + no.imaginary \n",
    "        return Complex(*[real2,imaginary2])\n",
    "    def __sub__(self, no):\n",
    "        real2 = self.real - no.real\n",
    "        imaginary2 = self.imaginary - no.imaginary \n",
    "        return Complex(*[real2,imaginary2])\n",
    "        \n",
    "    def __mul__(self, no):\n",
    "        mult = (complex(self.real,self.imaginary))*(complex(no.real,no.imaginary))\n",
    "        return Complex(*[mult.real,mult.imag])\n",
    "    def __truediv__(self, no):\n",
    "        mult = (complex(self.real,self.imaginary))/(complex(no.real,no.imaginary))\n",
    "        return Complex(*[mult.real,mult.imag])\n",
    "\n",
    "    def mod(self):\n",
    "        value = math.sqrt(math.pow(self.real,2)+ math.pow(self.imaginary,2))\n",
    "        return Complex(*[value,0])\n",
    "\n",
    "    def __str__(self):\n",
    "        if self.imaginary == 0:\n",
    "            result = \"%.2f+0.00i\" % (self.real)\n",
    "        elif self.real == 0:\n",
    "            if self.imaginary >= 0:\n",
    "                result = \"0.00+%.2fi\" % (self.imaginary)\n",
    "            else:\n",
    "                result = \"0.00-%.2fi\" % (abs(self.imaginary))\n",
    "        elif self.imaginary > 0:\n",
    "            result = \"%.2f+%.2fi\" % (self.real, self.imaginary)\n",
    "        else:\n",
    "            result = \"%.2f-%.2fi\" % (self.real, abs(self.imaginary))\n",
    "        return result\n",
    "\n",
    "if __name__ == '__main__':\n",
    "    c = map(float, input().split())\n",
    "    d = map(float, input().split())\n",
    "    x = Complex(*c)\n",
    "    y = Complex(*d)\n",
    "#     print(x+y)\n",
    "#     print(*[x+y, x-y,x*y], sep='\\n')\n",
    "    print(*map(str, [x+y, x-y, x*y, x/y, x.mod(), y.mod()]), sep='\\n')"
   ]
  },
  {
   "cell_type": "markdown",
   "metadata": {},
   "source": [
    "### Conclusinob\n",
    "The self helps in makeing the method refer to the object it is attached with.\n",
    "\n",
    "You can also provide the values for the attributes at runtime. This is done by defining the attributes inside the init method. \n",
    "[hackerearth_ref](https://www.hackerearth.com/ja/practice/python/object-oriented-programming/classes-and-objects-i/tutorial/)\n"
   ]
  },
  {
   "cell_type": "code",
   "execution_count": 26,
   "metadata": {},
   "outputs": [
    {
     "name": "stdout",
     "output_type": "stream",
     "text": [
      "python\n",
      "anaconda\n"
     ]
    }
   ],
   "source": [
    "class Snake:\n",
    "\n",
    "    def __init__(self, name):\n",
    "        self.name = name\n",
    "\n",
    "    def change_name(self, new_name):\n",
    "        self.name = new_name\n",
    "        \n",
    " # two variables are instantiated\n",
    "python = Snake(\"python\")\n",
    "anaconda = Snake(\"anaconda\")\n",
    "print(python.name)\n",
    "print(anaconda.name)"
   ]
  },
  {
   "cell_type": "markdown",
   "metadata": {},
   "source": [
    "## Understanding namespace\n"
   ]
  },
  {
   "cell_type": "code",
   "execution_count": 6,
   "metadata": {},
   "outputs": [
    {
     "name": "stdout",
     "output_type": "stream",
     "text": [
      "begin()->  ['In', 'Out', '_', '__', '___', '__builtin__', '__builtins__', '__doc__', '__loader__', '__name__', '__package__', '__spec__', '_dh', '_i', '_i1', '_i2', '_i3', '_i4', '_i5', '_i6', '_ih', '_ii', '_iii', '_oh', 'a_var', 'exit', 'foo', 'get_ipython', 'quit']\n",
      "inside foo()->  ['b_var']\n",
      "end()->  ['In', 'Out', '_', '__', '___', '__builtin__', '__builtins__', '__doc__', '__loader__', '__name__', '__package__', '__spec__', '_dh', '_i', '_i1', '_i2', '_i3', '_i4', '_i5', '_i6', '_ih', '_ii', '_iii', '_oh', 'a_var', 'exit', 'foo', 'get_ipython', 'quit']\n"
     ]
    }
   ],
   "source": [
    "a_var = 10\n",
    "print(\"begin()-> \", dir())\n",
    "def foo():\n",
    " b_var = 11\n",
    " print(\"inside foo()-> \", dir())\n",
    "foo()\n",
    "print(\"end()-> \", dir())"
   ]
  },
  {
   "cell_type": "code",
   "execution_count": null,
   "metadata": {},
   "outputs": [],
   "source": []
  }
 ],
 "metadata": {
  "kernelspec": {
   "display_name": "Python 3",
   "language": "python",
   "name": "python3"
  },
  "language_info": {
   "codemirror_mode": {
    "name": "ipython",
    "version": 3
   },
   "file_extension": ".py",
   "mimetype": "text/x-python",
   "name": "python",
   "nbconvert_exporter": "python",
   "pygments_lexer": "ipython3",
   "version": "3.7.3"
  }
 },
 "nbformat": 4,
 "nbformat_minor": 2
}
